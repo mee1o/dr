{
 "cells": [
  {
   "cell_type": "markdown",
   "metadata": {},
   "source": [
    "### 2识别数字序列的卷积神经网络"
   ]
  },
  {
   "cell_type": "code",
   "execution_count": 1,
   "metadata": {
    "collapsed": false
   },
   "outputs": [],
   "source": [
    "from __future__ import print_function\n",
    "from six.moves import cPickle as pickle"
   ]
  },
  {
   "cell_type": "code",
   "execution_count": 2,
   "metadata": {
    "collapsed": false
   },
   "outputs": [
    {
     "name": "stderr",
     "output_type": "stream",
     "text": [
      "/mnt/bin/anaconda3/lib/python3.5/site-packages/matplotlib/font_manager.py:273: UserWarning: Matplotlib is building the font cache using fc-list. This may take a moment.\n",
      "  warnings.warn('Matplotlib is building the font cache using fc-list. This may take a moment.')\n",
      "/mnt/bin/anaconda3/lib/python3.5/site-packages/matplotlib/font_manager.py:273: UserWarning: Matplotlib is building the font cache using fc-list. This may take a moment.\n",
      "  warnings.warn('Matplotlib is building the font cache using fc-list. This may take a moment.')\n"
     ]
    }
   ],
   "source": [
    "import numpy as np\n",
    "import tensorflow as tf\n",
    "import matplotlib.pyplot as plt\n",
    "\n",
    "% matplotlib inline"
   ]
  },
  {
   "cell_type": "markdown",
   "metadata": {},
   "source": [
    "### 加载数据"
   ]
  },
  {
   "cell_type": "code",
   "execution_count": 10,
   "metadata": {
    "collapsed": false
   },
   "outputs": [
    {
     "name": "stdout",
     "output_type": "stream",
     "text": [
      "Training dataset shape:  (33402, 40, 40)\n",
      "Training labels shape:  (33402, 5)\n"
     ]
    }
   ],
   "source": [
    "pickle_file = 'svhn_multi_train_40.pickle'\n",
    "VALID_SIZE = int(500 / 2)\n",
    "\n",
    "with open(pickle_file, 'rb') as f:\n",
    "    dataset = pickle.load(f)\n",
    "    images = dataset['dataset']\n",
    "    labels = dataset['labels'][:, 1:6]\n",
    "    \n",
    "print('dataset shape: ', images.shape)\n",
    "print('labels shape: ', labels.shape)"
   ]
  },
  {
   "cell_type": "code",
   "execution_count": 11,
   "metadata": {
    "collapsed": false
   },
   "outputs": [
    {
     "name": "stdout",
     "output_type": "stream",
     "text": [
      "dataset shape:  (203402, 40, 40)\n",
      "labels shape:  (203402, 5)\n"
     ]
    }
   ],
   "source": [
    "pickle_file = 'svhn_multi_extra_40.pickle'\n",
    "\n",
    "with open(pickle_file, 'rb') as f:\n",
    "    dataset = pickle.load(f)\n",
    "    images = np.vstack((images, dataset['dataset'][:170000]))\n",
    "    labels = np.vstack((labels, dataset['labels'][:170000, 1:6]))\n",
    "\n",
    "print('dataset shape: ', images.shape)\n",
    "print('labels shape: ', labels.shape)"
   ]
  },
  {
   "cell_type": "code",
   "execution_count": 12,
   "metadata": {
    "collapsed": false
   },
   "outputs": [
    {
     "data": {
      "text/plain": [
       "array([[ 1,  9, 10, 10, 10],\n",
       "       [ 2,  3, 10, 10, 10],\n",
       "       [ 2,  5, 10, 10, 10],\n",
       "       [ 9,  3, 10, 10, 10],\n",
       "       [ 3,  1, 10, 10, 10],\n",
       "       [ 3,  3, 10, 10, 10],\n",
       "       [ 2,  8, 10, 10, 10],\n",
       "       [ 7,  4,  4, 10, 10],\n",
       "       [ 1,  2,  8, 10, 10],\n",
       "       [ 1,  6, 10, 10, 10]], dtype=int8)"
      ]
     },
     "execution_count": 12,
     "metadata": {},
     "output_type": "execute_result"
    }
   ],
   "source": [
    "labels[:10]"
   ]
  },
  {
   "cell_type": "markdown",
   "metadata": {},
   "source": [
    "### 构建交叉验证集"
   ]
  },
  {
   "cell_type": "code",
   "execution_count": 9,
   "metadata": {
    "collapsed": true
   },
   "outputs": [],
   "source": [
    "from sklearn.cross_validation import train_test_split"
   ]
  },
  {
   "cell_type": "code",
   "execution_count": 21,
   "metadata": {
    "collapsed": true
   },
   "outputs": [],
   "source": [
    "train_dataset, valid_dataset , train_labels, valid_labels = train_test_split(images, labels, test_size=0.05, random_state=42)"
   ]
  },
  {
   "cell_type": "code",
   "execution_count": 22,
   "metadata": {
    "collapsed": false
   },
   "outputs": [
    {
     "name": "stdout",
     "output_type": "stream",
     "text": [
      "Training dataset shape:  (193231, 40, 40)\n",
      "Training labels shape:  (193231, 5)\n",
      "Validing dataset shape:  (10171, 40, 40)\n",
      "Validing labels shape:  (10171, 5)\n"
     ]
    }
   ],
   "source": [
    "print('Training dataset shape: ', train_dataset.shape)\n",
    "print('Training labels shape: ', train_labels.shape)\n",
    "print('Validing dataset shape: ', valid_dataset.shape)\n",
    "print('Validing labels shape: ', valid_labels.shape)"
   ]
  },
  {
   "cell_type": "code",
   "execution_count": 23,
   "metadata": {
    "collapsed": false
   },
   "outputs": [
    {
     "name": "stdout",
     "output_type": "stream",
     "text": [
      "(193231, 40, 40)\n",
      "(10171, 40, 40)\n"
     ]
    }
   ],
   "source": [
    "IMAGE_SIZE = 40\n",
    "NUM_DIGITS = 5\n",
    "NUM_LABELS = 11 # 0-9 + 10==doesn't exist\n",
    "NUM_CHANNELS = 1 # grayscale\n",
    "\n",
    "def reformat(dataset, labels):\n",
    "    print(dataset.shape)\n",
    "    dataset = dataset.reshape((-1, IMAGE_SIZE, IMAGE_SIZE, NUM_CHANNELS)).astype(np.float32)\n",
    "    #labels = (np.array([10,1,2,3,4,5,6,7,8,9]) == labels).astype(np.float32) # one-hot encoding\n",
    "\n",
    "    return dataset, labels\n",
    "\n",
    "train_dataset, train_labels = reformat(train_dataset, train_labels)\n",
    "valid_dataset, valid_labels = reformat(valid_dataset, valid_labels)"
   ]
  },
  {
   "cell_type": "raw",
   "metadata": {
    "collapsed": false
   },
   "source": [
    "# BATCH_SIZE * 32 * 32 * 1\n",
    "# conv1: 5 * 5 * 1 * 8\n",
    "# BATCH_SIZE * 16 * 16 * 8\n",
    "# conv2: 5 * 5 * 8 * 16\n",
    "# BATCH_SIZE * 8 * 8 * 16\n",
    "# conv3: 5 * 5 * 16 * 32\n",
    "# BATCH_SIZE * 4 * 4 * 32\n",
    "# fc1: 512 * 64\n",
    "# BATCH_SIZE * 64\n",
    "# fc2: 64 * 10 \n",
    "# BATCH_SIZE * 10"
   ]
  },
  {
   "cell_type": "raw",
   "metadata": {},
   "source": [
    "def equal(a):\n",
    "    offset = 6\n",
    "    return a[0] == a[offset] and all(a[i] == a[i+offset] for i in range(1, 6))\n",
    "\n",
    "def accuracy(predictions, labels):\n",
    "    result = np.apply_along_axis(equal, 1, np.hstack((predictions, labels)))\n",
    "    return tf.reduce_mean(np.cast(result, np.float32)) * 100"
   ]
  },
  {
   "cell_type": "code",
   "execution_count": 24,
   "metadata": {
    "collapsed": false
   },
   "outputs": [],
   "source": [
    "BATCH_SIZE = 64\n",
    "PATCH_SIZE = 5\n",
    "DEPTH_1 = 24\n",
    "DEPTH_2 = 48\n",
    "DEPTH_3 = 80\n",
    "NUM_HIDDEN = 128\n",
    "SEED = 42"
   ]
  },
  {
   "cell_type": "code",
   "execution_count": 25,
   "metadata": {
    "collapsed": true
   },
   "outputs": [],
   "source": [
    "graph = tf.Graph()\n",
    "with graph.as_default():\n",
    "    # Input data\n",
    "    tf_train_dataset = tf.placeholder(tf.float32, shape=(None, IMAGE_SIZE, IMAGE_SIZE, NUM_CHANNELS))\n",
    "    tf_train_labels = tf.placeholder(tf.int64, shape=(None, NUM_DIGITS))\n",
    "    tf_valid_dataset = tf.constant(valid_dataset)\n",
    "    tf_valid_labels = tf.constant(valid_labels, dtype=tf.int64)\n",
    "    \n",
    "    conv1_weights = tf.Variable(tf.truncated_normal([PATCH_SIZE, PATCH_SIZE, NUM_CHANNELS, DEPTH_1], stddev=0.1), name='conv1_weights')\n",
    "    conv1_biases = tf.Variable(tf.zeros([DEPTH_1]), name='conv1_biases')\n",
    "    conv2_weights = tf.Variable(tf.truncated_normal([PATCH_SIZE, PATCH_SIZE, DEPTH_1, DEPTH_2], stddev=0.1), name='conv2_weights')\n",
    "    conv2_biases = tf.Variable(tf.zeros([DEPTH_2]), name='conv2_biases')\n",
    "    conv3_weights = tf.Variable(tf.truncated_normal([PATCH_SIZE, PATCH_SIZE, DEPTH_2, DEPTH_3], stddev=0.1), name='conv3_weights')\n",
    "    conv3_biases = tf.Variable(tf.zeros([DEPTH_3]), name='conv3_biases')\n",
    "    fc1_weights = tf.Variable(tf.truncated_normal([IMAGE_SIZE//8 * IMAGE_SIZE//8 * DEPTH_3, NUM_HIDDEN], stddev=0.1), name='fc1_weights')\n",
    "    fc1_biases = tf.Variable(tf.constant(1.0, shape=[NUM_HIDDEN]), name='fc1_biases')\n",
    "    \n",
    "    #fc_numdigit_weights = tf.Variable(tf.truncated_normal([NUM_HIDDEN, MAX_NUM_DIGIT], stddev=0.1))\n",
    "    #fc_numdigit_biases = tf.Variable(tf.constant(1.0, shape=[MAX_NUM_DIGIT]))\n",
    "    fc_digit1_weights = tf.Variable(tf.truncated_normal([NUM_HIDDEN, NUM_LABELS], stddev=0.1), name='fc_digit1_weights')\n",
    "    fc_digit1_biases = tf.Variable(tf.constant(1.0, shape=[NUM_LABELS]), name='fc_digit1_biases')\n",
    "    fc_digit2_weights = tf.Variable(tf.truncated_normal([NUM_HIDDEN, NUM_LABELS], stddev=0.1), name='fc_digit2_weights')\n",
    "    fc_digit2_biases = tf.Variable(tf.constant(1.0, shape=[NUM_LABELS]), name='fc_digit2_biases')\n",
    "    fc_digit3_weights = tf.Variable(tf.truncated_normal([NUM_HIDDEN, NUM_LABELS], stddev=0.1), name='fc_digit3_weights')\n",
    "    fc_digit3_biases = tf.Variable(tf.constant(1.0, shape=[NUM_LABELS]), name='fc_digit3_biases')\n",
    "    fc_digit4_weights = tf.Variable(tf.truncated_normal([NUM_HIDDEN, NUM_LABELS], stddev=0.1), name='fc_digit4_weights')\n",
    "    fc_digit4_biases = tf.Variable(tf.constant(1.0, shape=[NUM_LABELS]), name='fc_digit4_biases')\n",
    "    fc_digit5_weights = tf.Variable(tf.truncated_normal([NUM_HIDDEN, NUM_LABELS], stddev=0.1), name='fc_digit5_weights')\n",
    "    fc_digit5_biases = tf.Variable(tf.constant(1.0, shape=[NUM_LABELS]), name='fc_digit5_biases')\n",
    "    \n",
    "    saver = tf.train.Saver(tf.trainable_variables()) # defaults to saving all variables\n",
    "    \n",
    "    def model(data, train=False):\n",
    "        conv = tf.nn.conv2d(data, conv1_weights, strides=[1, 1, 1, 1], padding='SAME')\n",
    "        relu = tf.nn.relu(tf.nn.bias_add(conv, conv1_biases))\n",
    "        pool = tf.nn.max_pool(relu, ksize=[1, 2, 2, 1], strides=[1, 2, 2, 1], padding='SAME')\n",
    "        conv = tf.nn.conv2d(pool, conv2_weights, strides=[1, 1, 1, 1], padding='SAME')\n",
    "        relu = tf.nn.relu(tf.nn.bias_add(conv, conv2_biases))\n",
    "        pool = tf.nn.max_pool(relu, ksize=[1, 2, 2, 1], strides=[1, 2, 2, 1], padding='SAME')\n",
    "        conv = tf.nn.conv2d(pool, conv3_weights, strides=[1, 1, 1, 1], padding='SAME')\n",
    "        relu = tf.nn.relu(tf.nn.bias_add(conv, conv3_biases))\n",
    "        pool = tf.nn.max_pool(relu, ksize=[1, 2, 2, 1], strides=[1, 2, 2, 1], padding='SAME')\n",
    "        shape = pool.get_shape().as_list()\n",
    "        reshape = tf.reshape(pool, [-1, shape[1]*shape[2]*shape[3]])\n",
    "        hidden = tf.nn.relu(tf.matmul(reshape, fc1_weights) + fc1_biases)\n",
    "        \n",
    "        if train:\n",
    "            hidden = tf.nn.dropout(hidden, 0.7, seed=SEED)\n",
    "            \n",
    "        #logit_numdigit = tf.matmul(hidden, fc_numdigit_weights) + fc_numdigit_biases\n",
    "        logit_digit1 = tf.matmul(hidden, fc_digit1_weights) + fc_digit1_biases\n",
    "        logit_digit2 = tf.matmul(hidden, fc_digit2_weights) + fc_digit2_biases\n",
    "        logit_digit3 = tf.matmul(hidden, fc_digit3_weights) + fc_digit3_biases\n",
    "        logit_digit4 = tf.matmul(hidden, fc_digit4_weights) + fc_digit4_biases\n",
    "        logit_digit5 = tf.matmul(hidden, fc_digit5_weights) + fc_digit5_biases\n",
    "        \n",
    "        return logit_digit1, logit_digit2, logit_digit3, logit_digit4, logit_digit5\n",
    "    \n",
    "    def predict(logits):\n",
    "        return tf.transpose(tf.pack([tf.argmax(logits[0], 1), tf.argmax(logits[1], 1), tf.argmax(logits[2], 1), \\\n",
    "                        tf.argmax(logits[3], 1), tf.argmax(logits[4], 1)]))\n",
    "        # return tf.pack([tf.argmax(logits[0], 1), tf.argmax(logits[1], 1), tf.argmax(logits[2], 1), \\\n",
    "                       # tf.argmax(logits[3], 1), tf.argmax(logits[4], 1)], axis=1)\n",
    "    \n",
    "    def accuracy(predictions, labels):\n",
    "        return tf.reduce_mean(tf.cast(tf.reduce_all(tf.equal(predictions, labels), reduction_indices=1), tf.float32)) * 100\n",
    "    \n",
    "    logits = model(tf_train_dataset, True)\n",
    "    loss = tf.reduce_mean(tf.nn.sparse_softmax_cross_entropy_with_logits(logits[0], tf_train_labels[:, 0])) + \\\n",
    "            tf.reduce_mean(tf.nn.sparse_softmax_cross_entropy_with_logits(logits[1], tf_train_labels[:, 1])) + \\\n",
    "            tf.reduce_mean(tf.nn.sparse_softmax_cross_entropy_with_logits(logits[2], tf_train_labels[:, 2])) + \\\n",
    "            tf.reduce_mean(tf.nn.sparse_softmax_cross_entropy_with_logits(logits[3], tf_train_labels[:, 3])) + \\\n",
    "            tf.reduce_mean(tf.nn.sparse_softmax_cross_entropy_with_logits(logits[4], tf_train_labels[:, 4]))\n",
    "    \n",
    "    regularizers = tf.nn.l2_loss(fc1_weights) + \\\n",
    "                tf.nn.l2_loss(fc_digit1_weights) + \\\n",
    "                tf.nn.l2_loss(fc_digit2_weights) + \\\n",
    "                tf.nn.l2_loss(fc_digit3_weights) + \\\n",
    "                tf.nn.l2_loss(fc_digit4_weights) + \\\n",
    "                tf.nn.l2_loss(fc_digit5_weights)\n",
    "                \n",
    "    loss += 1e-3 * regularizers\n",
    "    \n",
    "    batch = tf.Variable(0, dtype=tf.float32)\n",
    "    #decayed_learning_rate = learning_rate *\n",
    "    #                    decay_rate ^ (global_step / decay_steps)\n",
    "    learning_rate = tf.train.exponential_decay(\n",
    "        0.04, # Base learning rate\n",
    "        batch * BATCH_SIZE, # Current index into the dataset\n",
    "        train_labels.shape[0], # Decay step\n",
    "        0.9, # Decay rate,\n",
    "        staircase=True\n",
    "    )\n",
    "    \n",
    "    optimizer = tf.train.AdagradOptimizer(learning_rate, 0.9).minimize(loss, global_step=batch)\n",
    "    \n",
    "    train_prediction = predict(logits)\n",
    "    valid_prediction = predict(model(tf_valid_dataset))\n",
    "    \n",
    "    #tf.Print(train_prediction, [train_prediction])\n",
    "    \n",
    "    train_accuracy = accuracy(train_prediction, tf_train_labels)\n",
    "    valid_accuracy = accuracy(valid_prediction, tf_valid_labels)"
   ]
  },
  {
   "cell_type": "code",
   "execution_count": 26,
   "metadata": {
    "collapsed": false
   },
   "outputs": [],
   "source": [
    "def shuffle_in_unison_inplace(a, b):\n",
    "    assert len(a) == len(b)\n",
    "    p = np.random.permutation(len(a))\n",
    "    return a[p], b[p]"
   ]
  },
  {
   "cell_type": "markdown",
   "metadata": {
    "collapsed": true
   },
   "source": [
    "flags = tf.app.flags\n",
    "FLAGS = flags.FLAGS\n",
    "\n",
    "flags.DEFINE_boolean('training', True, 'If true do the training else load already trained model.')\n",
    "flags.DEFINE_string('checkpoint_dir', 'model/', 'Checkpoint directory')"
   ]
  },
  {
   "cell_type": "code",
   "execution_count": 28,
   "metadata": {
    "collapsed": false,
    "scrolled": false
   },
   "outputs": [
    {
     "name": "stdout",
     "output_type": "stream",
     "text": [
      "Initialized\n",
      "Random shuffle\n",
      "Step 400, \tMinibatch loss 5.130030, Learning rate: 0.040000, Minibatch accuracy: 28.12%, Validation accuracy: 22.17% *\n",
      "Step 800, \tMinibatch loss 3.903178, Learning rate: 0.040000, Minibatch accuracy: 60.94%, Validation accuracy: 45.86% *\n",
      "Step 1200, \tMinibatch loss 2.426039, Learning rate: 0.040000, Minibatch accuracy: 85.94%, Validation accuracy: 56.10% *\n",
      "Step 1600, \tMinibatch loss 2.382853, Learning rate: 0.040000, Minibatch accuracy: 81.25%, Validation accuracy: 62.75% *\n",
      "Step 2000, \tMinibatch loss 2.175179, Learning rate: 0.040000, Minibatch accuracy: 84.38%, Validation accuracy: 66.53% *\n",
      "Step 2400, \tMinibatch loss 2.704074, Learning rate: 0.040000, Minibatch accuracy: 79.69%, Validation accuracy: 68.65% *\n",
      "Step 2800, \tMinibatch loss 2.644381, Learning rate: 0.040000, Minibatch accuracy: 73.44%, Validation accuracy: 71.19% *\n",
      "Random shuffle\n",
      "Step 3200, \tMinibatch loss 2.376913, Learning rate: 0.036000, Minibatch accuracy: 76.56%, Validation accuracy: 71.48% *\n",
      "Step 3600, \tMinibatch loss 1.900172, Learning rate: 0.036000, Minibatch accuracy: 82.81%, Validation accuracy: 74.65% *\n",
      "Step 4000, \tMinibatch loss 1.811561, Learning rate: 0.036000, Minibatch accuracy: 84.38%, Validation accuracy: 75.99% *\n",
      "Step 4400, \tMinibatch loss 2.010560, Learning rate: 0.036000, Minibatch accuracy: 82.81%, Validation accuracy: 76.99% *\n",
      "Step 4800, \tMinibatch loss 1.771745, Learning rate: 0.036000, Minibatch accuracy: 90.62%, Validation accuracy: 78.43% *\n",
      "Step 5200, \tMinibatch loss 1.252817, Learning rate: 0.036000, Minibatch accuracy: 93.75%, Validation accuracy: 78.31% \n",
      "Step 5600, \tMinibatch loss 1.480931, Learning rate: 0.036000, Minibatch accuracy: 89.06%, Validation accuracy: 79.60% *\n",
      "Step 6000, \tMinibatch loss 1.441406, Learning rate: 0.036000, Minibatch accuracy: 87.50%, Validation accuracy: 80.75% *\n",
      "Random shuffle\n",
      "Step 6400, \tMinibatch loss 1.387673, Learning rate: 0.032400, Minibatch accuracy: 89.06%, Validation accuracy: 80.78% *\n",
      "Step 6800, \tMinibatch loss 1.447706, Learning rate: 0.032400, Minibatch accuracy: 92.19%, Validation accuracy: 81.58% *\n",
      "Step 7200, \tMinibatch loss 1.747149, Learning rate: 0.032400, Minibatch accuracy: 84.38%, Validation accuracy: 81.66% *\n",
      "Step 7600, \tMinibatch loss 1.634304, Learning rate: 0.032400, Minibatch accuracy: 87.50%, Validation accuracy: 81.78% *\n",
      "Step 8000, \tMinibatch loss 1.250234, Learning rate: 0.032400, Minibatch accuracy: 92.19%, Validation accuracy: 82.07% *\n",
      "Step 8400, \tMinibatch loss 1.955204, Learning rate: 0.032400, Minibatch accuracy: 84.38%, Validation accuracy: 81.93% \n",
      "Step 8800, \tMinibatch loss 1.249714, Learning rate: 0.032400, Minibatch accuracy: 92.19%, Validation accuracy: 83.10% *\n",
      "Random shuffle\n",
      "Step 9200, \tMinibatch loss 1.251669, Learning rate: 0.029160, Minibatch accuracy: 89.06%, Validation accuracy: 83.74% *\n",
      "Step 9600, \tMinibatch loss 2.115373, Learning rate: 0.029160, Minibatch accuracy: 89.06%, Validation accuracy: 82.98% \n",
      "Step 10000, \tMinibatch loss 1.214351, Learning rate: 0.029160, Minibatch accuracy: 90.62%, Validation accuracy: 84.12% *\n",
      "Step 10400, \tMinibatch loss 1.375188, Learning rate: 0.029160, Minibatch accuracy: 90.62%, Validation accuracy: 83.60% \n",
      "Step 10800, \tMinibatch loss 1.387543, Learning rate: 0.029160, Minibatch accuracy: 84.38%, Validation accuracy: 84.57% *\n",
      "Step 11200, \tMinibatch loss 1.147094, Learning rate: 0.029160, Minibatch accuracy: 89.06%, Validation accuracy: 84.56% \n",
      "Step 11600, \tMinibatch loss 0.908564, Learning rate: 0.029160, Minibatch accuracy: 95.31%, Validation accuracy: 84.88% *\n",
      "Step 12000, \tMinibatch loss 1.002520, Learning rate: 0.029160, Minibatch accuracy: 95.31%, Validation accuracy: 84.99% *\n",
      "Random shuffle\n",
      "Step 12400, \tMinibatch loss 0.829312, Learning rate: 0.026244, Minibatch accuracy: 96.88%, Validation accuracy: 85.27% *\n",
      "Step 12800, \tMinibatch loss 1.353662, Learning rate: 0.026244, Minibatch accuracy: 93.75%, Validation accuracy: 85.37% *\n",
      "Step 13200, \tMinibatch loss 0.739081, Learning rate: 0.026244, Minibatch accuracy: 96.88%, Validation accuracy: 85.52% *\n",
      "Step 13600, \tMinibatch loss 0.875587, Learning rate: 0.026244, Minibatch accuracy: 92.19%, Validation accuracy: 85.53% *\n",
      "Step 14000, \tMinibatch loss 1.350226, Learning rate: 0.026244, Minibatch accuracy: 89.06%, Validation accuracy: 84.96% \n",
      "Step 14400, \tMinibatch loss 0.979495, Learning rate: 0.026244, Minibatch accuracy: 93.75%, Validation accuracy: 85.94% *\n",
      "Step 14800, \tMinibatch loss 1.200084, Learning rate: 0.026244, Minibatch accuracy: 93.75%, Validation accuracy: 85.74% \n",
      "Random shuffle\n",
      "Step 15200, \tMinibatch loss 0.988094, Learning rate: 0.023620, Minibatch accuracy: 92.19%, Validation accuracy: 86.07% *\n",
      "Step 15600, \tMinibatch loss 0.744606, Learning rate: 0.023620, Minibatch accuracy: 98.44%, Validation accuracy: 85.98% \n",
      "Step 16000, \tMinibatch loss 0.905525, Learning rate: 0.023620, Minibatch accuracy: 93.75%, Validation accuracy: 85.82% \n",
      "Step 16400, \tMinibatch loss 0.703298, Learning rate: 0.023620, Minibatch accuracy: 98.44%, Validation accuracy: 86.01% \n",
      "Step 16800, \tMinibatch loss 0.834800, Learning rate: 0.023620, Minibatch accuracy: 93.75%, Validation accuracy: 86.36% *\n",
      "Step 17200, \tMinibatch loss 1.133418, Learning rate: 0.023620, Minibatch accuracy: 93.75%, Validation accuracy: 86.43% *\n",
      "Step 17600, \tMinibatch loss 1.033994, Learning rate: 0.023620, Minibatch accuracy: 96.88%, Validation accuracy: 86.32% \n",
      "Step 18000, \tMinibatch loss 1.363898, Learning rate: 0.023620, Minibatch accuracy: 92.19%, Validation accuracy: 86.23% \n",
      "Random shuffle\n",
      "Step 18400, \tMinibatch loss 0.718112, Learning rate: 0.021258, Minibatch accuracy: 96.88%, Validation accuracy: 86.54% *\n",
      "Step 18800, \tMinibatch loss 0.634570, Learning rate: 0.021258, Minibatch accuracy: 96.88%, Validation accuracy: 86.37% \n",
      "Step 19200, \tMinibatch loss 0.792684, Learning rate: 0.021258, Minibatch accuracy: 95.31%, Validation accuracy: 86.70% *\n",
      "Step 19600, \tMinibatch loss 0.621032, Learning rate: 0.021258, Minibatch accuracy: 96.88%, Validation accuracy: 86.85% *\n",
      "Step 20000, \tMinibatch loss 1.234812, Learning rate: 0.021258, Minibatch accuracy: 85.94%, Validation accuracy: 86.75% \n",
      "Step 20400, \tMinibatch loss 0.740184, Learning rate: 0.021258, Minibatch accuracy: 92.19%, Validation accuracy: 87.29% *\n",
      "Step 20800, \tMinibatch loss 0.785896, Learning rate: 0.021258, Minibatch accuracy: 93.75%, Validation accuracy: 86.85% \n",
      "Random shuffle\n",
      "Step 21200, \tMinibatch loss 0.678200, Learning rate: 0.019132, Minibatch accuracy: 95.31%, Validation accuracy: 86.94% \n",
      "Step 21600, \tMinibatch loss 0.665288, Learning rate: 0.019132, Minibatch accuracy: 95.31%, Validation accuracy: 86.94% \n",
      "Step 22000, \tMinibatch loss 1.084418, Learning rate: 0.019132, Minibatch accuracy: 90.62%, Validation accuracy: 87.05% \n",
      "Step 22400, \tMinibatch loss 0.502749, Learning rate: 0.019132, Minibatch accuracy: 100.00%, Validation accuracy: 87.03% \n",
      "Step 22800, \tMinibatch loss 0.937587, Learning rate: 0.019132, Minibatch accuracy: 95.31%, Validation accuracy: 87.22% \n",
      "Step 23200, \tMinibatch loss 1.193302, Learning rate: 0.019132, Minibatch accuracy: 93.75%, Validation accuracy: 87.06% \n",
      "Step 23600, \tMinibatch loss 1.053291, Learning rate: 0.019132, Minibatch accuracy: 92.19%, Validation accuracy: 87.21% \n",
      "Step 24000, \tMinibatch loss 1.125162, Learning rate: 0.019132, Minibatch accuracy: 87.50%, Validation accuracy: 87.28% \n",
      "Random shuffle\n",
      "Step 24400, \tMinibatch loss 0.920852, Learning rate: 0.017219, Minibatch accuracy: 90.62%, Validation accuracy: 87.09% \n",
      "Step 24800, \tMinibatch loss 0.628741, Learning rate: 0.017219, Minibatch accuracy: 96.88%, Validation accuracy: 87.36% *\n",
      "Step 25200, \tMinibatch loss 0.891450, Learning rate: 0.017219, Minibatch accuracy: 96.88%, Validation accuracy: 87.32% \n",
      "Step 25600, \tMinibatch loss 0.905301, Learning rate: 0.017219, Minibatch accuracy: 90.62%, Validation accuracy: 87.17% \n",
      "Step 26000, \tMinibatch loss 0.576109, Learning rate: 0.017219, Minibatch accuracy: 96.88%, Validation accuracy: 87.26% \n",
      "Step 26400, \tMinibatch loss 0.799888, Learning rate: 0.017219, Minibatch accuracy: 93.75%, Validation accuracy: 87.48% *\n",
      "Step 26800, \tMinibatch loss 0.546635, Learning rate: 0.017219, Minibatch accuracy: 98.44%, Validation accuracy: 87.25% \n",
      "Random shuffle\n",
      "Step 27200, \tMinibatch loss 0.550502, Learning rate: 0.015497, Minibatch accuracy: 96.88%, Validation accuracy: 87.44% \n",
      "Step 27600, \tMinibatch loss 0.598844, Learning rate: 0.015497, Minibatch accuracy: 93.75%, Validation accuracy: 87.23% \n",
      "Step 28000, \tMinibatch loss 0.527741, Learning rate: 0.015497, Minibatch accuracy: 98.44%, Validation accuracy: 87.23% \n",
      "Step 28400, \tMinibatch loss 0.507948, Learning rate: 0.015497, Minibatch accuracy: 95.31%, Validation accuracy: 87.61% *\n",
      "Step 28800, \tMinibatch loss 0.666887, Learning rate: 0.015497, Minibatch accuracy: 92.19%, Validation accuracy: 87.58% \n",
      "Step 29200, \tMinibatch loss 0.654087, Learning rate: 0.015497, Minibatch accuracy: 95.31%, Validation accuracy: 87.52% \n",
      "Step 29600, \tMinibatch loss 0.821280, Learning rate: 0.015497, Minibatch accuracy: 95.31%, Validation accuracy: 87.57% \n",
      "Step 30000, \tMinibatch loss 0.886922, Learning rate: 0.015497, Minibatch accuracy: 90.62%, Validation accuracy: 87.50% \n",
      "Random shuffle\n",
      "Step 30400, \tMinibatch loss 0.451215, Learning rate: 0.013947, Minibatch accuracy: 98.44%, Validation accuracy: 87.62% *\n",
      "Step 30800, \tMinibatch loss 0.595291, Learning rate: 0.013947, Minibatch accuracy: 96.88%, Validation accuracy: 87.89% *\n",
      "Step 31200, \tMinibatch loss 0.595653, Learning rate: 0.013947, Minibatch accuracy: 96.88%, Validation accuracy: 87.70% \n",
      "Step 31600, \tMinibatch loss 1.013307, Learning rate: 0.013947, Minibatch accuracy: 95.31%, Validation accuracy: 87.71% \n",
      "Step 32000, \tMinibatch loss 0.615412, Learning rate: 0.013947, Minibatch accuracy: 96.88%, Validation accuracy: 87.70% \n",
      "Step 32400, \tMinibatch loss 0.563561, Learning rate: 0.013947, Minibatch accuracy: 95.31%, Validation accuracy: 87.76% \n",
      "Step 32800, \tMinibatch loss 0.479470, Learning rate: 0.013947, Minibatch accuracy: 98.44%, Validation accuracy: 87.72% \n",
      "Step 33200, \tMinibatch loss 0.467230, Learning rate: 0.013947, Minibatch accuracy: 98.44%, Validation accuracy: 87.89% *\n",
      "Random shuffle\n",
      "Step 33600, \tMinibatch loss 0.476731, Learning rate: 0.012552, Minibatch accuracy: 98.44%, Validation accuracy: 87.79% \n",
      "Step 34000, \tMinibatch loss 1.210156, Learning rate: 0.012552, Minibatch accuracy: 89.06%, Validation accuracy: 87.67% \n",
      "Step 34400, \tMinibatch loss 0.586228, Learning rate: 0.012552, Minibatch accuracy: 96.88%, Validation accuracy: 87.57% \n",
      "Step 34800, \tMinibatch loss 0.579048, Learning rate: 0.012552, Minibatch accuracy: 95.31%, Validation accuracy: 87.90% *\n",
      "Step 35200, \tMinibatch loss 1.553022, Learning rate: 0.012552, Minibatch accuracy: 90.62%, Validation accuracy: 87.98% *\n",
      "Step 35600, \tMinibatch loss 0.711199, Learning rate: 0.012552, Minibatch accuracy: 92.19%, Validation accuracy: 88.03% *\n",
      "Step 36000, \tMinibatch loss 1.364905, Learning rate: 0.012552, Minibatch accuracy: 92.19%, Validation accuracy: 88.06% *\n",
      "Random shuffle\n",
      "Step 36400, \tMinibatch loss 0.828933, Learning rate: 0.011297, Minibatch accuracy: 92.19%, Validation accuracy: 88.03% \n",
      "Step 36800, \tMinibatch loss 0.480917, Learning rate: 0.011297, Minibatch accuracy: 100.00%, Validation accuracy: 88.10% *\n",
      "Step 37200, \tMinibatch loss 0.544526, Learning rate: 0.011297, Minibatch accuracy: 92.19%, Validation accuracy: 87.83% \n",
      "Step 37600, \tMinibatch loss 0.629029, Learning rate: 0.011297, Minibatch accuracy: 96.88%, Validation accuracy: 87.88% \n",
      "Step 38000, \tMinibatch loss 0.426349, Learning rate: 0.011297, Minibatch accuracy: 96.88%, Validation accuracy: 87.97% \n",
      "Step 38400, \tMinibatch loss 0.472643, Learning rate: 0.011297, Minibatch accuracy: 96.88%, Validation accuracy: 88.15% *\n",
      "Step 38800, \tMinibatch loss 0.880044, Learning rate: 0.011297, Minibatch accuracy: 92.19%, Validation accuracy: 88.01% \n",
      "Step 39200, \tMinibatch loss 0.583940, Learning rate: 0.011297, Minibatch accuracy: 96.88%, Validation accuracy: 87.87% \n",
      "Random shuffle\n",
      "Step 39600, \tMinibatch loss 0.554941, Learning rate: 0.010167, Minibatch accuracy: 95.31%, Validation accuracy: 88.05% \n",
      "Step 40000, \tMinibatch loss 0.709981, Learning rate: 0.010167, Minibatch accuracy: 92.19%, Validation accuracy: 87.98% \n",
      "Step 40400, \tMinibatch loss 0.732524, Learning rate: 0.010167, Minibatch accuracy: 92.19%, Validation accuracy: 87.97% \n",
      "Step 40800, \tMinibatch loss 0.363455, Learning rate: 0.010167, Minibatch accuracy: 96.88%, Validation accuracy: 87.88% \n",
      "Step 41200, \tMinibatch loss 0.433113, Learning rate: 0.010167, Minibatch accuracy: 96.88%, Validation accuracy: 88.13% \n",
      "Step 41600, \tMinibatch loss 0.308425, Learning rate: 0.010167, Minibatch accuracy: 100.00%, Validation accuracy: 87.89% \n",
      "Step 42000, \tMinibatch loss 0.447888, Learning rate: 0.010167, Minibatch accuracy: 95.31%, Validation accuracy: 88.01% \n",
      "Random shuffle\n",
      "Step 42400, \tMinibatch loss 0.492239, Learning rate: 0.009151, Minibatch accuracy: 95.31%, Validation accuracy: 88.23% *\n",
      "Step 42800, \tMinibatch loss 0.419833, Learning rate: 0.009151, Minibatch accuracy: 100.00%, Validation accuracy: 88.33% *\n",
      "Step 43200, \tMinibatch loss 0.382480, Learning rate: 0.009151, Minibatch accuracy: 96.88%, Validation accuracy: 88.17% \n",
      "Step 43600, \tMinibatch loss 0.542503, Learning rate: 0.009151, Minibatch accuracy: 93.75%, Validation accuracy: 88.20% \n",
      "Step 44000, \tMinibatch loss 0.648015, Learning rate: 0.009151, Minibatch accuracy: 93.75%, Validation accuracy: 88.02% \n",
      "Step 44400, \tMinibatch loss 0.572463, Learning rate: 0.009151, Minibatch accuracy: 96.88%, Validation accuracy: 88.13% \n",
      "Step 44800, \tMinibatch loss 0.739917, Learning rate: 0.009151, Minibatch accuracy: 90.62%, Validation accuracy: 87.91% \n",
      "Step 45200, \tMinibatch loss 0.626226, Learning rate: 0.009151, Minibatch accuracy: 92.19%, Validation accuracy: 88.15% \n",
      "Random shuffle\n",
      "Step 45600, \tMinibatch loss 0.435021, Learning rate: 0.008236, Minibatch accuracy: 95.31%, Validation accuracy: 88.09% \n",
      "Step 46000, \tMinibatch loss 0.816479, Learning rate: 0.008236, Minibatch accuracy: 93.75%, Validation accuracy: 87.90% \n",
      "Step 46400, \tMinibatch loss 0.474727, Learning rate: 0.008236, Minibatch accuracy: 93.75%, Validation accuracy: 87.97% \n",
      "Step 46800, \tMinibatch loss 0.362387, Learning rate: 0.008236, Minibatch accuracy: 100.00%, Validation accuracy: 88.09% \n",
      "Step 47200, \tMinibatch loss 0.582578, Learning rate: 0.008236, Minibatch accuracy: 90.62%, Validation accuracy: 88.14% \n",
      "Valid accuracy makes no progress in 4000 steps\n"
     ]
    }
   ],
   "source": [
    "import time\n",
    "import datetime\n",
    "\n",
    "SHOW_STATE_AFTER = 400\n",
    "\n",
    "train_accuracies = []\n",
    "valid_accuracies = []\n",
    "\n",
    "best_valid_accuracy = 0\n",
    "best_accuracy_step = 0\n",
    "stop_after_step_no_progress = 4000\n",
    "\n",
    "start_time = time.time()\n",
    "with tf.Session(graph=graph) as session:\n",
    "    tf.initialize_all_variables().run()\n",
    "    print('Initialized')\n",
    "    offset = 0\n",
    "    \n",
    "    step = 0\n",
    "    while True:\n",
    "        step += 1\n",
    "        if(offset == 0):\n",
    "            train_dataset, train_labels = shuffle_in_unison_inplace(train_dataset, train_labels)\n",
    "            print('Random shuffle')\n",
    "        feed_dict = {\n",
    "            tf_train_dataset : train_dataset[offset:(offset + BATCH_SIZE)], \n",
    "            tf_train_labels : train_labels[offset:(offset + BATCH_SIZE)]\n",
    "        }\n",
    "        offset += BATCH_SIZE\n",
    "        if offset+BATCH_SIZE > train_labels.shape[0]:\n",
    "            offset = 0\n",
    "        _, l, lr = session.run([optimizer, loss, learning_rate], feed_dict=feed_dict)\n",
    "        if (step % SHOW_STATE_AFTER == 0):\n",
    "            elapsed_time = time.time() - start_time\n",
    "            start_time = time.time()\n",
    "            train_acc, valid_acc = session.run([train_accuracy, valid_accuracy], feed_dict=feed_dict)\n",
    "\n",
    "            improved_str = ''\n",
    "            if valid_acc > best_valid_accuracy:\n",
    "                saver.save(session, 'multi20.ckpt', write_meta_graph=False)\n",
    "                best_valid_accuracy = valid_acc\n",
    "                best_accuracy_step = step\n",
    "                improved_str = '*'\n",
    "            \n",
    "            train_accuracies.append(train_acc)\n",
    "            valid_accuracies.append(valid_acc)\n",
    "            print('Step %d, \\tMinibatch loss %f, Learning rate: %.6f, Minibatch accuracy: %.2f%%, Validation accuracy: %.2f%% %s' % \\\n",
    "                  (step, l, lr, train_acc, valid_acc, improved_str))\n",
    "            \n",
    "            if step - best_accuracy_step > stop_after_step_no_progress:\n",
    "                print(\"Valid accuracy makes no progress in {} steps\".format(stop_after_step_no_progress))\n",
    "                break"
   ]
  },
  {
   "cell_type": "markdown",
   "metadata": {},
   "source": [
    "### 学习曲线"
   ]
  },
  {
   "cell_type": "code",
   "execution_count": 29,
   "metadata": {
    "collapsed": false
   },
   "outputs": [
    {
     "data": {
      "text/plain": [
       "<matplotlib.legend.Legend at 0x7fa25bca3358>"
      ]
     },
     "execution_count": 29,
     "metadata": {},
     "output_type": "execute_result"
    },
    {
     "data": {
      "image/png": "[encoded data removed]",
      "text/plain": [
       "<matplotlib.figure.Figure at 0x7fa2608ed7b8>"
      ]
     },
     "metadata": {},
     "output_type": "display_data"
    }
   ],
   "source": [
    "plt.plot(range(0, step, SHOW_STATE_AFTER), train_accuracies)\n",
    "plt.plot(range(0, step, SHOW_STATE_AFTER), valid_accuracies)\n",
    "plt.title('Learning curve')\n",
    "plt.xlabel('Number of steps')\n",
    "plt.ylabel('Accuracy(%)')\n",
    "plt.legend(['Train accuracy', 'Valid accuracy'], loc='best')"
   ]
  }
 ],
 "metadata": {
  "anaconda-cloud": {},
  "kernelspec": {
   "display_name": "Python [conda root]",
   "language": "python",
   "name": "conda-root-py"
  },
  "language_info": {
   "codemirror_mode": {
    "name": "ipython",
    "version": 3
   },
   "file_extension": ".py",
   "mimetype": "text/x-python",
   "name": "python",
   "nbconvert_exporter": "python",
   "pygments_lexer": "ipython3",
   "version": "3.5.2"
  }
 },
 "nbformat": 4,
 "nbformat_minor": 0
}
