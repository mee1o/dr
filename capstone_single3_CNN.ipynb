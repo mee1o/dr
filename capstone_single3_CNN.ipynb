{
 "cells": [
  {
   "cell_type": "markdown",
   "metadata": {},
   "source": [
    "## 3 \n",
    "\n",
    "作者 meelo\n",
    "\n",
    "### 加载经过预处理的数据"
   ]
  },
  {
   "cell_type": "code",
   "execution_count": 1,
   "metadata": {
    "collapsed": true
   },
   "outputs": [],
   "source": [
    "from __future__ import print_function\n",
    "from six.moves import cPickle as pickle\n",
    "import numpy as np\n",
    "import tensorflow as tf\n",
    "import matplotlib.pyplot as plt\n",
    "\n",
    "%matplotlib inline"
   ]
  },
  {
   "cell_type": "code",
   "execution_count": 2,
   "metadata": {
    "collapsed": false
   },
   "outputs": [
    {
     "name": "stdout",
     "output_type": "stream",
     "text": [
      "Training dataset shape:  (164594, 32, 32)\n",
      "Training labels shape:  (164594,)\n",
      "Validing dataset shape:  (8663, 32, 32)\n",
      "Validing labels shape:  (8663,)\n",
      "Testing dataset shape:  (10000, 32, 32)\n",
      "Testing labels shape:  (10000,)\n"
     ]
    }
   ],
   "source": [
    "pickle_file = 'svhn_single.pickle'\n",
    "\n",
    "with open(pickle_file, 'rb') as f:\n",
    "    dataset = pickle.load(f)\n",
    "    train_dataset = dataset['train_dataset']\n",
    "    train_labels = dataset['train_labels']\n",
    "    valid_dataset = dataset['valid_dataset']\n",
    "    valid_labels = dataset['valid_labels']\n",
    "    test_dataset = dataset['test_dataset'][:10000]\n",
    "    test_labels = dataset['test_labels'][:10000]\n",
    "    del dataset\n",
    "    \n",
    "print('Training dataset shape: ', train_dataset.shape)\n",
    "print('Training labels shape: ', train_labels.shape)\n",
    "print('Validing dataset shape: ', valid_dataset.shape)\n",
    "print('Validing labels shape: ', valid_labels.shape)\n",
    "print('Testing dataset shape: ', test_dataset.shape)\n",
    "print('Testing labels shape: ', test_labels.shape)"
   ]
  },
  {
   "cell_type": "markdown",
   "metadata": {
    "collapsed": true
   },
   "source": [
    "### 将数据修改成适合TensorFlow的格式\n",
    "\n",
    "- 卷积要求图片数据的形状为(宽度×高度×通道数)\n",
    "- 图片的标签需要进行1-hot编码，并转换成浮点数\n",
    "\n",
    "\n",
    "![](./images/onehot.png)"
   ]
  },
  {
   "cell_type": "code",
   "execution_count": 3,
   "metadata": {
    "collapsed": false
   },
   "outputs": [
    {
     "name": "stdout",
     "output_type": "stream",
     "text": [
      "[ 1  1 10  1  8  2  5  2  1  1  3  1  4  1  1  6  1  7  4  1  1  1  9  6  1\n",
      "  3  5  5 10  7  9  2  1  3  9  3  8  4  3  1  5  1  5  5  1 10  1  1 10  4\n",
      "  8  2  3  1  8  3  8  4  6  4  1  2  2 10  8  1  9  5  2  2  9  4  7  1  1\n",
      "  3  5  4  1  2  6  4  3  3  5  2  4  5  6  1  4  2 10  3  2  2  1  1  4  3]\n"
     ]
    }
   ],
   "source": [
    "print(train_labels[100:200])"
   ]
  },
  {
   "cell_type": "markdown",
   "metadata": {},
   "source": [
    "在原始数据中，数字1-9的标签是1-9，而数字0的标签是10。为了确保1-hot编码，表示是否为0的标签在第1列，应当使用语句`np.array([10,1,2,3,4,5,6,7,8,9]) == labels`。\n",
    "\n",
    "将10替换成0\n",
    "不然argmax不对应"
   ]
  },
  {
   "cell_type": "code",
   "execution_count": 4,
   "metadata": {
    "collapsed": true
   },
   "outputs": [],
   "source": [
    "IMAGE_SIZE = 32\n",
    "NUM_LABELS = 10\n",
    "num_channels = 1 # grayscale"
   ]
  },
  {
   "cell_type": "code",
   "execution_count": 5,
   "metadata": {
    "collapsed": false
   },
   "outputs": [
    {
     "name": "stdout",
     "output_type": "stream",
     "text": [
      "Training set (164594, 32, 32, 1) (164594,)\n",
      "Validation set (8663, 32, 32, 1) (8663,)\n",
      "Test set (10000, 32, 32, 1) (10000,)\n"
     ]
    }
   ],
   "source": [
    "def reformat(dataset, labels):\n",
    "    dataset = dataset.reshape((-1, IMAGE_SIZE, IMAGE_SIZE, num_channels)).astype(np.float32)\n",
    "    #labels = (np.array([10,1,2,3,4,5,6,7,8,9]) == labels).astype(np.float32) # one-hot encoding\n",
    "    labels[labels==10] = 0\n",
    "    return dataset, labels\n",
    "\n",
    "train_dataset, train_labels = reformat(train_dataset, train_labels)\n",
    "valid_dataset, valid_labels = reformat(valid_dataset, valid_labels)\n",
    "test_dataset, test_labels = reformat(test_dataset, test_labels)\n",
    "\n",
    "print('Training set', train_dataset.shape, train_labels.shape)\n",
    "print('Validation set', valid_dataset.shape, valid_labels.shape)\n",
    "print('Test set', test_dataset.shape, test_labels.shape)"
   ]
  },
  {
   "cell_type": "markdown",
   "metadata": {
    "collapsed": true
   },
   "source": [
    "truncated normal  \n",
    "soft max  \n",
    "cross entroy loss  \n",
    "regularizers  \n",
    "learning rate decay\n",
    "训练时dropout  \n",
    "sparse  \n",
    "随机梯度下降 Momumtum  \n",
    "部分加载数据"
   ]
  },
  {
   "cell_type": "code",
   "execution_count": 7,
   "metadata": {
    "collapsed": true
   },
   "outputs": [],
   "source": [
    "BATCH_SIZE = 64\n",
    "PATCH_SIZE = 5\n",
    "DEPTH_1 = 16\n",
    "DEPTH_2 = 32\n",
    "DEPTH_3 = 64\n",
    "NUM_HIDDEN = 128\n",
    "SEED = 42\n",
    "\n",
    "# BATCH_SIZE * 32 * 32 * 1\n",
    "# conv1: 5 * 5 * 1 * 8\n",
    "# BATCH_SIZE * 16 * 16 * 8\n",
    "# conv2: 5 * 5 * 8 * 16\n",
    "# BATCH_SIZE * 8 * 8 * 16\n",
    "# conv3: 5 * 5 * 16 * 32\n",
    "# BATCH_SIZE * 4 * 4 * 32\n",
    "# fc1: 512 * 64\n",
    "# BATCH_SIZE * 64\n",
    "# fc2: 64 * 10 \n",
    "# BATCH_SIZE * 10"
   ]
  },
  {
   "cell_type": "code",
   "execution_count": 14,
   "metadata": {
    "collapsed": false
   },
   "outputs": [],
   "source": [
    "graph = tf.Graph()\n",
    "with graph.as_default():\n",
    "    # Input data\n",
    "    tf_train_dataset = tf.placeholder(tf.float32, shape=(None, IMAGE_SIZE, IMAGE_SIZE, num_channels))\n",
    "    tf_train_labels = tf.placeholder(tf.int64, shape=(None,))\n",
    "    tf_valid_dataset = tf.constant(valid_dataset)\n",
    "    tf_valid_labels = tf.constant(valid_labels, dtype=tf.int64)\n",
    "    \n",
    "    conv1_weights = tf.Variable(tf.truncated_normal([PATCH_SIZE, PATCH_SIZE, num_channels, DEPTH_1], stddev=0.1))\n",
    "    conv1_biases = tf.Variable(tf.zeros([DEPTH_1]))\n",
    "    conv2_weights = tf.Variable(tf.truncated_normal([PATCH_SIZE, PATCH_SIZE, DEPTH_1, DEPTH_2], stddev=0.1))\n",
    "    conv2_biases = tf.Variable(tf.zeros([DEPTH_2]))\n",
    "    conv3_weights = tf.Variable(tf.truncated_normal([PATCH_SIZE, PATCH_SIZE, DEPTH_2, DEPTH_3], stddev=0.1))\n",
    "    conv3_biases = tf.Variable(tf.zeros([DEPTH_3]))\n",
    "    fc1_weights = tf.Variable(tf.truncated_normal([IMAGE_SIZE//8 * IMAGE_SIZE//8 * DEPTH_3, NUM_HIDDEN], stddev=0.1))\n",
    "    fc1_biases = tf.Variable(tf.constant(1.0, shape=[NUM_HIDDEN]))\n",
    "    fc2_weights = tf.Variable(tf.truncated_normal([NUM_HIDDEN, NUM_LABELS], stddev=0.1))\n",
    "    fc2_biases = tf.Variable(tf.constant(1.0, shape=[NUM_LABELS]))\n",
    "    \n",
    "    saver = tf.train.Saver(tf.trainable_variables()) # defaults to saving all variables\n",
    "    \n",
    "    def model(data, train=False):\n",
    "        conv = tf.nn.conv2d(data, conv1_weights, strides=[1, 1, 1, 1], padding='SAME')\n",
    "        relu = tf.nn.relu(tf.nn.bias_add(conv, conv1_biases))\n",
    "        pool = tf.nn.max_pool(relu, ksize=[1, 2, 2, 1], strides=[1, 2, 2, 1], padding='SAME')\n",
    "        conv = tf.nn.conv2d(pool, conv2_weights, strides=[1, 1, 1, 1], padding='SAME')\n",
    "        relu = tf.nn.relu(tf.nn.bias_add(conv, conv2_biases))\n",
    "        pool = tf.nn.max_pool(relu, ksize=[1, 2, 2, 1], strides=[1, 2, 2, 1], padding='SAME')\n",
    "        conv = tf.nn.conv2d(pool, conv3_weights, strides=[1, 1, 1, 1], padding='SAME')\n",
    "        relu = tf.nn.relu(tf.nn.bias_add(conv, conv3_biases))\n",
    "        pool = tf.nn.max_pool(relu, ksize=[1, 2, 2, 1], strides=[1, 2, 2, 1], padding='SAME')\n",
    "        shape = pool.get_shape().as_list()\n",
    "        reshape = tf.reshape(pool, [-1, shape[1]*shape[2]*shape[3]])\n",
    "        hidden = tf.nn.relu(tf.matmul(reshape, fc1_weights) + fc1_biases)\n",
    "        if train:\n",
    "            hidden = tf.nn.dropout(hidden, 0.5, seed=SEED)\n",
    "        return tf.matmul(hidden, fc2_weights) + fc2_biases\n",
    "    \n",
    "    def accuracy(predictions, labels):\n",
    "        return tf.reduce_mean(tf.cast(tf.equal(tf.argmax(predictions, 1), labels), tf.float32)) * 100\n",
    "    \n",
    "    logits = model(tf_train_dataset, True)\n",
    "    loss = tf.reduce_mean(tf.nn.sparse_softmax_cross_entropy_with_logits(logits, tf_train_labels))\n",
    "    \n",
    "    regularizers = tf.nn.l2_loss(fc1_weights) + tf.nn.l2_loss(fc1_biases) + tf.nn.l2_loss(fc2_weights) + tf.nn.l2_loss(fc2_biases)\n",
    "    loss += 5e-4 * regularizers\n",
    "    \n",
    "    batch = tf.Variable(0, dtype=tf.float32)\n",
    "    #decayed_learning_rate = learning_rate *\n",
    "    #                    decay_rate ^ (global_step / decay_steps)\n",
    "    learning_rate = tf.train.exponential_decay(\n",
    "        0.01, # Base learning rate\n",
    "        batch * BATCH_SIZE, # Current index into the dataset\n",
    "        train_labels.shape[0], # Decay step\n",
    "        0.95, # Decay rate,\n",
    "        staircase=True\n",
    "    )\n",
    "    \n",
    "    optimizer = tf.train.MomentumOptimizer(learning_rate, 0.9).minimize(loss, global_step=batch)\n",
    "    \n",
    "    train_prediction = tf.nn.softmax(logits)\n",
    "    valid_prediction = tf.nn.softmax(model(tf_valid_dataset))\n",
    "    \n",
    "    train_accuracy = accuracy(train_prediction, tf_train_labels)\n",
    "    valid_accuracy = accuracy(valid_prediction, tf_valid_labels)\n"
   ]
  },
  {
   "cell_type": "raw",
   "metadata": {
    "collapsed": false
   },
   "source": [
    "\n",
    "test_prediction = tf.nn.softmax(model(tf_test_dataset))\n",
    "\n",
    "test_accuracy = accuracy(test_prediction, tf_test_labels)"
   ]
  },
  {
   "cell_type": "markdown",
   "metadata": {},
   "source": [
    "训练后期，loss及准确率波动较大，应当使用学习率exponential decay\n",
    "\n",
    "### 最佳模型\n",
    "Validation accuracy: 83.5%  \n",
    "Test accuracy: 82.5%\n",
    "\n",
    "Validation accuracy: 88.1%  \n",
    "Test accuracy: 87.6%\n",
    "\n",
    "Validation accuracy: 90.8%\n",
    "Test accuracy: 88.2%\n",
    "\n",
    "Minibatch loss at step 10000: 0.354294, learning rate: 0.005404, 2.561s  \n",
    "Minibatch accuracy: 93.8%  \n",
    "Validation accuracy: 97.9%  \n",
    "Test accuracy: 90.2%  \n",
    "\n",
    "训练集使用过一次之后，随机打乱"
   ]
  },
  {
   "cell_type": "code",
   "execution_count": 9,
   "metadata": {
    "collapsed": true
   },
   "outputs": [],
   "source": [
    "def shuffle_in_unison_inplace(a, b):\n",
    "    assert len(a) == len(b)\n",
    "    p = np.random.permutation(len(a))\n",
    "    return a[p], b[p]"
   ]
  },
  {
   "cell_type": "code",
   "execution_count": 16,
   "metadata": {
    "collapsed": false,
    "scrolled": false
   },
   "outputs": [
    {
     "name": "stdout",
     "output_type": "stream",
     "text": [
      "Initialized\n",
      "Random shuffle\n",
      "Step 400, \tMinibatch loss 1.072093, Learning rate: 0.010000, Minibatch accuracy: 73.44%, Validation accuracy: 82.86% *\n",
      "Step 800, \tMinibatch loss 0.894000, Learning rate: 0.010000, Minibatch accuracy: 81.25%, Validation accuracy: 85.51% *\n",
      "Step 1200, \tMinibatch loss 0.791554, Learning rate: 0.010000, Minibatch accuracy: 85.94%, Validation accuracy: 89.16% *\n",
      "Step 1600, \tMinibatch loss 0.876993, Learning rate: 0.010000, Minibatch accuracy: 87.50%, Validation accuracy: 89.71% *\n",
      "Step 2000, \tMinibatch loss 0.499205, Learning rate: 0.010000, Minibatch accuracy: 87.50%, Validation accuracy: 90.67% *\n",
      "Step 2400, \tMinibatch loss 0.723080, Learning rate: 0.010000, Minibatch accuracy: 85.94%, Validation accuracy: 90.82% *\n",
      "Random shuffle\n",
      "Step 2800, \tMinibatch loss 0.505159, Learning rate: 0.009500, Minibatch accuracy: 89.06%, Validation accuracy: 91.68% *\n",
      "Step 3200, \tMinibatch loss 0.595827, Learning rate: 0.009500, Minibatch accuracy: 82.81%, Validation accuracy: 91.61% \n",
      "Step 3600, \tMinibatch loss 0.545941, Learning rate: 0.009500, Minibatch accuracy: 92.19%, Validation accuracy: 92.28% *\n",
      "Step 4000, \tMinibatch loss 0.441945, Learning rate: 0.009500, Minibatch accuracy: 87.50%, Validation accuracy: 92.27% \n",
      "Step 4400, \tMinibatch loss 0.613272, Learning rate: 0.009500, Minibatch accuracy: 89.06%, Validation accuracy: 92.14% \n",
      "Step 4800, \tMinibatch loss 0.529945, Learning rate: 0.009500, Minibatch accuracy: 89.06%, Validation accuracy: 92.61% *\n",
      "Random shuffle\n",
      "Step 5200, \tMinibatch loss 0.477103, Learning rate: 0.009025, Minibatch accuracy: 93.75%, Validation accuracy: 93.62% *\n",
      "Step 5600, \tMinibatch loss 0.281626, Learning rate: 0.009025, Minibatch accuracy: 96.88%, Validation accuracy: 93.32% \n",
      "Step 6000, \tMinibatch loss 0.649402, Learning rate: 0.009025, Minibatch accuracy: 92.19%, Validation accuracy: 93.21% \n",
      "Step 6400, \tMinibatch loss 0.353231, Learning rate: 0.009025, Minibatch accuracy: 92.19%, Validation accuracy: 93.48% \n",
      "Step 6800, \tMinibatch loss 0.415458, Learning rate: 0.009025, Minibatch accuracy: 95.31%, Validation accuracy: 93.63% *\n",
      "Step 7200, \tMinibatch loss 0.273305, Learning rate: 0.009025, Minibatch accuracy: 95.31%, Validation accuracy: 93.76% *\n",
      "Step 7600, \tMinibatch loss 0.670390, Learning rate: 0.009025, Minibatch accuracy: 92.19%, Validation accuracy: 94.22% *\n",
      "Random shuffle\n",
      "Step 8000, \tMinibatch loss 0.445985, Learning rate: 0.008574, Minibatch accuracy: 92.19%, Validation accuracy: 93.93% \n",
      "Step 8400, \tMinibatch loss 0.527415, Learning rate: 0.008574, Minibatch accuracy: 93.75%, Validation accuracy: 93.44% \n",
      "Step 8800, \tMinibatch loss 0.616739, Learning rate: 0.008574, Minibatch accuracy: 87.50%, Validation accuracy: 94.11% \n",
      "Step 9200, \tMinibatch loss 0.375714, Learning rate: 0.008574, Minibatch accuracy: 90.62%, Validation accuracy: 93.59% \n",
      "Step 9600, \tMinibatch loss 0.365403, Learning rate: 0.008574, Minibatch accuracy: 96.88%, Validation accuracy: 94.08% \n",
      "Step 10000, \tMinibatch loss 0.266556, Learning rate: 0.008574, Minibatch accuracy: 96.88%, Validation accuracy: 94.38% *\n",
      "Random shuffle\n",
      "Step 10400, \tMinibatch loss 0.493920, Learning rate: 0.008145, Minibatch accuracy: 87.50%, Validation accuracy: 94.25% \n",
      "Step 10800, \tMinibatch loss 0.288182, Learning rate: 0.008145, Minibatch accuracy: 93.75%, Validation accuracy: 94.33% \n",
      "Step 11200, \tMinibatch loss 0.300596, Learning rate: 0.008145, Minibatch accuracy: 92.19%, Validation accuracy: 94.49% *\n",
      "Step 11600, \tMinibatch loss 0.333907, Learning rate: 0.008145, Minibatch accuracy: 92.19%, Validation accuracy: 94.52% *\n",
      "Step 12000, \tMinibatch loss 0.253100, Learning rate: 0.008145, Minibatch accuracy: 95.31%, Validation accuracy: 94.62% *\n",
      "Step 12400, \tMinibatch loss 0.412383, Learning rate: 0.008145, Minibatch accuracy: 92.19%, Validation accuracy: 93.84% \n",
      "Step 12800, \tMinibatch loss 0.204228, Learning rate: 0.008145, Minibatch accuracy: 95.31%, Validation accuracy: 94.29% \n",
      "Random shuffle\n",
      "Step 13200, \tMinibatch loss 0.531327, Learning rate: 0.007738, Minibatch accuracy: 87.50%, Validation accuracy: 94.79% *\n",
      "Step 13600, \tMinibatch loss 0.288700, Learning rate: 0.007738, Minibatch accuracy: 95.31%, Validation accuracy: 94.33% \n",
      "Step 14000, \tMinibatch loss 0.226840, Learning rate: 0.007738, Minibatch accuracy: 95.31%, Validation accuracy: 94.37% \n",
      "Step 14400, \tMinibatch loss 0.291191, Learning rate: 0.007738, Minibatch accuracy: 92.19%, Validation accuracy: 94.81% *\n",
      "Step 14800, \tMinibatch loss 0.241577, Learning rate: 0.007738, Minibatch accuracy: 98.44%, Validation accuracy: 94.75% \n",
      "Step 15200, \tMinibatch loss 0.214665, Learning rate: 0.007738, Minibatch accuracy: 92.19%, Validation accuracy: 94.60% \n",
      "Random shuffle\n",
      "Step 15600, \tMinibatch loss 0.211095, Learning rate: 0.007351, Minibatch accuracy: 95.31%, Validation accuracy: 94.70% \n",
      "Step 16000, \tMinibatch loss 0.248752, Learning rate: 0.007351, Minibatch accuracy: 93.75%, Validation accuracy: 95.06% *\n",
      "Step 16400, \tMinibatch loss 0.238915, Learning rate: 0.007351, Minibatch accuracy: 95.31%, Validation accuracy: 94.74% \n",
      "Step 16800, \tMinibatch loss 0.224306, Learning rate: 0.007351, Minibatch accuracy: 95.31%, Validation accuracy: 94.87% \n",
      "Step 17200, \tMinibatch loss 0.413588, Learning rate: 0.007351, Minibatch accuracy: 95.31%, Validation accuracy: 94.56% \n",
      "Step 17600, \tMinibatch loss 0.257943, Learning rate: 0.007351, Minibatch accuracy: 93.75%, Validation accuracy: 94.52% \n",
      "Random shuffle\n",
      "Step 18000, \tMinibatch loss 0.204283, Learning rate: 0.007351, Minibatch accuracy: 95.31%, Validation accuracy: 94.97% \n",
      "Step 18400, \tMinibatch loss 0.266994, Learning rate: 0.006983, Minibatch accuracy: 95.31%, Validation accuracy: 95.11% *\n",
      "Step 18800, \tMinibatch loss 0.237958, Learning rate: 0.006983, Minibatch accuracy: 95.31%, Validation accuracy: 94.99% \n",
      "Step 19200, \tMinibatch loss 0.162338, Learning rate: 0.006983, Minibatch accuracy: 96.88%, Validation accuracy: 94.76% \n",
      "Step 19600, \tMinibatch loss 0.134247, Learning rate: 0.006983, Minibatch accuracy: 100.00%, Validation accuracy: 95.12% *\n",
      "Step 20000, \tMinibatch loss 0.186537, Learning rate: 0.006983, Minibatch accuracy: 98.44%, Validation accuracy: 94.86% \n",
      "Step 20400, \tMinibatch loss 0.184253, Learning rate: 0.006983, Minibatch accuracy: 96.88%, Validation accuracy: 94.79% \n",
      "Random shuffle\n",
      "Step 20800, \tMinibatch loss 0.210475, Learning rate: 0.006634, Minibatch accuracy: 96.88%, Validation accuracy: 95.22% *\n",
      "Step 21200, \tMinibatch loss 0.115577, Learning rate: 0.006634, Minibatch accuracy: 100.00%, Validation accuracy: 95.06% \n",
      "Step 21600, \tMinibatch loss 0.224223, Learning rate: 0.006634, Minibatch accuracy: 96.88%, Validation accuracy: 94.85% \n",
      "Step 22000, \tMinibatch loss 0.545415, Learning rate: 0.006634, Minibatch accuracy: 85.94%, Validation accuracy: 94.98% \n",
      "Step 22400, \tMinibatch loss 0.165505, Learning rate: 0.006634, Minibatch accuracy: 98.44%, Validation accuracy: 95.39% *\n",
      "Step 22800, \tMinibatch loss 0.254330, Learning rate: 0.006634, Minibatch accuracy: 93.75%, Validation accuracy: 95.28% \n",
      "Random shuffle\n",
      "Step 23200, \tMinibatch loss 0.171314, Learning rate: 0.006302, Minibatch accuracy: 95.31%, Validation accuracy: 95.07% \n",
      "Step 23600, \tMinibatch loss 0.267651, Learning rate: 0.006302, Minibatch accuracy: 96.88%, Validation accuracy: 95.31% \n",
      "Step 24000, \tMinibatch loss 0.122292, Learning rate: 0.006302, Minibatch accuracy: 98.44%, Validation accuracy: 95.19% \n",
      "Step 24400, \tMinibatch loss 0.160533, Learning rate: 0.006302, Minibatch accuracy: 93.75%, Validation accuracy: 95.09% \n",
      "Step 24800, \tMinibatch loss 0.159531, Learning rate: 0.006302, Minibatch accuracy: 98.44%, Validation accuracy: 95.29% \n",
      "Step 25200, \tMinibatch loss 0.103004, Learning rate: 0.006302, Minibatch accuracy: 96.88%, Validation accuracy: 95.02% \n",
      "Step 25600, \tMinibatch loss 0.076737, Learning rate: 0.006302, Minibatch accuracy: 100.00%, Validation accuracy: 95.23% \n",
      "Random shuffle\n",
      "Step 26000, \tMinibatch loss 0.237561, Learning rate: 0.005987, Minibatch accuracy: 93.75%, Validation accuracy: 95.16% \n",
      "Step 26400, \tMinibatch loss 0.179132, Learning rate: 0.005987, Minibatch accuracy: 95.31%, Validation accuracy: 95.16% \n",
      "Step 26800, \tMinibatch loss 0.160848, Learning rate: 0.005987, Minibatch accuracy: 100.00%, Validation accuracy: 95.37% \n",
      "Valid accuracy makes no progress in 4000 steps\n"
     ]
    }
   ],
   "source": [
    "import time\n",
    "import datetime\n",
    "\n",
    "num_steps = 10001\n",
    "SHOW_STATE_AFTER = 400\n",
    "\n",
    "train_accuracies = []\n",
    "valid_accuracies = []\n",
    "\n",
    "best_valid_accuracy = 0\n",
    "best_accuracy_step = 0\n",
    "stop_after_step_no_progress = 4000\n",
    "\n",
    "start_time = time.time()\n",
    "with tf.Session(graph=graph) as session:\n",
    "    tf.initialize_all_variables().run()\n",
    "    print('Initialized')\n",
    "    offset = 0\n",
    "    step = 0\n",
    "    #for step in range(num_steps):\n",
    "    while True:\n",
    "        step += 1\n",
    "        if(offset == 0):\n",
    "            train_dataset, train_labels = shuffle_in_unison_inplace(train_dataset, train_labels)\n",
    "            print('Random shuffle')\n",
    "        feed_dict = {\n",
    "            tf_train_dataset : train_dataset[offset:(offset + BATCH_SIZE)], \n",
    "            tf_train_labels : train_labels[offset:(offset + BATCH_SIZE)]\n",
    "        }\n",
    "        offset += BATCH_SIZE\n",
    "        if offset+BATCH_SIZE > train_labels.shape[0]:\n",
    "            offset = 0\n",
    "        _, l, lr = session.run([optimizer, loss, learning_rate], feed_dict=feed_dict)\n",
    "        if (step % SHOW_STATE_AFTER == 0):\n",
    "            elapsed_time = time.time() - start_time\n",
    "            start_time = time.time()\n",
    "            train_acc, valid_acc = session.run([train_accuracy, valid_accuracy], feed_dict=feed_dict)\n",
    "\n",
    "            improved_str = ''\n",
    "            if valid_acc > best_valid_accuracy:\n",
    "                saver.save(session, 'single20.ckpt', write_meta_graph=False)\n",
    "                best_valid_accuracy = valid_acc\n",
    "                best_accuracy_step = step\n",
    "                improved_str = '*'\n",
    "            \n",
    "            train_accuracies.append(train_acc)\n",
    "            valid_accuracies.append(valid_acc)\n",
    "            print('Step %d, \\tMinibatch loss %f, Learning rate: %.6f, Minibatch accuracy: %.2f%%, Validation accuracy: %.2f%% %s' % \\\n",
    "                  (step, l, lr, train_acc, valid_acc, improved_str))\n",
    "            \n",
    "\n",
    "            if step - best_accuracy_step > stop_after_step_no_progress:\n",
    "                print(\"Valid accuracy makes no progress in {} steps\".format(stop_after_step_no_progress))\n",
    "                break"
   ]
  },
  {
   "cell_type": "markdown",
   "metadata": {},
   "source": [
    "### 学习曲线"
   ]
  },
  {
   "cell_type": "code",
   "execution_count": 17,
   "metadata": {
    "collapsed": false
   },
   "outputs": [
    {
     "data": {
      "text/plain": [
       "<matplotlib.legend.Legend at 0x7f4aac2c2978>"
      ]
     },
     "execution_count": 17,
     "metadata": {},
     "output_type": "execute_result"
    },
    {
     "data": {
      "image/png": "[encoded data removed]",
      "text/plain": [
       "<matplotlib.figure.Figure at 0x7f4aac2ef0b8>"
      ]
     },
     "metadata": {},
     "output_type": "display_data"
    }
   ],
   "source": [
    "plt.plot(range(0, len(train_accuracies)), train_accuracies)\n",
    "plt.plot(range(0, len(train_accuracies)), valid_accuracies)\n",
    "plt.title('Learning curve')\n",
    "plt.xlabel('#Steps')\n",
    "plt.ylabel('Accuracy(%)')\n",
    "plt.legend(['Train accuracy', 'Valid accuracy'], loc='best')"
   ]
  },
  {
   "cell_type": "code",
   "execution_count": null,
   "metadata": {
    "collapsed": true
   },
   "outputs": [],
   "source": []
  }
 ],
 "metadata": {
  "anaconda-cloud": {},
  "kernelspec": {
   "display_name": "Python [conda root]",
   "language": "python",
   "name": "conda-root-py"
  },
  "language_info": {
   "codemirror_mode": {
    "name": "ipython",
    "version": 3
   },
   "file_extension": ".py",
   "mimetype": "text/x-python",
   "name": "python",
   "nbconvert_exporter": "python",
   "pygments_lexer": "ipython3",
   "version": "3.5.2"
  }
 },
 "nbformat": 4,
 "nbformat_minor": 0
}
