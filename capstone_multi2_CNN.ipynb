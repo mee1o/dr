{
 "cells": [
  {
   "cell_type": "markdown",
   "metadata": {},
   "source": [
    "### 2识别数字序列的卷积神经网络"
   ]
  },
  {
   "cell_type": "code",
   "execution_count": 1,
   "metadata": {
    "collapsed": false
   },
   "outputs": [],
   "source": [
    "from __future__ import print_function\n",
    "from six.moves import cPickle as pickle"
   ]
  },
  {
   "cell_type": "code",
   "execution_count": 2,
   "metadata": {
    "collapsed": false
   },
   "outputs": [],
   "source": [
    "import numpy as np\n",
    "import tensorflow as tf\n",
    "import matplotlib.pyplot as plt\n",
    "\n",
    "% matplotlib inline"
   ]
  },
  {
   "cell_type": "markdown",
   "metadata": {},
   "source": [
    "### 加载数据"
   ]
  },
  {
   "cell_type": "code",
   "execution_count": 19,
   "metadata": {
    "collapsed": false
   },
   "outputs": [
    {
     "name": "stdout",
     "output_type": "stream",
     "text": [
      "dataset shape:  (33402, 40, 40)\n",
      "labels shape:  (33402, 5)\n"
     ]
    }
   ],
   "source": [
    "pickle_file = 'svhn_multi_train_40.pickle'\n",
    "\n",
    "with open(pickle_file, 'rb') as f:\n",
    "    dataset = pickle.load(f)\n",
    "    images = dataset['dataset']\n",
    "    labels = dataset['labels'][:, 1:6]\n",
    "    \n",
    "print('dataset shape: ', images.shape)\n",
    "print('labels shape: ', labels.shape)"
   ]
  },
  {
   "cell_type": "code",
   "execution_count": 20,
   "metadata": {
    "collapsed": false
   },
   "outputs": [
    {
     "name": "stdout",
     "output_type": "stream",
     "text": [
      "dataset shape:  (203402, 40, 40)\n",
      "labels shape:  (203402, 5)\n"
     ]
    }
   ],
   "source": [
    "pickle_file = 'svhn_multi_extra_40.pickle'\n",
    "\n",
    "with open(pickle_file, 'rb') as f:\n",
    "    dataset = pickle.load(f)\n",
    "    images = np.vstack((images, dataset['dataset'][:170000]))\n",
    "    labels = np.vstack((labels, dataset['labels'][:170000, 1:6]))\n",
    "\n",
    "print('dataset shape: ', images.shape)\n",
    "print('labels shape: ', labels.shape)"
   ]
  },
  {
   "cell_type": "code",
   "execution_count": 6,
   "metadata": {
    "collapsed": false
   },
   "outputs": [
    {
     "data": {
      "text/plain": [
       "array([[ 1,  9, 10, 10, 10],\n",
       "       [ 2,  3, 10, 10, 10],\n",
       "       [ 2,  5, 10, 10, 10],\n",
       "       [ 9,  3, 10, 10, 10],\n",
       "       [ 3,  1, 10, 10, 10],\n",
       "       [ 3,  3, 10, 10, 10],\n",
       "       [ 2,  8, 10, 10, 10],\n",
       "       [ 7,  4,  4, 10, 10],\n",
       "       [ 1,  2,  8, 10, 10],\n",
       "       [ 1,  6, 10, 10, 10]], dtype=int8)"
      ]
     },
     "execution_count": 6,
     "metadata": {},
     "output_type": "execute_result"
    }
   ],
   "source": [
    "labels[:10]"
   ]
  },
  {
   "cell_type": "markdown",
   "metadata": {},
   "source": [
    "### 构建交叉验证集"
   ]
  },
  {
   "cell_type": "code",
   "execution_count": 7,
   "metadata": {
    "collapsed": true
   },
   "outputs": [],
   "source": [
    "from sklearn.cross_validation import train_test_split"
   ]
  },
  {
   "cell_type": "code",
   "execution_count": 21,
   "metadata": {
    "collapsed": true
   },
   "outputs": [],
   "source": [
    "train_dataset, valid_dataset , train_labels, valid_labels = train_test_split(images, labels, test_size=0.05, random_state=42)"
   ]
  },
  {
   "cell_type": "code",
   "execution_count": 22,
   "metadata": {
    "collapsed": false
   },
   "outputs": [
    {
     "name": "stdout",
     "output_type": "stream",
     "text": [
      "Training dataset shape:  (193231, 40, 40)\n",
      "Training labels shape:  (193231, 5)\n",
      "Validing dataset shape:  (10171, 40, 40)\n",
      "Validing labels shape:  (10171, 5)\n"
     ]
    }
   ],
   "source": [
    "print('Training dataset shape: ', train_dataset.shape)\n",
    "print('Training labels shape: ', train_labels.shape)\n",
    "print('Validing dataset shape: ', valid_dataset.shape)\n",
    "print('Validing labels shape: ', valid_labels.shape)"
   ]
  },
  {
   "cell_type": "code",
   "execution_count": 23,
   "metadata": {
    "collapsed": false
   },
   "outputs": [
    {
     "name": "stdout",
     "output_type": "stream",
     "text": [
      "(193231, 40, 40)\n",
      "(10171, 40, 40)\n"
     ]
    }
   ],
   "source": [
    "IMAGE_SIZE = 40\n",
    "NUM_DIGITS = 5\n",
    "NUM_LABELS = 11 # 0-9 + 10==doesn't exist\n",
    "NUM_CHANNELS = 1 # grayscale\n",
    "\n",
    "def reformat(dataset, labels):\n",
    "    print(dataset.shape)\n",
    "    dataset = dataset.reshape((-1, IMAGE_SIZE, IMAGE_SIZE, NUM_CHANNELS)).astype(np.float32)\n",
    "    #labels = (np.array([10,1,2,3,4,5,6,7,8,9]) == labels).astype(np.float32) # one-hot encoding\n",
    "\n",
    "    return dataset, labels\n",
    "\n",
    "train_dataset, train_labels = reformat(train_dataset, train_labels)\n",
    "valid_dataset, valid_labels = reformat(valid_dataset, valid_labels)"
   ]
  },
  {
   "cell_type": "raw",
   "metadata": {
    "collapsed": false
   },
   "source": [
    "# BATCH_SIZE * 32 * 32 * 1\n",
    "# conv1: 5 * 5 * 1 * 8\n",
    "# BATCH_SIZE * 16 * 16 * 8\n",
    "# conv2: 5 * 5 * 8 * 16\n",
    "# BATCH_SIZE * 8 * 8 * 16\n",
    "# conv3: 5 * 5 * 16 * 32\n",
    "# BATCH_SIZE * 4 * 4 * 32\n",
    "# fc1: 512 * 64\n",
    "# BATCH_SIZE * 64\n",
    "# fc2: 64 * 10 \n",
    "# BATCH_SIZE * 10"
   ]
  },
  {
   "cell_type": "raw",
   "metadata": {},
   "source": [
    "def equal(a):\n",
    "    offset = 6\n",
    "    return a[0] == a[offset] and all(a[i] == a[i+offset] for i in range(1, 6))\n",
    "\n",
    "def accuracy(predictions, labels):\n",
    "    result = np.apply_along_axis(equal, 1, np.hstack((predictions, labels)))\n",
    "    return tf.reduce_mean(np.cast(result, np.float32)) * 100"
   ]
  },
  {
   "cell_type": "code",
   "execution_count": 24,
   "metadata": {
    "collapsed": false
   },
   "outputs": [],
   "source": [
    "BATCH_SIZE = 64\n",
    "PATCH_SIZE = 5\n",
    "DEPTH_1 = 24\n",
    "DEPTH_2 = 48\n",
    "DEPTH_3 = 80\n",
    "NUM_HIDDEN = 256\n",
    "SEED = 42"
   ]
  },
  {
   "cell_type": "code",
   "execution_count": 25,
   "metadata": {
    "collapsed": true
   },
   "outputs": [],
   "source": [
    "graph = tf.Graph()\n",
    "with graph.as_default():\n",
    "    # Input data\n",
    "    tf_train_dataset = tf.placeholder(tf.float32, shape=(None, IMAGE_SIZE, IMAGE_SIZE, NUM_CHANNELS))\n",
    "    tf_train_labels = tf.placeholder(tf.int64, shape=(None, NUM_DIGITS))\n",
    "    tf_valid_dataset = tf.constant(valid_dataset)\n",
    "    tf_valid_labels = tf.constant(valid_labels, dtype=tf.int64)\n",
    "    \n",
    "    conv1_weights = tf.Variable(tf.truncated_normal([PATCH_SIZE, PATCH_SIZE, NUM_CHANNELS, DEPTH_1], stddev=0.1), name='conv1_weights')\n",
    "    conv1_biases = tf.Variable(tf.zeros([DEPTH_1]), name='conv1_biases')\n",
    "    conv2_weights = tf.Variable(tf.truncated_normal([PATCH_SIZE, PATCH_SIZE, DEPTH_1, DEPTH_2], stddev=0.1), name='conv2_weights')\n",
    "    conv2_biases = tf.Variable(tf.zeros([DEPTH_2]), name='conv2_biases')\n",
    "    conv3_weights = tf.Variable(tf.truncated_normal([PATCH_SIZE, PATCH_SIZE, DEPTH_2, DEPTH_3], stddev=0.1), name='conv3_weights')\n",
    "    conv3_biases = tf.Variable(tf.zeros([DEPTH_3]), name='conv3_biases')\n",
    "    fc1_weights = tf.Variable(tf.truncated_normal([IMAGE_SIZE//8 * IMAGE_SIZE//8 * DEPTH_3, NUM_HIDDEN], stddev=0.1), name='fc1_weights')\n",
    "    fc1_biases = tf.Variable(tf.constant(1.0, shape=[NUM_HIDDEN]), name='fc1_biases')\n",
    "    \n",
    "    #fc_numdigit_weights = tf.Variable(tf.truncated_normal([NUM_HIDDEN, MAX_NUM_DIGIT], stddev=0.1))\n",
    "    #fc_numdigit_biases = tf.Variable(tf.constant(1.0, shape=[MAX_NUM_DIGIT]))\n",
    "    fc_digit1_weights = tf.Variable(tf.truncated_normal([NUM_HIDDEN, NUM_LABELS], stddev=0.1), name='fc_digit1_weights')\n",
    "    fc_digit1_biases = tf.Variable(tf.constant(1.0, shape=[NUM_LABELS]), name='fc_digit1_biases')\n",
    "    fc_digit2_weights = tf.Variable(tf.truncated_normal([NUM_HIDDEN, NUM_LABELS], stddev=0.1), name='fc_digit2_weights')\n",
    "    fc_digit2_biases = tf.Variable(tf.constant(1.0, shape=[NUM_LABELS]), name='fc_digit2_biases')\n",
    "    fc_digit3_weights = tf.Variable(tf.truncated_normal([NUM_HIDDEN, NUM_LABELS], stddev=0.1), name='fc_digit3_weights')\n",
    "    fc_digit3_biases = tf.Variable(tf.constant(1.0, shape=[NUM_LABELS]), name='fc_digit3_biases')\n",
    "    fc_digit4_weights = tf.Variable(tf.truncated_normal([NUM_HIDDEN, NUM_LABELS], stddev=0.1), name='fc_digit4_weights')\n",
    "    fc_digit4_biases = tf.Variable(tf.constant(1.0, shape=[NUM_LABELS]), name='fc_digit4_biases')\n",
    "    fc_digit5_weights = tf.Variable(tf.truncated_normal([NUM_HIDDEN, NUM_LABELS], stddev=0.1), name='fc_digit5_weights')\n",
    "    fc_digit5_biases = tf.Variable(tf.constant(1.0, shape=[NUM_LABELS]), name='fc_digit5_biases')\n",
    "    \n",
    "    saver = tf.train.Saver(tf.trainable_variables()) # defaults to saving all variables\n",
    "    \n",
    "    def model(data, train=False):\n",
    "        conv = tf.nn.conv2d(data, conv1_weights, strides=[1, 1, 1, 1], padding='SAME')\n",
    "        relu = tf.nn.relu(tf.nn.bias_add(conv, conv1_biases))\n",
    "        pool = tf.nn.max_pool(relu, ksize=[1, 2, 2, 1], strides=[1, 2, 2, 1], padding='SAME')\n",
    "        conv = tf.nn.conv2d(pool, conv2_weights, strides=[1, 1, 1, 1], padding='SAME')\n",
    "        relu = tf.nn.relu(tf.nn.bias_add(conv, conv2_biases))\n",
    "        pool = tf.nn.max_pool(relu, ksize=[1, 2, 2, 1], strides=[1, 2, 2, 1], padding='SAME')\n",
    "        conv = tf.nn.conv2d(pool, conv3_weights, strides=[1, 1, 1, 1], padding='SAME')\n",
    "        relu = tf.nn.relu(tf.nn.bias_add(conv, conv3_biases))\n",
    "        pool = tf.nn.max_pool(relu, ksize=[1, 2, 2, 1], strides=[1, 2, 2, 1], padding='SAME')\n",
    "        shape = pool.get_shape().as_list()\n",
    "        reshape = tf.reshape(pool, [-1, shape[1]*shape[2]*shape[3]])\n",
    "        hidden = tf.nn.relu(tf.matmul(reshape, fc1_weights) + fc1_biases)\n",
    "        \n",
    "        if train:\n",
    "            hidden = tf.nn.dropout(hidden, 0.6, seed=SEED)\n",
    "            \n",
    "        #logit_numdigit = tf.matmul(hidden, fc_numdigit_weights) + fc_numdigit_biases\n",
    "        logit_digit1 = tf.matmul(hidden, fc_digit1_weights) + fc_digit1_biases\n",
    "        logit_digit2 = tf.matmul(hidden, fc_digit2_weights) + fc_digit2_biases\n",
    "        logit_digit3 = tf.matmul(hidden, fc_digit3_weights) + fc_digit3_biases\n",
    "        logit_digit4 = tf.matmul(hidden, fc_digit4_weights) + fc_digit4_biases\n",
    "        logit_digit5 = tf.matmul(hidden, fc_digit5_weights) + fc_digit5_biases\n",
    "        \n",
    "        return logit_digit1, logit_digit2, logit_digit3, logit_digit4, logit_digit5\n",
    "    \n",
    "    def predict(logits):\n",
    "        return tf.transpose(tf.pack([tf.argmax(logits[0], 1), tf.argmax(logits[1], 1), tf.argmax(logits[2], 1), \\\n",
    "                        tf.argmax(logits[3], 1), tf.argmax(logits[4], 1)]))\n",
    "        # return tf.pack([tf.argmax(logits[0], 1), tf.argmax(logits[1], 1), tf.argmax(logits[2], 1), \\\n",
    "                       # tf.argmax(logits[3], 1), tf.argmax(logits[4], 1)], axis=1)\n",
    "    \n",
    "    def accuracy(predictions, labels):\n",
    "        return tf.reduce_mean(tf.cast(tf.reduce_all(tf.equal(predictions, labels), reduction_indices=1), tf.float32)) * 100\n",
    "    \n",
    "    logits = model(tf_train_dataset, True)\n",
    "    loss = tf.reduce_mean(tf.nn.sparse_softmax_cross_entropy_with_logits(logits[0], tf_train_labels[:, 0])) + \\\n",
    "            tf.reduce_mean(tf.nn.sparse_softmax_cross_entropy_with_logits(logits[1], tf_train_labels[:, 1])) + \\\n",
    "            tf.reduce_mean(tf.nn.sparse_softmax_cross_entropy_with_logits(logits[2], tf_train_labels[:, 2])) + \\\n",
    "            tf.reduce_mean(tf.nn.sparse_softmax_cross_entropy_with_logits(logits[3], tf_train_labels[:, 3])) + \\\n",
    "            tf.reduce_mean(tf.nn.sparse_softmax_cross_entropy_with_logits(logits[4], tf_train_labels[:, 4]))\n",
    "    \n",
    "    regularizers = tf.nn.l2_loss(fc1_weights) + \\\n",
    "                tf.nn.l2_loss(fc_digit1_weights) + \\\n",
    "                tf.nn.l2_loss(fc_digit2_weights) + \\\n",
    "                tf.nn.l2_loss(fc_digit3_weights) + \\\n",
    "                tf.nn.l2_loss(fc_digit4_weights) + \\\n",
    "                tf.nn.l2_loss(fc_digit5_weights)\n",
    "                \n",
    "    loss += 1e-3 * regularizers\n",
    "    \n",
    "    batch = tf.Variable(0, dtype=tf.float32)\n",
    "    #decayed_learning_rate = learning_rate *\n",
    "    #                    decay_rate ^ (global_step / decay_steps)\n",
    "    learning_rate = tf.train.exponential_decay(\n",
    "        0.04, # Base learning rate\n",
    "        batch * BATCH_SIZE, # Current index into the dataset\n",
    "        train_labels.shape[0], # Decay step\n",
    "        0.9, # Decay rate,\n",
    "        staircase=True\n",
    "    )\n",
    "    \n",
    "    optimizer = tf.train.AdagradOptimizer(learning_rate, 0.9).minimize(loss, global_step=batch)\n",
    "    \n",
    "    train_prediction = predict(logits)\n",
    "    valid_prediction = predict(model(tf_valid_dataset))\n",
    "    \n",
    "    #tf.Print(train_prediction, [train_prediction])\n",
    "    \n",
    "    train_accuracy = accuracy(train_prediction, tf_train_labels)\n",
    "    valid_accuracy = accuracy(valid_prediction, tf_valid_labels)"
   ]
  },
  {
   "cell_type": "code",
   "execution_count": 13,
   "metadata": {
    "collapsed": false
   },
   "outputs": [],
   "source": [
    "def shuffle_in_unison_inplace(a, b):\n",
    "    assert len(a) == len(b)\n",
    "    p = np.random.permutation(len(a))\n",
    "    return a[p], b[p]"
   ]
  },
  {
   "cell_type": "markdown",
   "metadata": {
    "collapsed": true
   },
   "source": [
    "flags = tf.app.flags\n",
    "FLAGS = flags.FLAGS\n",
    "\n",
    "flags.DEFINE_boolean('training', True, 'If true do the training else load already trained model.')\n",
    "flags.DEFINE_string('checkpoint_dir', 'model/', 'Checkpoint directory')"
   ]
  },
  {
   "cell_type": "code",
   "execution_count": 26,
   "metadata": {
    "collapsed": false,
    "scrolled": false
   },
   "outputs": [
    {
     "name": "stdout",
     "output_type": "stream",
     "text": [
      "Initialized\n",
      "Random shuffle\n",
      "Step 400, \tMinibatch loss 7.383094, Learning rate: 0.040000, Minibatch accuracy: 17.19%, Validation accuracy: 19.17% *\n",
      "Step 800, \tMinibatch loss 5.454595, Learning rate: 0.040000, Minibatch accuracy: 25.00%, Validation accuracy: 38.32% *\n",
      "Step 1200, \tMinibatch loss 4.639657, Learning rate: 0.040000, Minibatch accuracy: 43.75%, Validation accuracy: 49.95% *\n",
      "Step 1600, \tMinibatch loss 4.564023, Learning rate: 0.040000, Minibatch accuracy: 43.75%, Validation accuracy: 55.88% *\n",
      "Step 2000, \tMinibatch loss 4.250683, Learning rate: 0.040000, Minibatch accuracy: 45.31%, Validation accuracy: 60.45% *\n",
      "Step 2400, \tMinibatch loss 3.549951, Learning rate: 0.040000, Minibatch accuracy: 62.50%, Validation accuracy: 64.08% *\n",
      "Step 2800, \tMinibatch loss 3.182720, Learning rate: 0.040000, Minibatch accuracy: 64.06%, Validation accuracy: 66.79% *\n",
      "Random shuffle\n",
      "Step 3200, \tMinibatch loss 3.288282, Learning rate: 0.036000, Minibatch accuracy: 67.19%, Validation accuracy: 69.95% *\n",
      "Step 3600, \tMinibatch loss 3.154368, Learning rate: 0.036000, Minibatch accuracy: 59.38%, Validation accuracy: 71.54% *\n",
      "Step 4000, \tMinibatch loss 3.247923, Learning rate: 0.036000, Minibatch accuracy: 67.19%, Validation accuracy: 72.20% *\n",
      "Step 4400, \tMinibatch loss 2.666484, Learning rate: 0.036000, Minibatch accuracy: 76.56%, Validation accuracy: 73.19% *\n",
      "Step 4800, \tMinibatch loss 3.115607, Learning rate: 0.036000, Minibatch accuracy: 62.50%, Validation accuracy: 74.93% *\n",
      "Step 5200, \tMinibatch loss 2.848052, Learning rate: 0.036000, Minibatch accuracy: 76.56%, Validation accuracy: 74.99% *\n",
      "Step 5600, \tMinibatch loss 2.732220, Learning rate: 0.036000, Minibatch accuracy: 62.50%, Validation accuracy: 76.44% *\n",
      "Step 6000, \tMinibatch loss 2.506654, Learning rate: 0.036000, Minibatch accuracy: 68.75%, Validation accuracy: 77.45% *\n",
      "Random shuffle\n",
      "Step 6400, \tMinibatch loss 2.784522, Learning rate: 0.032400, Minibatch accuracy: 71.88%, Validation accuracy: 78.04% *\n",
      "Step 6800, \tMinibatch loss 2.374441, Learning rate: 0.032400, Minibatch accuracy: 76.56%, Validation accuracy: 77.92% \n",
      "Step 7200, \tMinibatch loss 2.262206, Learning rate: 0.032400, Minibatch accuracy: 78.12%, Validation accuracy: 78.20% *\n",
      "Step 7600, \tMinibatch loss 2.301162, Learning rate: 0.032400, Minibatch accuracy: 73.44%, Validation accuracy: 79.36% *\n",
      "Step 8000, \tMinibatch loss 2.381252, Learning rate: 0.032400, Minibatch accuracy: 71.88%, Validation accuracy: 79.44% *\n",
      "Step 8400, \tMinibatch loss 2.088790, Learning rate: 0.032400, Minibatch accuracy: 81.25%, Validation accuracy: 80.32% *\n",
      "Step 8800, \tMinibatch loss 2.467689, Learning rate: 0.032400, Minibatch accuracy: 75.00%, Validation accuracy: 81.02% *\n",
      "Random shuffle\n",
      "Step 9200, \tMinibatch loss 2.485930, Learning rate: 0.029160, Minibatch accuracy: 76.56%, Validation accuracy: 80.91% \n",
      "Step 9600, \tMinibatch loss 2.315161, Learning rate: 0.029160, Minibatch accuracy: 81.25%, Validation accuracy: 81.41% *\n",
      "Step 10000, \tMinibatch loss 2.114280, Learning rate: 0.029160, Minibatch accuracy: 76.56%, Validation accuracy: 81.35% \n",
      "Step 10400, \tMinibatch loss 2.219697, Learning rate: 0.029160, Minibatch accuracy: 76.56%, Validation accuracy: 81.55% *\n",
      "Step 10800, \tMinibatch loss 2.360106, Learning rate: 0.029160, Minibatch accuracy: 84.38%, Validation accuracy: 81.86% *\n",
      "Step 11200, \tMinibatch loss 2.010342, Learning rate: 0.029160, Minibatch accuracy: 78.12%, Validation accuracy: 82.38% *\n",
      "Step 11600, \tMinibatch loss 1.879037, Learning rate: 0.029160, Minibatch accuracy: 81.25%, Validation accuracy: 82.00% \n",
      "Step 12000, \tMinibatch loss 1.995172, Learning rate: 0.029160, Minibatch accuracy: 84.38%, Validation accuracy: 82.61% *\n",
      "Random shuffle\n",
      "Step 12400, \tMinibatch loss 1.826802, Learning rate: 0.026244, Minibatch accuracy: 87.50%, Validation accuracy: 82.79% *\n",
      "Step 12800, \tMinibatch loss 1.910481, Learning rate: 0.026244, Minibatch accuracy: 78.12%, Validation accuracy: 83.39% *\n",
      "Step 13200, \tMinibatch loss 1.611320, Learning rate: 0.026244, Minibatch accuracy: 85.94%, Validation accuracy: 83.63% *\n",
      "Step 13600, \tMinibatch loss 1.435221, Learning rate: 0.026244, Minibatch accuracy: 84.38%, Validation accuracy: 83.90% *\n",
      "Step 14000, \tMinibatch loss 1.695796, Learning rate: 0.026244, Minibatch accuracy: 78.12%, Validation accuracy: 83.69% \n",
      "Step 14400, \tMinibatch loss 1.950391, Learning rate: 0.026244, Minibatch accuracy: 82.81%, Validation accuracy: 83.81% \n",
      "Step 14800, \tMinibatch loss 2.068376, Learning rate: 0.026244, Minibatch accuracy: 81.25%, Validation accuracy: 84.69% *\n",
      "Random shuffle\n",
      "Step 15200, \tMinibatch loss 1.554136, Learning rate: 0.023620, Minibatch accuracy: 78.12%, Validation accuracy: 84.32% \n",
      "Step 15600, \tMinibatch loss 1.309471, Learning rate: 0.023620, Minibatch accuracy: 85.94%, Validation accuracy: 84.31% \n",
      "Step 16000, \tMinibatch loss 1.594841, Learning rate: 0.023620, Minibatch accuracy: 81.25%, Validation accuracy: 84.60% \n",
      "Step 16400, \tMinibatch loss 1.452597, Learning rate: 0.023620, Minibatch accuracy: 81.25%, Validation accuracy: 84.99% *\n",
      "Step 16800, \tMinibatch loss 1.812522, Learning rate: 0.023620, Minibatch accuracy: 78.12%, Validation accuracy: 84.84% \n",
      "Step 17200, \tMinibatch loss 1.946110, Learning rate: 0.023620, Minibatch accuracy: 81.25%, Validation accuracy: 85.41% *\n",
      "Step 17600, \tMinibatch loss 1.939000, Learning rate: 0.023620, Minibatch accuracy: 79.69%, Validation accuracy: 85.44% *\n",
      "Step 18000, \tMinibatch loss 1.460495, Learning rate: 0.023620, Minibatch accuracy: 84.38%, Validation accuracy: 85.77% *\n",
      "Random shuffle\n",
      "Step 18400, \tMinibatch loss 1.364818, Learning rate: 0.021258, Minibatch accuracy: 92.19%, Validation accuracy: 85.60% \n",
      "Step 18800, \tMinibatch loss 1.406554, Learning rate: 0.021258, Minibatch accuracy: 81.25%, Validation accuracy: 85.64% \n",
      "Step 19200, \tMinibatch loss 1.736268, Learning rate: 0.021258, Minibatch accuracy: 81.25%, Validation accuracy: 86.04% *\n",
      "Step 19600, \tMinibatch loss 1.285637, Learning rate: 0.021258, Minibatch accuracy: 90.62%, Validation accuracy: 86.02% \n",
      "Step 20000, \tMinibatch loss 1.582294, Learning rate: 0.021258, Minibatch accuracy: 82.81%, Validation accuracy: 86.19% *\n",
      "Step 20400, \tMinibatch loss 1.304020, Learning rate: 0.021258, Minibatch accuracy: 93.75%, Validation accuracy: 86.26% *\n",
      "Step 20800, \tMinibatch loss 1.212834, Learning rate: 0.021258, Minibatch accuracy: 93.75%, Validation accuracy: 86.34% *\n",
      "Random shuffle\n",
      "Step 21200, \tMinibatch loss 1.300463, Learning rate: 0.019132, Minibatch accuracy: 84.38%, Validation accuracy: 86.26% \n",
      "Step 21600, \tMinibatch loss 1.103254, Learning rate: 0.019132, Minibatch accuracy: 89.06%, Validation accuracy: 86.62% *\n",
      "Step 22000, \tMinibatch loss 1.287227, Learning rate: 0.019132, Minibatch accuracy: 87.50%, Validation accuracy: 86.63% *\n",
      "Step 22400, \tMinibatch loss 1.219041, Learning rate: 0.019132, Minibatch accuracy: 85.94%, Validation accuracy: 86.81% *\n",
      "Step 22800, \tMinibatch loss 1.935840, Learning rate: 0.019132, Minibatch accuracy: 76.56%, Validation accuracy: 86.91% *\n",
      "Step 23200, \tMinibatch loss 1.413276, Learning rate: 0.019132, Minibatch accuracy: 89.06%, Validation accuracy: 86.85% \n",
      "Step 23600, \tMinibatch loss 1.158812, Learning rate: 0.019132, Minibatch accuracy: 82.81%, Validation accuracy: 86.79% \n",
      "Step 24000, \tMinibatch loss 1.572142, Learning rate: 0.019132, Minibatch accuracy: 85.94%, Validation accuracy: 86.99% *\n",
      "Random shuffle\n",
      "Step 24400, \tMinibatch loss 1.485400, Learning rate: 0.017219, Minibatch accuracy: 76.56%, Validation accuracy: 87.06% *\n",
      "Step 24800, \tMinibatch loss 1.261105, Learning rate: 0.017219, Minibatch accuracy: 84.38%, Validation accuracy: 87.17% *\n",
      "Step 25200, \tMinibatch loss 1.368726, Learning rate: 0.017219, Minibatch accuracy: 85.94%, Validation accuracy: 87.05% \n",
      "Step 25600, \tMinibatch loss 1.258458, Learning rate: 0.017219, Minibatch accuracy: 85.94%, Validation accuracy: 87.14% \n",
      "Step 26000, \tMinibatch loss 1.502033, Learning rate: 0.017219, Minibatch accuracy: 81.25%, Validation accuracy: 87.16% \n",
      "Step 26400, \tMinibatch loss 0.982436, Learning rate: 0.017219, Minibatch accuracy: 90.62%, Validation accuracy: 87.35% *\n",
      "Step 26800, \tMinibatch loss 1.289705, Learning rate: 0.017219, Minibatch accuracy: 82.81%, Validation accuracy: 87.33% \n",
      "Random shuffle\n",
      "Step 27200, \tMinibatch loss 1.159145, Learning rate: 0.015497, Minibatch accuracy: 81.25%, Validation accuracy: 87.43% *\n",
      "Step 27600, \tMinibatch loss 1.399065, Learning rate: 0.015497, Minibatch accuracy: 79.69%, Validation accuracy: 87.32% \n",
      "Step 28000, \tMinibatch loss 1.189874, Learning rate: 0.015497, Minibatch accuracy: 73.44%, Validation accuracy: 87.36% \n",
      "Step 28400, \tMinibatch loss 1.207443, Learning rate: 0.015497, Minibatch accuracy: 85.94%, Validation accuracy: 87.56% *\n",
      "Step 28800, \tMinibatch loss 1.358139, Learning rate: 0.015497, Minibatch accuracy: 81.25%, Validation accuracy: 87.62% *\n",
      "Step 29200, \tMinibatch loss 1.136732, Learning rate: 0.015497, Minibatch accuracy: 84.38%, Validation accuracy: 87.82% *\n",
      "Step 29600, \tMinibatch loss 1.064612, Learning rate: 0.015497, Minibatch accuracy: 90.62%, Validation accuracy: 87.92% *\n",
      "Step 30000, \tMinibatch loss 1.116828, Learning rate: 0.015497, Minibatch accuracy: 92.19%, Validation accuracy: 87.77% \n",
      "Random shuffle\n",
      "Step 30400, \tMinibatch loss 1.024579, Learning rate: 0.013947, Minibatch accuracy: 82.81%, Validation accuracy: 87.72% \n",
      "Step 30800, \tMinibatch loss 1.166039, Learning rate: 0.013947, Minibatch accuracy: 89.06%, Validation accuracy: 87.80% \n",
      "Step 31200, \tMinibatch loss 0.964855, Learning rate: 0.013947, Minibatch accuracy: 85.94%, Validation accuracy: 87.79% \n",
      "Step 31600, \tMinibatch loss 1.100962, Learning rate: 0.013947, Minibatch accuracy: 87.50%, Validation accuracy: 87.92% \n",
      "Step 32000, \tMinibatch loss 1.216381, Learning rate: 0.013947, Minibatch accuracy: 81.25%, Validation accuracy: 88.01% *\n",
      "Step 32400, \tMinibatch loss 1.762440, Learning rate: 0.013947, Minibatch accuracy: 78.12%, Validation accuracy: 87.78% \n",
      "Step 32800, \tMinibatch loss 1.345680, Learning rate: 0.013947, Minibatch accuracy: 82.81%, Validation accuracy: 88.18% *\n",
      "Step 33200, \tMinibatch loss 1.077816, Learning rate: 0.013947, Minibatch accuracy: 89.06%, Validation accuracy: 88.08% \n",
      "Random shuffle\n",
      "Step 33600, \tMinibatch loss 1.350134, Learning rate: 0.012552, Minibatch accuracy: 89.06%, Validation accuracy: 87.96% \n",
      "Step 34000, \tMinibatch loss 1.232753, Learning rate: 0.012552, Minibatch accuracy: 82.81%, Validation accuracy: 88.31% *\n",
      "Step 34400, \tMinibatch loss 1.028665, Learning rate: 0.012552, Minibatch accuracy: 85.94%, Validation accuracy: 88.21% \n",
      "Step 34800, \tMinibatch loss 1.150035, Learning rate: 0.012552, Minibatch accuracy: 81.25%, Validation accuracy: 87.97% \n",
      "Step 35200, \tMinibatch loss 1.045217, Learning rate: 0.012552, Minibatch accuracy: 87.50%, Validation accuracy: 88.23% \n",
      "Step 35600, \tMinibatch loss 1.249029, Learning rate: 0.012552, Minibatch accuracy: 82.81%, Validation accuracy: 88.26% \n",
      "Step 36000, \tMinibatch loss 0.701509, Learning rate: 0.012552, Minibatch accuracy: 92.19%, Validation accuracy: 88.33% *\n",
      "Random shuffle\n",
      "Step 36400, \tMinibatch loss 1.612062, Learning rate: 0.011297, Minibatch accuracy: 79.69%, Validation accuracy: 88.17% \n",
      "Step 36800, \tMinibatch loss 1.104679, Learning rate: 0.011297, Minibatch accuracy: 93.75%, Validation accuracy: 88.34% *\n",
      "Step 37200, \tMinibatch loss 1.023172, Learning rate: 0.011297, Minibatch accuracy: 87.50%, Validation accuracy: 88.15% \n",
      "Step 37600, \tMinibatch loss 1.155525, Learning rate: 0.011297, Minibatch accuracy: 87.50%, Validation accuracy: 88.46% *\n",
      "Step 38000, \tMinibatch loss 1.012262, Learning rate: 0.011297, Minibatch accuracy: 87.50%, Validation accuracy: 88.37% \n",
      "Step 38400, \tMinibatch loss 1.297474, Learning rate: 0.011297, Minibatch accuracy: 85.94%, Validation accuracy: 88.54% *\n",
      "Step 38800, \tMinibatch loss 1.418962, Learning rate: 0.011297, Minibatch accuracy: 89.06%, Validation accuracy: 88.33% \n",
      "Step 39200, \tMinibatch loss 0.817101, Learning rate: 0.011297, Minibatch accuracy: 92.19%, Validation accuracy: 88.18% \n",
      "Random shuffle\n",
      "Step 39600, \tMinibatch loss 1.179960, Learning rate: 0.010167, Minibatch accuracy: 82.81%, Validation accuracy: 88.40% \n",
      "Step 40000, \tMinibatch loss 1.105153, Learning rate: 0.010167, Minibatch accuracy: 87.50%, Validation accuracy: 88.58% *\n",
      "Step 40400, \tMinibatch loss 1.074432, Learning rate: 0.010167, Minibatch accuracy: 82.81%, Validation accuracy: 88.50% \n",
      "Step 40800, \tMinibatch loss 0.943818, Learning rate: 0.010167, Minibatch accuracy: 85.94%, Validation accuracy: 88.50% \n",
      "Step 41200, \tMinibatch loss 0.903735, Learning rate: 0.010167, Minibatch accuracy: 90.62%, Validation accuracy: 88.47% \n",
      "Step 41600, \tMinibatch loss 0.806549, Learning rate: 0.010167, Minibatch accuracy: 95.31%, Validation accuracy: 88.47% \n",
      "Step 42000, \tMinibatch loss 0.766378, Learning rate: 0.010167, Minibatch accuracy: 92.19%, Validation accuracy: 88.57% \n",
      "Random shuffle\n",
      "Step 42400, \tMinibatch loss 1.087430, Learning rate: 0.009151, Minibatch accuracy: 81.25%, Validation accuracy: 88.48% \n",
      "Step 42800, \tMinibatch loss 0.903251, Learning rate: 0.009151, Minibatch accuracy: 89.06%, Validation accuracy: 88.58% \n",
      "Step 43200, \tMinibatch loss 0.873557, Learning rate: 0.009151, Minibatch accuracy: 89.06%, Validation accuracy: 88.61% *\n",
      "Step 43600, \tMinibatch loss 1.061312, Learning rate: 0.009151, Minibatch accuracy: 89.06%, Validation accuracy: 88.60% \n",
      "Step 44000, \tMinibatch loss 1.032254, Learning rate: 0.009151, Minibatch accuracy: 82.81%, Validation accuracy: 88.46% \n",
      "Step 44400, \tMinibatch loss 0.961710, Learning rate: 0.009151, Minibatch accuracy: 85.94%, Validation accuracy: 88.59% \n",
      "Step 44800, \tMinibatch loss 0.920930, Learning rate: 0.009151, Minibatch accuracy: 81.25%, Validation accuracy: 88.67% *\n",
      "Step 45200, \tMinibatch loss 0.900846, Learning rate: 0.009151, Minibatch accuracy: 81.25%, Validation accuracy: 88.78% *\n",
      "Random shuffle\n",
      "Step 45600, \tMinibatch loss 0.921667, Learning rate: 0.008236, Minibatch accuracy: 82.81%, Validation accuracy: 88.65% \n",
      "Step 46000, \tMinibatch loss 0.824292, Learning rate: 0.008236, Minibatch accuracy: 89.06%, Validation accuracy: 88.81% *\n",
      "Step 46400, \tMinibatch loss 0.849002, Learning rate: 0.008236, Minibatch accuracy: 89.06%, Validation accuracy: 88.84% *\n",
      "Step 46800, \tMinibatch loss 1.071943, Learning rate: 0.008236, Minibatch accuracy: 85.94%, Validation accuracy: 88.79% \n",
      "Step 47200, \tMinibatch loss 0.940489, Learning rate: 0.008236, Minibatch accuracy: 82.81%, Validation accuracy: 88.70% \n",
      "Step 47600, \tMinibatch loss 1.127545, Learning rate: 0.008236, Minibatch accuracy: 82.81%, Validation accuracy: 88.85% *\n",
      "Step 48000, \tMinibatch loss 1.173218, Learning rate: 0.008236, Minibatch accuracy: 84.38%, Validation accuracy: 88.65% \n",
      "Random shuffle\n",
      "Step 48400, \tMinibatch loss 0.811308, Learning rate: 0.007412, Minibatch accuracy: 89.06%, Validation accuracy: 88.75% \n",
      "Step 48800, \tMinibatch loss 0.699998, Learning rate: 0.007412, Minibatch accuracy: 92.19%, Validation accuracy: 88.92% *\n",
      "Step 49200, \tMinibatch loss 0.951798, Learning rate: 0.007412, Minibatch accuracy: 87.50%, Validation accuracy: 88.78% \n",
      "Step 49600, \tMinibatch loss 1.120734, Learning rate: 0.007412, Minibatch accuracy: 87.50%, Validation accuracy: 88.76% \n",
      "Step 50000, \tMinibatch loss 0.920398, Learning rate: 0.007412, Minibatch accuracy: 87.50%, Validation accuracy: 88.78% \n",
      "Step 50400, \tMinibatch loss 0.878827, Learning rate: 0.007412, Minibatch accuracy: 90.62%, Validation accuracy: 88.94% *\n",
      "Step 50800, \tMinibatch loss 0.956784, Learning rate: 0.007412, Minibatch accuracy: 82.81%, Validation accuracy: 88.90% \n",
      "Step 51200, \tMinibatch loss 0.965610, Learning rate: 0.007412, Minibatch accuracy: 87.50%, Validation accuracy: 88.88% \n",
      "Random shuffle\n",
      "Step 51600, \tMinibatch loss 1.272183, Learning rate: 0.006671, Minibatch accuracy: 81.25%, Validation accuracy: 88.84% \n",
      "Step 52000, \tMinibatch loss 0.851986, Learning rate: 0.006671, Minibatch accuracy: 85.94%, Validation accuracy: 88.81% \n",
      "Step 52400, \tMinibatch loss 1.051421, Learning rate: 0.006671, Minibatch accuracy: 85.94%, Validation accuracy: 88.91% \n",
      "Step 52800, \tMinibatch loss 1.217049, Learning rate: 0.006671, Minibatch accuracy: 84.38%, Validation accuracy: 88.82% \n",
      "Step 53200, \tMinibatch loss 0.613430, Learning rate: 0.006671, Minibatch accuracy: 90.62%, Validation accuracy: 88.80% \n",
      "Step 53600, \tMinibatch loss 1.116464, Learning rate: 0.006671, Minibatch accuracy: 82.81%, Validation accuracy: 88.87% \n",
      "Step 54000, \tMinibatch loss 0.955887, Learning rate: 0.006671, Minibatch accuracy: 84.38%, Validation accuracy: 88.94% \n",
      "Random shuffle\n",
      "Step 54400, \tMinibatch loss 1.461697, Learning rate: 0.006004, Minibatch accuracy: 79.69%, Validation accuracy: 88.89% \n",
      "Step 54800, \tMinibatch loss 0.802299, Learning rate: 0.006004, Minibatch accuracy: 92.19%, Validation accuracy: 88.83% \n",
      "Valid accuracy makes no progress in 4000 steps\n"
     ]
    }
   ],
   "source": [
    "import time\n",
    "import datetime\n",
    "\n",
    "SHOW_STATE_AFTER = 400\n",
    "\n",
    "train_accuracies = []\n",
    "valid_accuracies = []\n",
    "\n",
    "best_valid_accuracy = 0\n",
    "best_accuracy_step = 0\n",
    "stop_after_step_no_progress = 4000\n",
    "\n",
    "start_time = time.time()\n",
    "with tf.Session(graph=graph) as session:\n",
    "    tf.initialize_all_variables().run()\n",
    "    print('Initialized')\n",
    "    offset = 0\n",
    "    \n",
    "    step = 0\n",
    "    while True:\n",
    "        step += 1\n",
    "        if(offset == 0):\n",
    "            train_dataset, train_labels = shuffle_in_unison_inplace(train_dataset, train_labels)\n",
    "            print('Random shuffle')\n",
    "        feed_dict = {\n",
    "            tf_train_dataset : train_dataset[offset:(offset + BATCH_SIZE)], \n",
    "            tf_train_labels : train_labels[offset:(offset + BATCH_SIZE)]\n",
    "        }\n",
    "        offset += BATCH_SIZE\n",
    "        if offset+BATCH_SIZE > train_labels.shape[0]:\n",
    "            offset = 0\n",
    "        _, l, lr = session.run([optimizer, loss, learning_rate], feed_dict=feed_dict)\n",
    "        if (step % SHOW_STATE_AFTER == 0):\n",
    "            elapsed_time = time.time() - start_time\n",
    "            start_time = time.time()\n",
    "            train_acc, valid_acc = session.run([train_accuracy, valid_accuracy], feed_dict=feed_dict)\n",
    "\n",
    "            improved_str = ''\n",
    "            if valid_acc > best_valid_accuracy:\n",
    "                saver.save(session, 'multi22.ckpt', write_meta_graph=False)\n",
    "                best_valid_accuracy = valid_acc\n",
    "                best_accuracy_step = step\n",
    "                improved_str = '*'\n",
    "            \n",
    "            train_accuracies.append(train_acc)\n",
    "            valid_accuracies.append(valid_acc)\n",
    "            print('Step %d, \\tMinibatch loss %f, Learning rate: %.6f, Minibatch accuracy: %.2f%%, Validation accuracy: %.2f%% %s' % \\\n",
    "                  (step, l, lr, train_acc, valid_acc, improved_str))\n",
    "            \n",
    "            if step - best_accuracy_step > stop_after_step_no_progress:\n",
    "                print(\"Valid accuracy makes no progress in {} steps\".format(stop_after_step_no_progress))\n",
    "                break"
   ]
  },
  {
   "cell_type": "markdown",
   "metadata": {},
   "source": [
    "### 学习曲线"
   ]
  },
  {
   "cell_type": "code",
   "execution_count": 27,
   "metadata": {
    "collapsed": false
   },
   "outputs": [
    {
     "data": {
      "text/plain": [
       "<matplotlib.legend.Legend at 0x7efed0591b38>"
      ]
     },
     "execution_count": 27,
     "metadata": {},
     "output_type": "execute_result"
    },
    {
     "data": {
      "image/png": "[encoded data removed]",
      "text/plain": [
       "<matplotlib.figure.Figure at 0x7efebb77a5f8>"
      ]
     },
     "metadata": {},
     "output_type": "display_data"
    }
   ],
   "source": [
    "plt.plot(range(0, step, SHOW_STATE_AFTER), train_accuracies)\n",
    "plt.plot(range(0, step, SHOW_STATE_AFTER), valid_accuracies)\n",
    "plt.title('Learning curve')\n",
    "plt.xlabel('Number of steps')\n",
    "plt.ylabel('Accuracy(%)')\n",
    "plt.legend(['Train accuracy', 'Valid accuracy'], loc='best')"
   ]
  },
  {
   "cell_type": "code",
   "execution_count": null,
   "metadata": {
    "collapsed": true
   },
   "outputs": [],
   "source": []
  }
 ],
 "metadata": {
  "anaconda-cloud": {},
  "kernelspec": {
   "display_name": "Python [conda root]",
   "language": "python",
   "name": "conda-root-py"
  },
  "language_info": {
   "codemirror_mode": {
    "name": "ipython",
    "version": 3
   },
   "file_extension": ".py",
   "mimetype": "text/x-python",
   "name": "python",
   "nbconvert_exporter": "python",
   "pygments_lexer": "ipython3",
   "version": "3.5.2"
  }
 },
 "nbformat": 4,
 "nbformat_minor": 0
}
