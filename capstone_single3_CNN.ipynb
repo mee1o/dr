{
 "cells": [
  {
   "cell_type": "markdown",
   "metadata": {},
   "source": [
    "## 3 \n",
    "\n",
    "作者 meelo\n",
    "\n",
    "### 加载经过预处理的数据"
   ]
  },
  {
   "cell_type": "code",
   "execution_count": 1,
   "metadata": {
    "collapsed": true
   },
   "outputs": [],
   "source": [
    "from __future__ import print_function\n",
    "from six.moves import cPickle as pickle\n",
    "import numpy as np\n",
    "import tensorflow as tf\n",
    "import matplotlib.pyplot as plt\n",
    "\n",
    "%matplotlib inline"
   ]
  },
  {
   "cell_type": "code",
   "execution_count": 2,
   "metadata": {
    "collapsed": false
   },
   "outputs": [
    {
     "name": "stdout",
     "output_type": "stream",
     "text": [
      "Training dataset shape:  (72457, 32, 32)\n",
      "Training labels shape:  (72457,)\n",
      "Validing dataset shape:  (800, 32, 32)\n",
      "Validing labels shape:  (800,)\n",
      "Testing dataset shape:  (10000, 32, 32)\n",
      "Testing labels shape:  (10000,)\n"
     ]
    }
   ],
   "source": [
    "pickle_file = 'svhn_single.pickle'\n",
    "\n",
    "with open(pickle_file, 'rb') as f:\n",
    "    dataset = pickle.load(f)\n",
    "    train_dataset = dataset['train_dataset']\n",
    "    train_labels = dataset['train_labels']\n",
    "    valid_dataset = dataset['valid_dataset']\n",
    "    valid_labels = dataset['valid_labels']\n",
    "    test_dataset = dataset['test_dataset'][:10000]\n",
    "    test_labels = dataset['test_labels'][:10000]\n",
    "    del dataset\n",
    "    \n",
    "print('Training dataset shape: ', train_dataset.shape)\n",
    "print('Training labels shape: ', train_labels.shape)\n",
    "print('Validing dataset shape: ', valid_dataset.shape)\n",
    "print('Validing labels shape: ', valid_labels.shape)\n",
    "print('Testing dataset shape: ', test_dataset.shape)\n",
    "print('Testing labels shape: ', test_labels.shape)"
   ]
  },
  {
   "cell_type": "markdown",
   "metadata": {
    "collapsed": true
   },
   "source": [
    "### 将数据修改成适合TensorFlow的格式\n",
    "\n",
    "- 卷积要求图片数据的形状为(宽度×高度×通道数)\n",
    "- 图片的标签需要进行1-hot编码，并转换成浮点数\n",
    "\n",
    "\n",
    "![](./images/onehot.png)"
   ]
  },
  {
   "cell_type": "code",
   "execution_count": 4,
   "metadata": {
    "collapsed": false
   },
   "outputs": [
    {
     "name": "stdout",
     "output_type": "stream",
     "text": [
      "[ 9  9  5 10  5  6  1  8  2  7  2  5  1  1  3  8  4  1  3  1  9  1  6  7  9\n",
      "  5  1  3  7  7  2  1  1  9  3  8  4  4  2  7  2  9  1  1  5  2  1  1  6  3\n",
      "  1  7  5  1  1  8  5  8  1  9  9  2  3  5  5  6  9  1  5  2  9  8  1 10  2\n",
      "  1  7  3  1  6  5  1  9  1  2  3  5  2  3  6 10  7  8  1  1  6  3  7  8  7]\n"
     ]
    }
   ],
   "source": [
    "print(train_labels[100:200])"
   ]
  },
  {
   "cell_type": "markdown",
   "metadata": {},
   "source": [
    "在原始数据中，数字1-9的标签是1-9，而数字0的标签是10。为了确保1-hot编码，表示是否为0的标签在第1列，应当使用语句`np.array([10,1,2,3,4,5,6,7,8,9]) == labels`。\n",
    "\n",
    "将10替换成0\n",
    "不然argmax不对应"
   ]
  },
  {
   "cell_type": "code",
   "execution_count": 5,
   "metadata": {
    "collapsed": true
   },
   "outputs": [],
   "source": [
    "IMAGE_SIZE = 32\n",
    "NUM_LABELS = 10\n",
    "num_channels = 1 # grayscale"
   ]
  },
  {
   "cell_type": "code",
   "execution_count": 6,
   "metadata": {
    "collapsed": false
   },
   "outputs": [
    {
     "name": "stdout",
     "output_type": "stream",
     "text": [
      "Training set (72457, 32, 32, 1) (72457,)\n",
      "Validation set (800, 32, 32, 1) (800,)\n",
      "Test set (10000, 32, 32, 1) (10000,)\n"
     ]
    }
   ],
   "source": [
    "def reformat(dataset, labels):\n",
    "    dataset = dataset.reshape((-1, IMAGE_SIZE, IMAGE_SIZE, num_channels)).astype(np.float32)\n",
    "    #labels = (np.array([10,1,2,3,4,5,6,7,8,9]) == labels).astype(np.float32) # one-hot encoding\n",
    "    labels[labels==10] = 0\n",
    "    return dataset, labels\n",
    "\n",
    "train_dataset, train_labels = reformat(train_dataset, train_labels)\n",
    "valid_dataset, valid_labels = reformat(valid_dataset, valid_labels)\n",
    "test_dataset, test_labels = reformat(test_dataset, test_labels)\n",
    "\n",
    "print('Training set', train_dataset.shape, train_labels.shape)\n",
    "print('Validation set', valid_dataset.shape, valid_labels.shape)\n",
    "print('Test set', test_dataset.shape, test_labels.shape)"
   ]
  },
  {
   "cell_type": "markdown",
   "metadata": {
    "collapsed": true
   },
   "source": [
    "truncated normal  \n",
    "soft max  \n",
    "cross entroy loss  \n",
    "regularizers  \n",
    "learning rate decay\n",
    "训练时dropout  \n",
    "sparse  \n",
    "随机梯度下降 Momumtum  \n",
    "部分加载数据"
   ]
  },
  {
   "cell_type": "code",
   "execution_count": 7,
   "metadata": {
    "collapsed": false
   },
   "outputs": [],
   "source": [
    "tf_valid_dataset = tf.constant(valid_dataset)\n",
    "tf_valid_labels = tf.constant(valid_labels, dtype=tf.int64)\n",
    "tf_test_dataset = tf.constant(test_dataset)\n",
    "tf_test_labels = tf.constant(test_labels, dtype=tf.int64)"
   ]
  },
  {
   "cell_type": "code",
   "execution_count": 39,
   "metadata": {
    "collapsed": true
   },
   "outputs": [],
   "source": [
    "BATCH_SIZE = 64\n",
    "PATCH_SIZE = 5\n",
    "DEPTH_1 = 16\n",
    "DEPTH_2 = 32\n",
    "DEPTH_3 = 64\n",
    "NUM_HIDDEN = 128\n",
    "SEED = 42\n",
    "\n",
    "# BATCH_SIZE * 32 * 32 * 1\n",
    "# conv1: 5 * 5 * 1 * 8\n",
    "# BATCH_SIZE * 16 * 16 * 8\n",
    "# conv2: 5 * 5 * 8 * 16\n",
    "# BATCH_SIZE * 8 * 8 * 16\n",
    "# conv3: 5 * 5 * 16 * 32\n",
    "# BATCH_SIZE * 4 * 4 * 32\n",
    "# fc1: 512 * 64\n",
    "# BATCH_SIZE * 64\n",
    "# fc2: 64 * 10 \n",
    "# BATCH_SIZE * 10"
   ]
  },
  {
   "cell_type": "code",
   "execution_count": 40,
   "metadata": {
    "collapsed": false
   },
   "outputs": [],
   "source": [
    "graph = tf.Graph()\n",
    "with graph.as_default():\n",
    "    # Input data\n",
    "    tf_train_dataset = tf.placeholder(tf.float32, shape=(None, IMAGE_SIZE, IMAGE_SIZE, num_channels))\n",
    "    tf_train_labels = tf.placeholder(tf.int64, shape=(None,))\n",
    "    tf_valid_dataset = tf.constant(valid_dataset)\n",
    "    tf_valid_labels = tf.constant(valid_labels, dtype=tf.int64)\n",
    "    \n",
    "    conv1_weights = tf.Variable(tf.truncated_normal([PATCH_SIZE, PATCH_SIZE, num_channels, DEPTH_1], stddev=0.1))\n",
    "    conv1_biases = tf.Variable(tf.zeros([DEPTH_1]))\n",
    "    conv2_weights = tf.Variable(tf.truncated_normal([PATCH_SIZE, PATCH_SIZE, DEPTH_1, DEPTH_2], stddev=0.1))\n",
    "    conv2_biases = tf.Variable(tf.zeros([DEPTH_2]))\n",
    "    conv3_weights = tf.Variable(tf.truncated_normal([PATCH_SIZE, PATCH_SIZE, DEPTH_2, DEPTH_3], stddev=0.1))\n",
    "    conv3_biases = tf.Variable(tf.zeros([DEPTH_3]))\n",
    "    fc1_weights = tf.Variable(tf.truncated_normal([IMAGE_SIZE//8 * IMAGE_SIZE//8 * DEPTH_3, NUM_HIDDEN], stddev=0.1))\n",
    "    fc1_biases = tf.Variable(tf.constant(1.0, shape=[NUM_HIDDEN]))\n",
    "    fc2_weights = tf.Variable(tf.truncated_normal([NUM_HIDDEN, NUM_LABELS], stddev=0.1))\n",
    "    fc2_biases = tf.Variable(tf.constant(1.0, shape=[NUM_LABELS]))\n",
    "    \n",
    "    saver = tf.train.Saver(tf.trainable_variables()) # defaults to saving all variables\n",
    "    \n",
    "    def model(data, train=False):\n",
    "        conv = tf.nn.conv2d(data, conv1_weights, strides=[1, 1, 1, 1], padding='SAME')\n",
    "        relu = tf.nn.relu(tf.nn.bias_add(conv, conv1_biases))\n",
    "        pool = tf.nn.max_pool(relu, ksize=[1, 2, 2, 1], strides=[1, 2, 2, 1], padding='SAME')\n",
    "        conv = tf.nn.conv2d(pool, conv2_weights, strides=[1, 1, 1, 1], padding='SAME')\n",
    "        relu = tf.nn.relu(tf.nn.bias_add(conv, conv2_biases))\n",
    "        pool = tf.nn.max_pool(relu, ksize=[1, 2, 2, 1], strides=[1, 2, 2, 1], padding='SAME')\n",
    "        conv = tf.nn.conv2d(pool, conv3_weights, strides=[1, 1, 1, 1], padding='SAME')\n",
    "        relu = tf.nn.relu(tf.nn.bias_add(conv, conv3_biases))\n",
    "        pool = tf.nn.max_pool(relu, ksize=[1, 2, 2, 1], strides=[1, 2, 2, 1], padding='SAME')\n",
    "        shape = pool.get_shape().as_list()\n",
    "        reshape = tf.reshape(pool, [-1, shape[1]*shape[2]*shape[3]])\n",
    "        hidden = tf.nn.relu(tf.matmul(reshape, fc1_weights) + fc1_biases)\n",
    "        if train:\n",
    "            hidden = tf.nn.dropout(hidden, 0.6, seed=SEED)\n",
    "        return tf.matmul(hidden, fc2_weights) + fc2_biases\n",
    "    \n",
    "    def accuracy(predictions, labels):\n",
    "        return tf.reduce_mean(tf.cast(tf.equal(tf.argmax(predictions, 1), labels), tf.float32)) * 100\n",
    "    \n",
    "    logits = model(tf_train_dataset, True)\n",
    "    loss = tf.reduce_mean(tf.nn.sparse_softmax_cross_entropy_with_logits(logits, tf_train_labels))\n",
    "    \n",
    "    regularizers = tf.nn.l2_loss(fc1_weights) + tf.nn.l2_loss(fc1_biases) + tf.nn.l2_loss(fc2_weights) + tf.nn.l2_loss(fc2_biases)\n",
    "    loss += 5e-4 * regularizers\n",
    "    \n",
    "    batch = tf.Variable(0, dtype=tf.float32)\n",
    "    #decayed_learning_rate = learning_rate *\n",
    "    #                    decay_rate ^ (global_step / decay_steps)\n",
    "    learning_rate = tf.train.exponential_decay(\n",
    "        0.01, # Base learning rate\n",
    "        batch * BATCH_SIZE, # Current index into the dataset\n",
    "        train_labels.shape[0], # Decay step\n",
    "        0.95, # Decay rate,\n",
    "        staircase=True\n",
    "    )\n",
    "    \n",
    "    optimizer = tf.train.MomentumOptimizer(learning_rate, 0.9).minimize(loss, global_step=batch)\n",
    "    \n",
    "    train_prediction = tf.nn.softmax(logits)\n",
    "    valid_prediction = tf.nn.softmax(model(tf_valid_dataset))\n",
    "    \n",
    "    train_accuracy = accuracy(train_prediction, tf_train_labels)\n",
    "    valid_accuracy = accuracy(valid_prediction, tf_valid_labels)\n"
   ]
  },
  {
   "cell_type": "raw",
   "metadata": {
    "collapsed": false
   },
   "source": [
    "\n",
    "test_prediction = tf.nn.softmax(model(tf_test_dataset))\n",
    "\n",
    "test_accuracy = accuracy(test_prediction, tf_test_labels)"
   ]
  },
  {
   "cell_type": "markdown",
   "metadata": {},
   "source": [
    "训练后期，loss及准确率波动较大，应当使用学习率exponential decay\n",
    "\n",
    "### 最佳模型\n",
    "Validation accuracy: 83.5%  \n",
    "Test accuracy: 82.5%\n",
    "\n",
    "Validation accuracy: 88.1%  \n",
    "Test accuracy: 87.6%\n",
    "\n",
    "Validation accuracy: 90.8%\n",
    "Test accuracy: 88.2%\n",
    "\n",
    "Minibatch loss at step 10000: 0.354294, learning rate: 0.005404, 2.561s  \n",
    "Minibatch accuracy: 93.8%  \n",
    "Validation accuracy: 97.9%  \n",
    "Test accuracy: 90.2%  \n",
    "\n",
    "训练集使用过一次之后，随机打乱"
   ]
  },
  {
   "cell_type": "code",
   "execution_count": 15,
   "metadata": {
    "collapsed": true
   },
   "outputs": [],
   "source": [
    "def shuffle_in_unison_inplace(a, b):\n",
    "    assert len(a) == len(b)\n",
    "    p = np.random.permutation(len(a))\n",
    "    return a[p], b[p]"
   ]
  },
  {
   "cell_type": "code",
   "execution_count": 41,
   "metadata": {
    "collapsed": false,
    "scrolled": false
   },
   "outputs": [
    {
     "name": "stdout",
     "output_type": "stream",
     "text": [
      "Initialized\n",
      "Random shuffle\n",
      "Step 400, \tMinibatch loss 1.347676, Learning rate: 0.010000, Minibatch accuracy: 64.1%, Validation accuracy: 80.0%\n",
      "Step 800, \tMinibatch loss 0.868677, Learning rate: 0.010000, Minibatch accuracy: 81.2%, Validation accuracy: 84.2%\n",
      "Random shuffle\n",
      "Step 1200, \tMinibatch loss 1.004694, Learning rate: 0.009500, Minibatch accuracy: 81.2%, Validation accuracy: 84.8%\n",
      "Step 1600, \tMinibatch loss 0.706288, Learning rate: 0.009500, Minibatch accuracy: 84.4%, Validation accuracy: 89.9%\n",
      "Step 2000, \tMinibatch loss 0.627408, Learning rate: 0.009500, Minibatch accuracy: 89.1%, Validation accuracy: 88.9%\n",
      "Random shuffle\n",
      "Step 2400, \tMinibatch loss 0.479654, Learning rate: 0.009025, Minibatch accuracy: 93.8%, Validation accuracy: 88.6%\n",
      "Step 2800, \tMinibatch loss 0.772911, Learning rate: 0.009025, Minibatch accuracy: 90.6%, Validation accuracy: 89.6%\n",
      "Step 3200, \tMinibatch loss 0.393474, Learning rate: 0.009025, Minibatch accuracy: 95.3%, Validation accuracy: 90.8%\n",
      "Random shuffle\n",
      "Step 3600, \tMinibatch loss 0.575169, Learning rate: 0.008574, Minibatch accuracy: 89.1%, Validation accuracy: 90.6%\n",
      "Step 4000, \tMinibatch loss 0.699224, Learning rate: 0.008574, Minibatch accuracy: 87.5%, Validation accuracy: 93.0%\n",
      "Step 4400, \tMinibatch loss 0.530378, Learning rate: 0.008574, Minibatch accuracy: 85.9%, Validation accuracy: 91.1%\n",
      "Random shuffle\n",
      "Step 4800, \tMinibatch loss 0.379231, Learning rate: 0.008145, Minibatch accuracy: 95.3%, Validation accuracy: 91.9%\n",
      "Step 5200, \tMinibatch loss 0.987300, Learning rate: 0.008145, Minibatch accuracy: 89.1%, Validation accuracy: 94.1%\n",
      "Step 5600, \tMinibatch loss 0.537666, Learning rate: 0.008145, Minibatch accuracy: 90.6%, Validation accuracy: 93.0%\n",
      "Random shuffle\n",
      "Step 6000, \tMinibatch loss 0.378660, Learning rate: 0.007738, Minibatch accuracy: 93.8%, Validation accuracy: 94.0%\n",
      "Step 6400, \tMinibatch loss 0.482347, Learning rate: 0.007738, Minibatch accuracy: 93.8%, Validation accuracy: 93.4%\n",
      "Random shuffle\n",
      "Step 6800, \tMinibatch loss 0.583785, Learning rate: 0.007351, Minibatch accuracy: 85.9%, Validation accuracy: 93.9%\n",
      "Step 7200, \tMinibatch loss 0.605505, Learning rate: 0.007351, Minibatch accuracy: 92.2%, Validation accuracy: 93.9%\n",
      "Step 7600, \tMinibatch loss 0.365149, Learning rate: 0.007351, Minibatch accuracy: 95.3%, Validation accuracy: 94.8%\n",
      "Random shuffle\n",
      "Step 8000, \tMinibatch loss 0.273794, Learning rate: 0.006983, Minibatch accuracy: 96.9%, Validation accuracy: 94.6%\n",
      "Step 8400, \tMinibatch loss 0.212498, Learning rate: 0.006983, Minibatch accuracy: 100.0%, Validation accuracy: 95.1%\n",
      "Step 8800, \tMinibatch loss 0.402459, Learning rate: 0.006983, Minibatch accuracy: 92.2%, Validation accuracy: 94.5%\n",
      "Random shuffle\n",
      "Step 9200, \tMinibatch loss 0.267096, Learning rate: 0.006634, Minibatch accuracy: 95.3%, Validation accuracy: 95.4%\n",
      "Step 9600, \tMinibatch loss 0.273911, Learning rate: 0.006634, Minibatch accuracy: 96.9%, Validation accuracy: 95.0%\n",
      "Step 10000, \tMinibatch loss 0.491826, Learning rate: 0.006634, Minibatch accuracy: 89.1%, Validation accuracy: 94.7%\n",
      "Random shuffle\n",
      "Step 10400, \tMinibatch loss 0.273112, Learning rate: 0.006302, Minibatch accuracy: 95.3%, Validation accuracy: 96.1%\n",
      "Step 10800, \tMinibatch loss 0.504249, Learning rate: 0.006302, Minibatch accuracy: 87.5%, Validation accuracy: 95.1%\n",
      "Step 11200, \tMinibatch loss 0.325509, Learning rate: 0.006302, Minibatch accuracy: 93.8%, Validation accuracy: 95.5%\n",
      "Random shuffle\n",
      "Step 11600, \tMinibatch loss 0.447485, Learning rate: 0.005987, Minibatch accuracy: 95.3%, Validation accuracy: 95.9%\n",
      "Step 12000, \tMinibatch loss 0.395659, Learning rate: 0.005987, Minibatch accuracy: 95.3%, Validation accuracy: 96.6%\n",
      "Step 12400, \tMinibatch loss 0.342324, Learning rate: 0.005987, Minibatch accuracy: 92.2%, Validation accuracy: 95.9%\n",
      "Random shuffle\n",
      "Step 12800, \tMinibatch loss 0.165468, Learning rate: 0.005688, Minibatch accuracy: 98.4%, Validation accuracy: 96.4%\n",
      "Step 13200, \tMinibatch loss 0.294224, Learning rate: 0.005688, Minibatch accuracy: 96.9%, Validation accuracy: 96.2%\n",
      "Random shuffle\n",
      "Step 13600, \tMinibatch loss 0.256821, Learning rate: 0.005404, Minibatch accuracy: 95.3%, Validation accuracy: 96.1%\n",
      "Step 14000, \tMinibatch loss 0.341144, Learning rate: 0.005404, Minibatch accuracy: 95.3%, Validation accuracy: 96.2%\n",
      "Step 14400, \tMinibatch loss 0.214698, Learning rate: 0.005404, Minibatch accuracy: 96.9%, Validation accuracy: 97.8%\n",
      "Random shuffle\n",
      "Step 14800, \tMinibatch loss 0.158993, Learning rate: 0.005133, Minibatch accuracy: 98.4%, Validation accuracy: 97.0%\n",
      "Step 15200, \tMinibatch loss 0.224467, Learning rate: 0.005133, Minibatch accuracy: 96.9%, Validation accuracy: 96.8%\n",
      "Step 15600, \tMinibatch loss 0.176635, Learning rate: 0.005133, Minibatch accuracy: 96.9%, Validation accuracy: 97.0%\n",
      "Random shuffle\n",
      "Step 16000, \tMinibatch loss 0.213195, Learning rate: 0.004877, Minibatch accuracy: 90.6%, Validation accuracy: 97.2%\n",
      "Step 16400, \tMinibatch loss 0.281221, Learning rate: 0.004877, Minibatch accuracy: 98.4%, Validation accuracy: 97.6%\n",
      "Step 16800, \tMinibatch loss 0.202480, Learning rate: 0.004877, Minibatch accuracy: 96.9%, Validation accuracy: 97.4%\n",
      "Random shuffle\n",
      "Step 17200, \tMinibatch loss 0.315008, Learning rate: 0.004633, Minibatch accuracy: 95.3%, Validation accuracy: 97.6%\n",
      "Step 17600, \tMinibatch loss 0.250242, Learning rate: 0.004633, Minibatch accuracy: 95.3%, Validation accuracy: 97.9%\n",
      "Step 18000, \tMinibatch loss 0.194257, Learning rate: 0.004633, Minibatch accuracy: 90.6%, Validation accuracy: 97.8%\n",
      "Random shuffle\n",
      "Step 18400, \tMinibatch loss 0.214761, Learning rate: 0.004401, Minibatch accuracy: 98.4%, Validation accuracy: 97.9%\n",
      "Step 18800, \tMinibatch loss 0.208913, Learning rate: 0.004401, Minibatch accuracy: 90.6%, Validation accuracy: 98.0%\n",
      "Step 19200, \tMinibatch loss 0.187337, Learning rate: 0.004401, Minibatch accuracy: 98.4%, Validation accuracy: 97.9%\n",
      "Random shuffle\n",
      "Step 19600, \tMinibatch loss 0.187120, Learning rate: 0.004181, Minibatch accuracy: 98.4%, Validation accuracy: 97.6%\n",
      "Step 20000, \tMinibatch loss 0.228012, Learning rate: 0.004181, Minibatch accuracy: 93.8%, Validation accuracy: 98.4%\n",
      "Random shuffle\n",
      "Step 20400, \tMinibatch loss 0.148279, Learning rate: 0.003972, Minibatch accuracy: 98.4%, Validation accuracy: 98.2%\n",
      "Step 20800, \tMinibatch loss 0.127250, Learning rate: 0.003972, Minibatch accuracy: 96.9%, Validation accuracy: 98.6%\n",
      "Step 21200, \tMinibatch loss 0.143363, Learning rate: 0.003972, Minibatch accuracy: 100.0%, Validation accuracy: 98.5%\n",
      "Random shuffle\n",
      "Step 21600, \tMinibatch loss 0.162986, Learning rate: 0.003774, Minibatch accuracy: 95.3%, Validation accuracy: 98.4%\n",
      "Step 22000, \tMinibatch loss 0.138242, Learning rate: 0.003774, Minibatch accuracy: 98.4%, Validation accuracy: 98.4%\n",
      "Step 22400, \tMinibatch loss 0.174615, Learning rate: 0.003774, Minibatch accuracy: 96.9%, Validation accuracy: 98.9%\n",
      "Random shuffle\n",
      "Step 22800, \tMinibatch loss 0.149151, Learning rate: 0.003585, Minibatch accuracy: 98.4%, Validation accuracy: 98.6%\n",
      "Step 23200, \tMinibatch loss 0.190467, Learning rate: 0.003585, Minibatch accuracy: 96.9%, Validation accuracy: 99.1%\n",
      "Step 23600, \tMinibatch loss 0.113426, Learning rate: 0.003585, Minibatch accuracy: 98.4%, Validation accuracy: 98.7%\n",
      "Random shuffle\n",
      "Step 24000, \tMinibatch loss 0.160093, Learning rate: 0.003406, Minibatch accuracy: 98.4%, Validation accuracy: 99.4%\n",
      "Step 24400, \tMinibatch loss 0.123079, Learning rate: 0.003406, Minibatch accuracy: 100.0%, Validation accuracy: 99.2%\n",
      "Step 24800, \tMinibatch loss 0.168159, Learning rate: 0.003406, Minibatch accuracy: 96.9%, Validation accuracy: 99.0%\n",
      "Random shuffle\n",
      "Step 25200, \tMinibatch loss 0.106523, Learning rate: 0.003235, Minibatch accuracy: 100.0%, Validation accuracy: 99.2%\n",
      "Step 25600, \tMinibatch loss 0.185422, Learning rate: 0.003235, Minibatch accuracy: 95.3%, Validation accuracy: 99.1%\n",
      "Step 26000, \tMinibatch loss 0.195366, Learning rate: 0.003235, Minibatch accuracy: 96.9%, Validation accuracy: 99.0%\n",
      "Random shuffle\n",
      "Step 26400, \tMinibatch loss 0.119527, Learning rate: 0.003074, Minibatch accuracy: 98.4%, Validation accuracy: 99.1%\n",
      "Step 26800, \tMinibatch loss 0.171673, Learning rate: 0.003074, Minibatch accuracy: 100.0%, Validation accuracy: 99.2%\n",
      "Random shuffle\n",
      "Step 27200, \tMinibatch loss 0.186575, Learning rate: 0.002920, Minibatch accuracy: 96.9%, Validation accuracy: 99.2%\n",
      "Valid accuracy makes no progress in steps\n"
     ]
    }
   ],
   "source": [
    "import time\n",
    "import datetime\n",
    "\n",
    "num_steps = 10001\n",
    "SHOW_STATE_AFTER = 400\n",
    "\n",
    "train_accuracies = []\n",
    "valid_accuracies = []\n",
    "\n",
    "best_valid_accuracy = 0\n",
    "best_accuracy_step = 0\n",
    "stop_after_step_no_progress = 3000\n",
    "\n",
    "start_time = time.time()\n",
    "with tf.Session(graph=graph) as session:\n",
    "    tf.initialize_all_variables().run()\n",
    "    print('Initialized')\n",
    "    offset = 0\n",
    "    step = 0\n",
    "    #for step in range(num_steps):\n",
    "    while True:\n",
    "        step += 1\n",
    "        if(offset == 0):\n",
    "            train_dataset, train_labels = shuffle_in_unison_inplace(train_dataset, train_labels)\n",
    "            print('Random shuffle')\n",
    "        feed_dict = {\n",
    "            tf_train_dataset : train_dataset[offset:(offset + BATCH_SIZE)], \n",
    "            tf_train_labels : train_labels[offset:(offset + BATCH_SIZE)]\n",
    "        }\n",
    "        offset += BATCH_SIZE\n",
    "        if offset+BATCH_SIZE > train_labels.shape[0]:\n",
    "            offset = 0\n",
    "        _, l, lr = session.run([optimizer, loss, learning_rate], feed_dict=feed_dict)\n",
    "        if (step % SHOW_STATE_AFTER == 0):\n",
    "            elapsed_time = time.time() - start_time\n",
    "            start_time = time.time()\n",
    "            train_acc, valid_acc = session.run([train_accuracy, valid_accuracy], feed_dict=feed_dict)\n",
    "\n",
    "            train_accuracies.append(train_acc)\n",
    "            valid_accuracies.append(valid_acc)\n",
    "            print('Step %d, \\tMinibatch loss %f, Learning rate: %.6f, Minibatch accuracy: %.1f%%, Validation accuracy: %.1f%%' % \\\n",
    "                  (step, l, lr, train_acc, valid_acc))\n",
    "            \n",
    "            if valid_acc > best_valid_accuracy:\n",
    "                saver.save(session, 'single.ckpt', write_meta_graph=False)\n",
    "                best_valid_accuracy = valid_acc\n",
    "                best_accuracy_step = step\n",
    "            if step - best_accuracy_step > stop_after_step_no_progress:\n",
    "                print(\"Valid accuracy makes no progress in {} steps\".format(stop_after_step_no_progress))\n",
    "                break"
   ]
  },
  {
   "cell_type": "markdown",
   "metadata": {},
   "source": [
    "### 学习曲线"
   ]
  },
  {
   "cell_type": "code",
   "execution_count": 42,
   "metadata": {
    "collapsed": false
   },
   "outputs": [
    {
     "data": {
      "text/plain": [
       "680068"
      ]
     },
     "execution_count": 42,
     "metadata": {},
     "output_type": "execute_result"
    }
   ],
   "source": [
    "num_steps*len(train_accuracies)"
   ]
  },
  {
   "cell_type": "code",
   "execution_count": 43,
   "metadata": {
    "collapsed": false
   },
   "outputs": [
    {
     "data": {
      "text/plain": [
       "range(0, 10001, 680068)"
      ]
     },
     "execution_count": 43,
     "metadata": {},
     "output_type": "execute_result"
    }
   ],
   "source": [
    "range(0, num_steps, num_steps*len(train_accuracies))"
   ]
  },
  {
   "cell_type": "code",
   "execution_count": 44,
   "metadata": {
    "collapsed": false
   },
   "outputs": [
    {
     "data": {
      "text/plain": [
       "<matplotlib.legend.Legend at 0x7f03793b5d68>"
      ]
     },
     "execution_count": 44,
     "metadata": {},
     "output_type": "execute_result"
    },
    {
     "data": {
      "image/png": "[encoded data removed]",
      "text/plain": [
       "<matplotlib.figure.Figure at 0x7f0378df7208>"
      ]
     },
     "metadata": {},
     "output_type": "display_data"
    }
   ],
   "source": [
    "plt.plot(range(0, len(train_accuracies)), train_accuracies)\n",
    "plt.plot(range(0, len(train_accuracies)), valid_accuracies)\n",
    "plt.title('Learning curve')\n",
    "plt.xlabel('#Steps')\n",
    "plt.ylabel('Accuracy(%)')\n",
    "plt.legend(['Train accuracy', 'Valid accuracy'], loc='best')"
   ]
  }
 ],
 "metadata": {
  "anaconda-cloud": {},
  "kernelspec": {
   "display_name": "Python [conda root]",
   "language": "python",
   "name": "conda-root-py"
  },
  "language_info": {
   "codemirror_mode": {
    "name": "ipython",
    "version": 3
   },
   "file_extension": ".py",
   "mimetype": "text/x-python",
   "name": "python",
   "nbconvert_exporter": "python",
   "pygments_lexer": "ipython3",
   "version": "3.5.2"
  }
 },
 "nbformat": 4,
 "nbformat_minor": 0
}
