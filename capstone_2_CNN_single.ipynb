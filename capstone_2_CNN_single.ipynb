{
 "cells": [
  {
   "cell_type": "markdown",
   "metadata": {},
   "source": [
    "## 机器学习工程师纳米学位毕业项目\n",
    "\n",
    "作者 meelo\n",
    "\n",
    "### 加载经过预处理的数据"
   ]
  },
  {
   "cell_type": "code",
   "execution_count": 1,
   "metadata": {
    "collapsed": false
   },
   "outputs": [
    {
     "name": "stdout",
     "output_type": "stream",
     "text": [
      "Training dataset shape:  (72525, 32, 32)\n",
      "Training labels shape:  (72525,)\n",
      "Validing dataset shape:  (732, 32, 32)\n",
      "Validing labels shape:  (732,)\n",
      "Testing dataset shape:  (26032, 32, 32)\n",
      "Testing labels shape:  (26032,)\n"
     ]
    }
   ],
   "source": [
    "from __future__ import print_function\n",
    "from six.moves import cPickle as pickle\n",
    "\n",
    "pickle_file = 'svhn_single.pickle'\n",
    "\n",
    "with open(pickle_file, 'rb') as f:\n",
    "    dataset = pickle.load(f)\n",
    "    train_dataset = dataset['train_dataset']\n",
    "    train_labels = dataset['train_labels']\n",
    "    valid_dataset = dataset['valid_dataset']\n",
    "    valid_labels = dataset['valid_labels']\n",
    "    test_dataset = dataset['test_dataset']\n",
    "    test_labels = dataset['test_labels']\n",
    "    del dataset\n",
    "    \n",
    "print('Training dataset shape: ', train_dataset.shape)\n",
    "print('Training labels shape: ', train_labels.shape)\n",
    "print('Validing dataset shape: ', valid_dataset.shape)\n",
    "print('Validing labels shape: ', valid_labels.shape)\n",
    "print('Testing dataset shape: ', test_dataset.shape)\n",
    "print('Testing labels shape: ', test_labels.shape)"
   ]
  },
  {
   "cell_type": "code",
   "execution_count": 2,
   "metadata": {
    "collapsed": false
   },
   "outputs": [
    {
     "name": "stdout",
     "output_type": "stream",
     "text": [
      "2000564 Kb\n"
     ]
    }
   ],
   "source": [
    "import resource\n",
    "print(\"{} Kb\".format(resource.getrusage(resource.RUSAGE_SELF).ru_maxrss))"
   ]
  },
  {
   "cell_type": "markdown",
   "metadata": {
    "collapsed": true
   },
   "source": [
    "### 将数据修改成适合TensorFlow的格式\n",
    "\n",
    "- 卷积要求图片数据的形状为(宽度×高度×通道数)\n",
    "- 图片的标签需要进行1-hot编码，并转换成浮点数\n",
    "\n",
    "\n",
    "![](./images/onehot.png)"
   ]
  },
  {
   "cell_type": "code",
   "execution_count": 3,
   "metadata": {
    "collapsed": false
   },
   "outputs": [
    {
     "name": "stdout",
     "output_type": "stream",
     "text": [
      "[ 9  9  5  3  2  4  5 10  2  1]\n"
     ]
    }
   ],
   "source": [
    "print(train_labels[100:110])"
   ]
  },
  {
   "cell_type": "markdown",
   "metadata": {},
   "source": [
    "在原始数据中，数字1-9的标签是1-9，而数字0的标签是10。为了确保1-hot编码，表示是否为0的标签在第1列，应当使用语句`np.array([10,1,2,3,4,5,6,7,8,9]) == labels`。\n",
    "\n",
    "将10替换成0\n",
    "不然argmax不对应"
   ]
  },
  {
   "cell_type": "code",
   "execution_count": 4,
   "metadata": {
    "collapsed": false
   },
   "outputs": [
    {
     "name": "stdout",
     "output_type": "stream",
     "text": [
      "Training set (72525, 32, 32, 1) (72525,)\n",
      "Validation set (732, 32, 32, 1) (732,)\n",
      "Test set (26032, 32, 32, 1) (26032,)\n"
     ]
    }
   ],
   "source": [
    "IMAGE_SIZE = 32\n",
    "NUM_LABELS = 10\n",
    "num_channels = 1 # grayscale\n",
    "\n",
    "import numpy as np\n",
    "\n",
    "def reformat(dataset, labels):\n",
    "    dataset = dataset.reshape((-1, IMAGE_SIZE, IMAGE_SIZE, num_channels)).astype(np.float32)\n",
    "    #labels = (np.array([10,1,2,3,4,5,6,7,8,9]) == labels).astype(np.float32) # one-hot encoding\n",
    "    labels[labels==10] = 0\n",
    "    return dataset, labels\n",
    "\n",
    "train_dataset, train_labels = reformat(train_dataset, train_labels)\n",
    "valid_dataset, valid_labels = reformat(valid_dataset, valid_labels)\n",
    "test_dataset, test_labels = reformat(test_dataset, test_labels)\n",
    "\n",
    "print('Training set', train_dataset.shape, train_labels.shape)\n",
    "print('Validation set', valid_dataset.shape, valid_labels.shape)\n",
    "print('Test set', test_dataset.shape, test_labels.shape)"
   ]
  },
  {
   "cell_type": "code",
   "execution_count": 5,
   "metadata": {
    "collapsed": true
   },
   "outputs": [],
   "source": [
    "def accuracy(predictions, labels):\n",
    "    return (100.0 * np.sum(np.argmax(predictions, 1) == labels)\n",
    "          / predictions.shape[0])"
   ]
  },
  {
   "cell_type": "markdown",
   "metadata": {
    "collapsed": true
   },
   "source": [
    "truncated normal  \n",
    "soft max  \n",
    "cross entroy loss  \n",
    "regularizers  \n",
    "learning rate decay\n",
    "训练时dropout  \n",
    "sparse  \n",
    "随机梯度下降 Momumtum  \n",
    "部分加载数据"
   ]
  },
  {
   "cell_type": "code",
   "execution_count": 10,
   "metadata": {
    "collapsed": false
   },
   "outputs": [],
   "source": [
    "BATCH_SIZE = 64\n",
    "PATCH_SIZE = 5\n",
    "DEPTH = 32\n",
    "NUM_HIDDEN = 64\n",
    "SEED = 42\n",
    "\n",
    "import tensorflow as tf\n",
    "\n",
    "# conv1 \n",
    "\n",
    "graph = tf.Graph()\n",
    "with graph.as_default():\n",
    "    # Input data\n",
    "    tf_train_dataset = tf.placeholder(tf.float32, shape=(BATCH_SIZE, IMAGE_SIZE, IMAGE_SIZE, num_channels))\n",
    "    tf_train_labels = tf.placeholder(tf.int64, shape=(BATCH_SIZE,))\n",
    "    tf_valid_dataset = tf.constant(valid_dataset)\n",
    "    tf_test_dataset = tf.constant(test_dataset)\n",
    "    \n",
    "    conv1_weights = tf.Variable(tf.truncated_normal([PATCH_SIZE, PATCH_SIZE, num_channels, DEPTH], stddev=0.1))\n",
    "    conv1_biases = tf.Variable(tf.zeros([DEPTH]))\n",
    "    conv2_weights = tf.Variable(tf.truncated_normal([PATCH_SIZE, PATCH_SIZE, DEPTH, DEPTH], stddev=0.1))\n",
    "    conv2_biases = tf.Variable(tf.zeros([DEPTH]))\n",
    "    fc1_weights = tf.Variable(tf.truncated_normal([IMAGE_SIZE//4 * IMAGE_SIZE//4 * DEPTH, NUM_HIDDEN], stddev=0.1))\n",
    "    fc1_biases = tf.Variable(tf.constant(1.0, shape=[NUM_HIDDEN]))\n",
    "    fc2_weights = tf.Variable(tf.truncated_normal([NUM_HIDDEN, NUM_LABELS], stddev=0.1))\n",
    "    fc2_biases = tf.Variable(tf.constant(1.0, shape=[NUM_LABELS]))\n",
    "    \n",
    "    saver = tf.train.Saver(tf.trainable_variables()) # defaults to saving all variables\n",
    "    \n",
    "    def model(data, train=False):\n",
    "        conv = tf.nn.conv2d(data, conv1_weights, strides=[1, 1, 1, 1], padding='SAME')\n",
    "        relu = tf.nn.relu(tf.nn.bias_add(conv, conv1_biases))\n",
    "        pool = tf.nn.max_pool(relu, ksize=[1, 2, 2, 1], strides=[1, 2, 2, 1], padding='SAME')\n",
    "        conv = tf.nn.conv2d(pool, conv2_weights, strides=[1, 1, 1, 1], padding='SAME')\n",
    "        relu = tf.nn.relu(tf.nn.bias_add(conv, conv2_biases))\n",
    "        pool = tf.nn.max_pool(relu, ksize=[1, 2, 2, 1], strides=[1, 2, 2, 1], padding='SAME')\n",
    "        shape = pool.get_shape().as_list()\n",
    "        reshape = tf.reshape(pool, [shape[0], shape[1]*shape[2]*shape[3]])\n",
    "        hidden = tf.nn.relu(tf.matmul(reshape, fc1_weights) + fc1_biases)\n",
    "        if train:\n",
    "            hidden = tf.nn.dropout(hidden, 0.5, seed=SEED)\n",
    "        return tf.matmul(hidden, fc2_weights) + fc2_biases\n",
    "    \n",
    "    logits = model(tf_train_dataset, True)\n",
    "    loss = tf.reduce_mean(tf.nn.sparse_softmax_cross_entropy_with_logits(logits, tf_train_labels))\n",
    "    \n",
    "    regularizers = tf.nn.l2_loss(fc1_weights) + tf.nn.l2_loss(fc1_biases) + tf.nn.l2_loss(fc2_weights) + tf.nn.l2_loss(fc2_biases)\n",
    "    loss += 5e-4 * regularizers\n",
    "    \n",
    "    batch = tf.Variable(0, dtype=tf.float32)\n",
    "    #decayed_learning_rate = learning_rate *\n",
    "    #                    decay_rate ^ (global_step / decay_steps)\n",
    "    learning_rate = tf.train.exponential_decay(\n",
    "        0.01, # Base learning rate\n",
    "        batch * BATCH_SIZE, # Current index into the dataset\n",
    "        train_labels.shape[0]/4, # Decay step\n",
    "        0.95, # Decay rate,\n",
    "        staircase=True\n",
    "    )\n",
    "    \n",
    "    optimizer = tf.train.MomentumOptimizer(learning_rate, 0.9).minimize(loss, global_step=batch)\n",
    "    \n",
    "    train_prediction = tf.nn.softmax(logits)\n",
    "    valid_prediction = tf.nn.softmax(model(tf_valid_dataset))\n",
    "    test_prediction = tf.nn.softmax(model(tf_test_dataset))"
   ]
  },
  {
   "cell_type": "markdown",
   "metadata": {},
   "source": [
    "定义参数"
   ]
  },
  {
   "cell_type": "code",
   "execution_count": 7,
   "metadata": {
    "collapsed": false
   },
   "outputs": [],
   "source": [
    "flags = tf.app.flags\n",
    "FLAGS = flags.FLAGS\n",
    "\n",
    "flags.DEFINE_boolean('training', True, 'If true do the training else load already trained model.')\n",
    "flags.DEFINE_string('checkpoint_dir', 'model/', 'Checkpoint directory')"
   ]
  },
  {
   "cell_type": "markdown",
   "metadata": {},
   "source": [
    "训练后期，loss及准确率波动较大，应当使用学习率exponential decay\n",
    "\n",
    "### 最佳模型\n",
    "Validation accuracy: 83.5%  \n",
    "Test accuracy: 82.5%\n",
    "\n",
    "训练集使用过一次之后，随机打乱"
   ]
  },
  {
   "cell_type": "code",
   "execution_count": null,
   "metadata": {
    "collapsed": false
   },
   "outputs": [
    {
     "name": "stdout",
     "output_type": "stream",
     "text": [
      "Initialized\n",
      "Minibatch loss at step 0: 3.514992, learning rate: 0.010000, 0.6 ms\n",
      "Minibatch accuracy: 12.5%\n",
      "Validation accuracy: 9.8%\n",
      "Minibatch loss at step 50: 2.485899, learning rate: 0.010000, 13.7 ms\n",
      "Minibatch accuracy: 26.6%\n",
      "Validation accuracy: 22.7%\n",
      "Minibatch loss at step 100: 2.540582, learning rate: 0.010000, 13.5 ms\n",
      "Minibatch accuracy: 14.1%\n",
      "Validation accuracy: 22.3%\n",
      "Minibatch loss at step 150: 2.397921, learning rate: 0.010000, 13.1 ms\n",
      "Minibatch accuracy: 28.1%\n",
      "Validation accuracy: 22.3%\n",
      "Minibatch loss at step 200: 2.490839, learning rate: 0.010000, 15.6 ms\n",
      "Minibatch accuracy: 14.1%\n",
      "Validation accuracy: 25.4%\n",
      "Minibatch loss at step 250: 2.441463, learning rate: 0.010000, 14.8 ms\n",
      "Minibatch accuracy: 25.0%\n",
      "Validation accuracy: 22.4%\n",
      "Minibatch loss at step 300: 2.399788, learning rate: 0.009500, 13.3 ms\n",
      "Minibatch accuracy: 23.4%\n",
      "Validation accuracy: 27.9%\n",
      "Minibatch loss at step 350: 2.421201, learning rate: 0.009500, 13.3 ms\n",
      "Minibatch accuracy: 20.3%\n",
      "Validation accuracy: 26.9%\n",
      "Minibatch loss at step 400: 2.261035, learning rate: 0.009500, 13.6 ms\n",
      "Minibatch accuracy: 23.4%\n",
      "Validation accuracy: 32.0%\n",
      "Minibatch loss at step 450: 2.159421, learning rate: 0.009500, 14.1 ms\n",
      "Minibatch accuracy: 26.6%\n",
      "Validation accuracy: 36.3%\n",
      "Minibatch loss at step 500: 2.078276, learning rate: 0.009500, 15.0 ms\n",
      "Minibatch accuracy: 39.1%\n",
      "Validation accuracy: 35.1%\n",
      "Minibatch loss at step 550: 2.019102, learning rate: 0.009500, 15.4 ms\n",
      "Minibatch accuracy: 37.5%\n",
      "Validation accuracy: 50.3%\n",
      "Minibatch loss at step 600: 1.895040, learning rate: 0.009025, 15.4 ms\n",
      "Minibatch accuracy: 43.8%\n",
      "Validation accuracy: 54.0%\n",
      "Minibatch loss at step 650: 1.807912, learning rate: 0.009025, 15.0 ms\n",
      "Minibatch accuracy: 43.8%\n",
      "Validation accuracy: 58.5%\n",
      "Minibatch loss at step 700: 1.556153, learning rate: 0.009025, 14.9 ms\n",
      "Minibatch accuracy: 59.4%\n",
      "Validation accuracy: 60.8%\n",
      "Minibatch loss at step 750: 1.635060, learning rate: 0.009025, 13.9 ms\n",
      "Minibatch accuracy: 60.9%\n",
      "Validation accuracy: 66.8%\n",
      "Minibatch loss at step 800: 1.467443, learning rate: 0.009025, 17.5 ms\n",
      "Minibatch accuracy: 54.7%\n",
      "Validation accuracy: 66.4%\n",
      "Minibatch loss at step 850: 1.231212, learning rate: 0.008574, 17.7 ms\n",
      "Minibatch accuracy: 67.2%\n",
      "Validation accuracy: 69.7%\n",
      "Minibatch loss at step 900: 1.469298, learning rate: 0.008574, 15.9 ms\n",
      "Minibatch accuracy: 53.1%\n",
      "Validation accuracy: 69.1%\n",
      "Minibatch loss at step 950: 1.347671, learning rate: 0.008574, 17.9 ms\n",
      "Minibatch accuracy: 65.6%\n",
      "Validation accuracy: 74.2%\n",
      "Minibatch loss at step 1000: 1.730879, learning rate: 0.008574, 17.8 ms\n",
      "Minibatch accuracy: 62.5%\n",
      "Validation accuracy: 73.9%\n",
      "Minibatch loss at step 1050: 1.231583, learning rate: 0.008574, 16.6 ms\n",
      "Minibatch accuracy: 73.4%\n",
      "Validation accuracy: 76.6%\n",
      "Minibatch loss at step 1100: 1.423174, learning rate: 0.008574, 16.5 ms\n",
      "Minibatch accuracy: 60.9%\n",
      "Validation accuracy: 77.0%\n",
      "Minibatch loss at step 1150: 1.032762, learning rate: 0.008145, 17.0 ms\n",
      "Minibatch accuracy: 79.7%\n",
      "Validation accuracy: 76.5%\n",
      "Minibatch loss at step 1200: 1.110918, learning rate: 0.008145, 17.4 ms\n",
      "Minibatch accuracy: 65.6%\n",
      "Validation accuracy: 77.2%\n",
      "Minibatch loss at step 1250: 1.076511, learning rate: 0.008145, 17.5 ms\n",
      "Minibatch accuracy: 70.3%\n",
      "Validation accuracy: 78.1%\n",
      "Minibatch loss at step 1300: 1.123432, learning rate: 0.008145, 15.5 ms\n",
      "Minibatch accuracy: 71.9%\n",
      "Validation accuracy: 78.0%\n",
      "Minibatch loss at step 1350: 1.361928, learning rate: 0.008145, 15.6 ms\n",
      "Minibatch accuracy: 71.9%\n",
      "Validation accuracy: 79.0%\n",
      "Minibatch loss at step 1400: 1.119715, learning rate: 0.008145, 15.8 ms\n",
      "Minibatch accuracy: 64.1%\n",
      "Validation accuracy: 80.6%\n",
      "Minibatch loss at step 1450: 1.129196, learning rate: 0.007738, 17.5 ms\n",
      "Minibatch accuracy: 73.4%\n",
      "Validation accuracy: 79.9%\n",
      "Minibatch loss at step 1500: 0.763552, learning rate: 0.007738, 14.9 ms\n",
      "Minibatch accuracy: 81.2%\n",
      "Validation accuracy: 79.4%\n",
      "Minibatch loss at step 1550: 1.099860, learning rate: 0.007738, 14.7 ms\n",
      "Minibatch accuracy: 76.6%\n",
      "Validation accuracy: 79.5%\n",
      "Minibatch loss at step 1600: 1.116104, learning rate: 0.007738, 15.4 ms\n",
      "Minibatch accuracy: 76.6%\n",
      "Validation accuracy: 80.3%\n",
      "Minibatch loss at step 1650: 1.036648, learning rate: 0.007738, 15.1 ms\n",
      "Minibatch accuracy: 78.1%\n",
      "Validation accuracy: 82.4%\n",
      "Minibatch loss at step 1700: 1.216895, learning rate: 0.007351, 15.1 ms\n",
      "Minibatch accuracy: 73.4%\n",
      "Validation accuracy: 81.0%\n",
      "Minibatch loss at step 1750: 0.875681, learning rate: 0.007351, 14.1 ms\n",
      "Minibatch accuracy: 79.7%\n",
      "Validation accuracy: 80.3%\n",
      "Minibatch loss at step 1800: 1.077218, learning rate: 0.007351, 14.7 ms\n",
      "Minibatch accuracy: 68.8%\n",
      "Validation accuracy: 82.2%\n",
      "Minibatch loss at step 1850: 1.065740, learning rate: 0.007351, 14.7 ms\n",
      "Minibatch accuracy: 70.3%\n",
      "Validation accuracy: 82.0%\n",
      "Minibatch loss at step 1900: 0.900758, learning rate: 0.007351, 13.8 ms\n",
      "Minibatch accuracy: 73.4%\n",
      "Validation accuracy: 83.1%\n",
      "Minibatch loss at step 1950: 1.102034, learning rate: 0.007351, 13.8 ms\n",
      "Minibatch accuracy: 70.3%\n",
      "Validation accuracy: 82.2%\n",
      "Minibatch loss at step 2000: 1.113939, learning rate: 0.006983, 13.8 ms\n",
      "Minibatch accuracy: 75.0%\n",
      "Validation accuracy: 81.1%\n"
     ]
    }
   ],
   "source": [
    "import time\n",
    "import datetime\n",
    "\n",
    "num_steps = 2001\n",
    "\n",
    "FLAGS.training = True\n",
    "\n",
    "start_time = time.time()\n",
    "with tf.Session(graph=graph) as session:\n",
    "    if FLAGS.training:\n",
    "        tf.initialize_all_variables().run()\n",
    "        print('Initialized')\n",
    "        for step in range(num_steps):\n",
    "            offset = (step * BATCH_SIZE) % (train_labels.shape[0] - BATCH_SIZE)\n",
    "            batch_data = train_dataset[offset:(offset + BATCH_SIZE), :, :, :]\n",
    "            batch_labels = train_labels[offset:(offset + BATCH_SIZE)]\n",
    "            feed_dict = {tf_train_dataset : batch_data, tf_train_labels : batch_labels}\n",
    "            _, l, lr, predictions = session.run([optimizer, loss, learning_rate, train_prediction], feed_dict=feed_dict)\n",
    "            if (step % 50 == 0):\n",
    "                elapsed_time = time.time() - start_time\n",
    "                start_time = time.time()\n",
    "                print('Minibatch loss at step %d: %f, learning rate: %.6f, %.1f ms' % (step, l, lr, elapsed_time))\n",
    "                print('Minibatch accuracy: %.1f%%' % accuracy(predictions, batch_labels))\n",
    "                print('Validation accuracy: %.1f%%' % accuracy(\n",
    "                    valid_prediction.eval(), valid_labels))\n",
    "        saver.save(session, FLAGS.checkpoint_dir+'single.ckpt', write_meta_graph=False)\n",
    "    else:\n",
    "        saver.restore(session, FLAGS.checkpoint_dir+'single.ckpt')\n",
    "    predictions = test_prediction.eval()\n",
    "    print('Test accuracy: %.1f%%' % accuracy(predictions, test_labels))"
   ]
  },
  {
   "cell_type": "markdown",
   "metadata": {},
   "source": [
    "### 混淆矩阵"
   ]
  },
  {
   "cell_type": "code",
   "execution_count": 8,
   "metadata": {
    "collapsed": false
   },
   "outputs": [],
   "source": [
    "def confusionMatrix(labels, predictions):\n",
    "    confusions = np.zeros([10, 10], np.float32)\n",
    "    for actual, predicted in zip(labels, predictions):\n",
    "        confusions[actual][predicted] += 1\n",
    "    return confusions"
   ]
  },
  {
   "cell_type": "code",
   "execution_count": 9,
   "metadata": {
    "collapsed": false
   },
   "outputs": [
    {
     "data": {
      "image/png": "[encoded data removed]",
      "text/plain": [
       "<matplotlib.figure.Figure at 0x7f28d88ece90>"
      ]
     },
     "metadata": {},
     "output_type": "display_data"
    }
   ],
   "source": [
    "import matplotlib.pyplot as plt\n",
    "%matplotlib inline\n",
    "confusions = confusionMatrix(test_labels.astype(int), np.argmax(predictions, 1))\n",
    "plt.ylabel('Actual')\n",
    "plt.xlabel('Predicted')\n",
    "plt.grid(False)\n",
    "plt.xticks(np.arange(NUM_LABELS))\n",
    "plt.yticks(np.arange(NUM_LABELS))\n",
    "plt.imshow(confusions, cmap=plt.cm.jet, interpolation='nearest')\n",
    "\n",
    "for i, cas in enumerate(confusions):\n",
    "    for j, count in enumerate(cas):\n",
    "        if count > 0:\n",
    "            xoff = .085 * len(str(count))\n",
    "            plt.text(j-xoff, i+.1, int(count), fontsize=9, color='white')"
   ]
  },
  {
   "cell_type": "code",
   "execution_count": null,
   "metadata": {
    "collapsed": true
   },
   "outputs": [],
   "source": []
  }
 ],
 "metadata": {
  "kernelspec": {
   "display_name": "Python 2",
   "language": "python",
   "name": "python2"
  },
  "language_info": {
   "codemirror_mode": {
    "name": "ipython",
    "version": 2
   },
   "file_extension": ".py",
   "mimetype": "text/x-python",
   "name": "python",
   "nbconvert_exporter": "python",
   "pygments_lexer": "ipython2",
   "version": "2.7.12"
  }
 },
 "nbformat": 4,
 "nbformat_minor": 0
}
