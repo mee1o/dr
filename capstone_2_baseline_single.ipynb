{
 "cells": [
  {
   "cell_type": "markdown",
   "metadata": {},
   "source": [
    "### 基准模型\n",
    "\n",
    "为了和卷积神经网络分类器进行对比。这里学习得到逻辑回归和SVM模型，计算测试集分类准确率。"
   ]
  },
  {
   "cell_type": "code",
   "execution_count": 12,
   "metadata": {
    "collapsed": false
   },
   "outputs": [
    {
     "name": "stdout",
     "output_type": "stream",
     "text": [
      "Training dataset shape:  (72525, 32, 32)\n",
      "Training labels shape:  (72525,)\n",
      "Validing dataset shape:  (732, 32, 32)\n",
      "Validing labels shape:  (732,)\n",
      "Testing dataset shape:  (10000, 32, 32)\n",
      "Testing labels shape:  (10000,)\n"
     ]
    }
   ],
   "source": [
    "from __future__ import print_function\n",
    "from six.moves import cPickle as pickle\n",
    "\n",
    "pickle_file = 'svhn_single.pickle'\n",
    "\n",
    "with open(pickle_file, 'rb') as f:\n",
    "    dataset = pickle.load(f)\n",
    "    train_dataset = dataset['train_dataset']\n",
    "    train_labels = dataset['train_labels']\n",
    "    valid_dataset = dataset['valid_dataset']\n",
    "    valid_labels = dataset['valid_labels']\n",
    "    test_dataset = dataset['test_dataset'][:10000]\n",
    "    test_labels = dataset['test_labels'][:10000]\n",
    "    del dataset\n",
    "    \n",
    "print('Training dataset shape: ', train_dataset.shape)\n",
    "print('Training labels shape: ', train_labels.shape)\n",
    "print('Validing dataset shape: ', valid_dataset.shape)\n",
    "print('Validing labels shape: ', valid_labels.shape)\n",
    "print('Testing dataset shape: ', test_dataset.shape)\n",
    "print('Testing labels shape: ', test_labels.shape)"
   ]
  },
  {
   "cell_type": "markdown",
   "metadata": {},
   "source": [
    "### 将数据修改成适合sklearn的格式\n",
    "\n",
    "逻辑回归分类器和SVM接受的输入是一维向量，需要将二维的图片数据矢量化为一维。  \n",
    "在矢量化的过程中图片的空间信息很大程度上被丢失。卷积神经网络可以直接处理三维的图片数据，很好地保留了图片的空间信息，事实上是卷积神经网络一个极大的优势。"
   ]
  },
  {
   "cell_type": "code",
   "execution_count": 14,
   "metadata": {
    "collapsed": false
   },
   "outputs": [
    {
     "name": "stdout",
     "output_type": "stream",
     "text": [
      "Training dataset shape:  (72525, 1024)\n",
      "Training labels shape:  (72525,)\n",
      "Validing dataset shape:  (732, 1024)\n",
      "Validing labels shape:  (732,)\n",
      "Testing dataset shape:  (10000, 1024)\n",
      "Testing labels shape:  (10000,)\n"
     ]
    }
   ],
   "source": [
    "IMAGE_SIZE = 32\n",
    "NUM_LABELS = 10\n",
    "num_channels = 1 # grayscale\n",
    "\n",
    "import numpy as np\n",
    "\n",
    "def reformat(dataset, labels):\n",
    "    dataset = dataset.reshape((-1, IMAGE_SIZE*IMAGE_SIZE*num_channels)).astype(np.float32)\n",
    "    #labels = (np.array([10,1,2,3,4,5,6,7,8,9]) == labels.reshape(-1, 1)).astype(np.float32) # one-hot encoding\n",
    "    labels[labels==10] = 0\n",
    "    return dataset, labels\n",
    "\n",
    "train_dataset, train_labels = reformat(train_dataset, train_labels)\n",
    "valid_dataset, valid_labels = reformat(valid_dataset, valid_labels)\n",
    "test_dataset, test_labels = reformat(test_dataset, test_labels)\n",
    "\n",
    "print('Training dataset shape: ', train_dataset.shape)\n",
    "print('Training labels shape: ', train_labels.shape)\n",
    "print('Validing dataset shape: ', valid_dataset.shape)\n",
    "print('Validing labels shape: ', valid_labels.shape)\n",
    "print('Testing dataset shape: ', test_dataset.shape)\n",
    "print('Testing labels shape: ', test_labels.shape)"
   ]
  },
  {
   "cell_type": "markdown",
   "metadata": {},
   "source": [
    "### 逻辑回归分类器"
   ]
  },
  {
   "cell_type": "code",
   "execution_count": 15,
   "metadata": {
    "collapsed": false
   },
   "outputs": [
    {
     "data": {
      "text/plain": [
       "LogisticRegression(C=1.0, class_weight=None, dual=False, fit_intercept=True,\n",
       "          intercept_scaling=1, max_iter=100, multi_class='ovr', n_jobs=1,\n",
       "          penalty='l2', random_state=None, solver='liblinear', tol=0.0001,\n",
       "          verbose=0, warm_start=False)"
      ]
     },
     "execution_count": 15,
     "metadata": {},
     "output_type": "execute_result"
    }
   ],
   "source": [
    "from sklearn.linear_model import LogisticRegression\n",
    "\n",
    "classifier = LogisticRegression()\n",
    "classifier.fit(train_dataset, train_labels)"
   ]
  },
  {
   "cell_type": "markdown",
   "metadata": {},
   "source": [
    "### SVM分类器"
   ]
  },
  {
   "cell_type": "code",
   "execution_count": 33,
   "metadata": {
    "collapsed": false
   },
   "outputs": [
    {
     "data": {
      "text/plain": [
       "SGDClassifier(alpha=0.0001, average=False, class_weight=None, epsilon=0.1,\n",
       "       eta0=0.0, fit_intercept=True, l1_ratio=0.15,\n",
       "       learning_rate='optimal', loss='hinge', n_iter=5, n_jobs=1,\n",
       "       penalty='l2', power_t=0.5, random_state=None, shuffle=True,\n",
       "       verbose=0, warm_start=False)"
      ]
     },
     "execution_count": 33,
     "metadata": {},
     "output_type": "execute_result"
    }
   ],
   "source": [
    "from sklearn.linear_model import SGDClassifier\n",
    "\n",
    "classifier = SGDClassifier(loss='hinge')\n",
    "classifier.fit(train_dataset, train_labels)"
   ]
  },
  {
   "cell_type": "markdown",
   "metadata": {},
   "source": [
    "### 分类结果\n",
    "\n",
    "逻辑回归分类器测试集分类准确率为0.2364。SVM分类器测试集分类准确率为0.1687。  \n",
    "数据集的类别有10类，对应于10个数字。使用一个随机的分类器，即完全不使用图片的信息，随机确定一个类别，分类的准确率会有0.1。因此可见逻辑回归分类机和SVM分类器在此问题上的效果有多差。"
   ]
  },
  {
   "cell_type": "code",
   "execution_count": 34,
   "metadata": {
    "collapsed": false
   },
   "outputs": [
    {
     "name": "stdout",
     "output_type": "stream",
     "text": [
      "Test accuracy 0.1687\n"
     ]
    }
   ],
   "source": [
    "from sklearn.metrics import accuracy_score\n",
    "\n",
    "test_prediction = classifier.predict(test_dataset)\n",
    "print('Test accuracy', accuracy_score(test_labels, test_prediction))"
   ]
  },
  {
   "cell_type": "code",
   "execution_count": 35,
   "metadata": {
    "collapsed": false
   },
   "outputs": [
    {
     "name": "stdout",
     "output_type": "stream",
     "text": [
      "             precision    recall  f1-score   support\n",
      "\n",
      "          0       0.29      0.10      0.14       684\n",
      "          1       0.28      0.32      0.30      1968\n",
      "          2       0.28      0.14      0.18      1590\n",
      "          3       0.20      0.12      0.15      1104\n",
      "          4       0.16      0.22      0.18       964\n",
      "          5       0.22      0.13      0.17       909\n",
      "          6       0.11      0.04      0.05       773\n",
      "          7       0.12      0.06      0.08       767\n",
      "          8       0.06      0.33      0.11       621\n",
      "          9       0.10      0.07      0.08       620\n",
      "\n",
      "avg / total       0.20      0.17      0.17     10000\n",
      "\n",
      "Confusion matrix\n",
      "[[ 65 158  49  16  43  18  11  15 268  41]\n",
      " [ 26 629 107 133 373  88  31  30 472  79]\n",
      " [ 19 365 215  55 242  26  27  69 505  67]\n",
      " [ 18 261  63 129 120  53  40  44 327  49]\n",
      " [  9 196  46  45 209  28  22  83 286  40]\n",
      " [ 13 156  38  78  71 121  53  22 313  44]\n",
      " [ 31 160  38  36  70  86  28  14 263  47]\n",
      " [ 16 135 108  40  83  27  11  43 276  28]\n",
      " [ 15 116  34  55  54  63  30  23 202  29]\n",
      " [  9 107  57  63  40  43  13  20 222  46]]\n"
     ]
    }
   ],
   "source": [
    "from sklearn.metrics import classification_report, confusion_matrix\n",
    "\n",
    "print(classification_report(test_labels, test_prediction))\n",
    "print('Confusion matrix')\n",
    "print(confusion_matrix(test_labels, test_prediction))"
   ]
  },
  {
   "cell_type": "code",
   "execution_count": null,
   "metadata": {
    "collapsed": true
   },
   "outputs": [],
   "source": []
  }
 ],
 "metadata": {
  "kernelspec": {
   "display_name": "Python 2",
   "language": "python",
   "name": "python2"
  },
  "language_info": {
   "codemirror_mode": {
    "name": "ipython",
    "version": 2
   },
   "file_extension": ".py",
   "mimetype": "text/x-python",
   "name": "python",
   "nbconvert_exporter": "python",
   "pygments_lexer": "ipython2",
   "version": "2.7.12"
  }
 },
 "nbformat": 4,
 "nbformat_minor": 1
}
