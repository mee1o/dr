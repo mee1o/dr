{
 "cells": [
  {
   "cell_type": "markdown",
   "metadata": {},
   "source": [
    "## 2 识别数字序列的卷积神经网络"
   ]
  },
  {
   "cell_type": "code",
   "execution_count": 1,
   "metadata": {
    "collapsed": false
   },
   "outputs": [],
   "source": [
    "from __future__ import print_function\n",
    "from six.moves import cPickle as pickle"
   ]
  },
  {
   "cell_type": "code",
   "execution_count": 2,
   "metadata": {
    "collapsed": false
   },
   "outputs": [],
   "source": [
    "% matplotlib inline\n",
    "import seaborn\n",
    "\n",
    "import numpy as np\n",
    "import tensorflow as tf\n",
    "import matplotlib.pyplot as plt"
   ]
  },
  {
   "cell_type": "markdown",
   "metadata": {},
   "source": [
    "### 加载经过预处理的数据"
   ]
  },
  {
   "cell_type": "code",
   "execution_count": 3,
   "metadata": {
    "collapsed": true
   },
   "outputs": [],
   "source": [
    "image_size_40px = ''\n",
    "#image_size_40px = '_40'"
   ]
  },
  {
   "cell_type": "code",
   "execution_count": 4,
   "metadata": {
    "collapsed": false
   },
   "outputs": [
    {
     "name": "stdout",
     "output_type": "stream",
     "text": [
      "dataset shape:  (33402, 32, 32)\n",
      "labels shape:  (33402, 5)\n"
     ]
    }
   ],
   "source": [
    "pickle_file = 'svhn_multi_train%s.pickle' % image_size_40px\n",
    "\n",
    "with open(pickle_file, 'rb') as f:\n",
    "    dataset = pickle.load(f)\n",
    "    images = dataset['dataset']\n",
    "    labels = dataset['labels'][:, 1:6]\n",
    "    \n",
    "print('dataset shape: ', images.shape)\n",
    "print('labels shape: ', labels.shape)"
   ]
  },
  {
   "cell_type": "code",
   "execution_count": 5,
   "metadata": {
    "collapsed": false
   },
   "outputs": [
    {
     "name": "stdout",
     "output_type": "stream",
     "text": [
      "dataset shape:  (235755, 32, 32)\n",
      "labels shape:  (235755, 5)\n"
     ]
    }
   ],
   "source": [
    "pickle_file = 'svhn_multi_extra%s.pickle' % image_size_40px\n",
    "\n",
    "with open(pickle_file, 'rb') as f:\n",
    "    dataset = pickle.load(f)\n",
    "    images = np.vstack((images, dataset['dataset']))\n",
    "    labels = np.vstack((labels, dataset['labels'][:, 1:6]))\n",
    "\n",
    "print('dataset shape: ', images.shape)\n",
    "print('labels shape: ', labels.shape)"
   ]
  },
  {
   "cell_type": "code",
   "execution_count": 6,
   "metadata": {
    "collapsed": false
   },
   "outputs": [
    {
     "data": {
      "text/plain": [
       "array([[ 1,  9, 10, 10, 10],\n",
       "       [ 2,  3, 10, 10, 10],\n",
       "       [ 2,  5, 10, 10, 10],\n",
       "       [ 9,  3, 10, 10, 10],\n",
       "       [ 3,  1, 10, 10, 10],\n",
       "       [ 3,  3, 10, 10, 10],\n",
       "       [ 2,  8, 10, 10, 10],\n",
       "       [ 7,  4,  4, 10, 10],\n",
       "       [ 1,  2,  8, 10, 10],\n",
       "       [ 1,  6, 10, 10, 10]], dtype=int8)"
      ]
     },
     "execution_count": 6,
     "metadata": {},
     "output_type": "execute_result"
    }
   ],
   "source": [
    "labels[:10]"
   ]
  },
  {
   "cell_type": "markdown",
   "metadata": {},
   "source": [
    "### 构建交叉验证集\n",
    "\n",
    "从训练数据中选择5%作为交叉验证集。"
   ]
  },
  {
   "cell_type": "code",
   "execution_count": 7,
   "metadata": {
    "collapsed": true
   },
   "outputs": [],
   "source": [
    "from sklearn.cross_validation import train_test_split"
   ]
  },
  {
   "cell_type": "code",
   "execution_count": 8,
   "metadata": {
    "collapsed": false
   },
   "outputs": [
    {
     "name": "stdout",
     "output_type": "stream",
     "text": [
      "Training dataset shape:  (223967, 32, 32)\n",
      "Training labels shape:  (223967, 5)\n",
      "Validing dataset shape:  (11788, 32, 32)\n",
      "Validing labels shape:  (11788, 5)\n"
     ]
    }
   ],
   "source": [
    "train_dataset, valid_dataset , train_labels, valid_labels = train_test_split(images, labels, test_size=0.05, random_state=42)\n",
    "\n",
    "print('Training dataset shape: ', train_dataset.shape)\n",
    "print('Training labels shape: ', train_labels.shape)\n",
    "print('Validing dataset shape: ', valid_dataset.shape)\n",
    "print('Validing labels shape: ', valid_labels.shape)"
   ]
  },
  {
   "cell_type": "code",
   "execution_count": 9,
   "metadata": {
    "collapsed": true
   },
   "outputs": [],
   "source": [
    "IMAGE_SIZE = 32\n",
    "NUM_DIGITS = 5\n",
    "NUM_LABELS = 11 # 0-9 + 10==doesn't exist\n",
    "NUM_CHANNELS = 1 # grayscale"
   ]
  },
  {
   "cell_type": "code",
   "execution_count": 10,
   "metadata": {
    "collapsed": true
   },
   "outputs": [],
   "source": [
    "def reformat(dataset, labels):\n",
    "    dataset = dataset.reshape((-1, IMAGE_SIZE, IMAGE_SIZE, NUM_CHANNELS)).astype(np.float32)\n",
    "\n",
    "    return dataset, labels"
   ]
  },
  {
   "cell_type": "code",
   "execution_count": 11,
   "metadata": {
    "collapsed": false
   },
   "outputs": [
    {
     "name": "stdout",
     "output_type": "stream",
     "text": [
      "Training dataset shape:  (223967, 32, 32, 1)\n",
      "Validing dataset shape:  (11788, 32, 32, 1)\n"
     ]
    }
   ],
   "source": [
    "train_dataset, train_labels = reformat(train_dataset, train_labels)\n",
    "valid_dataset, valid_labels = reformat(valid_dataset, valid_labels)\n",
    "\n",
    "print('Training dataset shape: ', train_dataset.shape)\n",
    "print('Validing dataset shape: ', valid_dataset.shape)"
   ]
  },
  {
   "cell_type": "markdown",
   "metadata": {},
   "source": [
    "### 构建计算图\n",
    "\n",
    "训练的过程中，避免过拟合的方法：  \n",
    "\n",
    "- 参数使用二范数正则化\n",
    "- 早期停止\n",
    "- 随机抛弃"
   ]
  },
  {
   "cell_type": "code",
   "execution_count": 12,
   "metadata": {
    "collapsed": true
   },
   "outputs": [],
   "source": [
    "def createWeight(shape, name):\n",
    "    return tf.Variable(tf.truncated_normal(shape, stddev=0.1), name=name)"
   ]
  },
  {
   "cell_type": "code",
   "execution_count": 13,
   "metadata": {
    "collapsed": true
   },
   "outputs": [],
   "source": [
    "def createBiase(shape, name):\n",
    "    return tf.Variable(tf.zeros(shape), name=name)"
   ]
  },
  {
   "cell_type": "code",
   "execution_count": 14,
   "metadata": {
    "collapsed": false
   },
   "outputs": [],
   "source": [
    "BATCH_SIZE = 64\n",
    "PATCH_SIZE = 5\n",
    "DEPTH_1 = 24\n",
    "DEPTH_2 = 48\n",
    "DEPTH_3 = 80\n",
    "NUM_HIDDEN = 256\n",
    "SEED = 42"
   ]
  },
  {
   "cell_type": "code",
   "execution_count": 17,
   "metadata": {
    "collapsed": true
   },
   "outputs": [],
   "source": [
    "graph = tf.Graph()\n",
    "with graph.as_default():\n",
    "    # 输入数据\n",
    "    tf_train_dataset = tf.placeholder(tf.float32, shape=(None, IMAGE_SIZE, IMAGE_SIZE, NUM_CHANNELS))\n",
    "    tf_train_labels = tf.placeholder(tf.int64, shape=(None, NUM_DIGITS))\n",
    "    tf_valid_dataset = tf.constant(valid_dataset)\n",
    "    tf_valid_labels = tf.constant(valid_labels, dtype=tf.int64)\n",
    "    \n",
    "    # 模型参数-卷积层\n",
    "    conv1_W = createWeight([PATCH_SIZE, PATCH_SIZE, NUM_CHANNELS, DEPTH_1], 'conv1_weights')\n",
    "    conv1_B = createBiase([DEPTH_1], 'conv1_biases')\n",
    "    conv2_W = createWeight([PATCH_SIZE, PATCH_SIZE, DEPTH_1, DEPTH_2], 'conv2_weights')\n",
    "    conv2_B = createBiase([DEPTH_2], 'conv2_biases')\n",
    "    conv3_W = createWeight([PATCH_SIZE, PATCH_SIZE, DEPTH_2, DEPTH_3], 'conv3_weights')\n",
    "    conv3_B = createBiase([DEPTH_3], 'conv3_biases')\n",
    "    fc1_W = createWeight([IMAGE_SIZE//8 * IMAGE_SIZE//8 * DEPTH_3, NUM_HIDDEN], 'fc1_weights')\n",
    "    fc1_B = createBiase([NUM_HIDDEN], 'fc1_biases')\n",
    "    \n",
    "    # 模型参数-全连接层\n",
    "    fc_d1_W = createWeight([NUM_HIDDEN, NUM_LABELS], 'fc_digit1_weights')\n",
    "    fc_d1_B = createBiase([NUM_LABELS], 'fc_digit1_biases')\n",
    "    fc_d2_W = createWeight([NUM_HIDDEN, NUM_LABELS], 'fc_digit2_weights')\n",
    "    fc_d2_B = createBiase([NUM_LABELS], 'fc_digit2_biases')\n",
    "    fc_d3_W = createWeight([NUM_HIDDEN, NUM_LABELS], 'fc_digit3_weights')\n",
    "    fc_d3_B = createBiase([NUM_LABELS], 'fc_digit3_biases')\n",
    "    fc_d4_W = createWeight([NUM_HIDDEN, NUM_LABELS], 'fc_digit4_weights')\n",
    "    fc_d4_B = createBiase([NUM_LABELS], 'fc_digit4_biases')\n",
    "    fc_d5_W = createWeight([NUM_HIDDEN, NUM_LABELS], 'fc_digit5_weights')\n",
    "    fc_d5_B = createBiase([NUM_LABELS], 'fc_digit5_biases')\n",
    "\n",
    "    saver = tf.train.Saver(tf.trainable_variables()) # defaults to saving all variables\n",
    "    \n",
    "    # 数据通过神经网络前向传播\n",
    "    def model(data, train=False):\n",
    "        conv = tf.nn.conv2d(data, conv1_W, strides=[1, 1, 1, 1], padding='SAME')\n",
    "        relu = tf.nn.relu(tf.nn.bias_add(conv, conv1_B))\n",
    "        pool = tf.nn.max_pool(relu, ksize=[1, 2, 2, 1], strides=[1, 2, 2, 1], padding='SAME')\n",
    "        conv = tf.nn.conv2d(pool, conv2_W, strides=[1, 1, 1, 1], padding='SAME')\n",
    "        relu = tf.nn.relu(tf.nn.bias_add(conv, conv2_B))\n",
    "        pool = tf.nn.max_pool(relu, ksize=[1, 2, 2, 1], strides=[1, 2, 2, 1], padding='SAME')\n",
    "        conv = tf.nn.conv2d(pool, conv3_W, strides=[1, 1, 1, 1], padding='SAME')\n",
    "        relu = tf.nn.relu(tf.nn.bias_add(conv, conv3_B))\n",
    "        pool = tf.nn.max_pool(relu, ksize=[1, 2, 2, 1], strides=[1, 2, 2, 1], padding='SAME')\n",
    "        shape = pool.get_shape().as_list()\n",
    "        reshape = tf.reshape(pool, [-1, shape[1]*shape[2]*shape[3]])\n",
    "        hidden = tf.nn.relu(tf.matmul(reshape, fc1_W) + fc1_B)\n",
    "        \n",
    "        if train:\n",
    "            hidden = tf.nn.dropout(hidden, 0.6, seed=SEED)\n",
    "            \n",
    "        logit_d1 = tf.matmul(hidden, fc_d1_W) + fc_d1_B\n",
    "        logit_d2 = tf.matmul(hidden, fc_d2_W) + fc_d2_B\n",
    "        logit_d3 = tf.matmul(hidden, fc_d3_W) + fc_d3_B\n",
    "        logit_d4 = tf.matmul(hidden, fc_d4_W) + fc_d4_B\n",
    "        logit_d5 = tf.matmul(hidden, fc_d5_W) + fc_d5_B\n",
    "        \n",
    "        return logit_d1, logit_d2, logit_d3, logit_d4, logit_d5\n",
    "    \n",
    "    # 由logit计算出标签\n",
    "    def predict(logits):\n",
    "        return tf.transpose(tf.pack([tf.argmax(logits[0], 1), tf.argmax(logits[1], 1), tf.argmax(logits[2], 1), \\\n",
    "                        tf.argmax(logits[3], 1), tf.argmax(logits[4], 1)]))\n",
    "    \n",
    "    def accuracy(predictions, labels):\n",
    "        return tf.reduce_mean(tf.cast(tf.reduce_all(\n",
    "                    tf.equal(predictions, labels), reduction_indices=1\n",
    "                ), tf.float32)) * 100\n",
    "    \n",
    "    logits = model(tf_train_dataset, True)\n",
    "    loss = tf.reduce_mean(tf.nn.sparse_softmax_cross_entropy_with_logits(logits[0], tf_train_labels[:, 0])) + \\\n",
    "            tf.reduce_mean(tf.nn.sparse_softmax_cross_entropy_with_logits(logits[1], tf_train_labels[:, 1])) + \\\n",
    "            tf.reduce_mean(tf.nn.sparse_softmax_cross_entropy_with_logits(logits[2], tf_train_labels[:, 2])) + \\\n",
    "            tf.reduce_mean(tf.nn.sparse_softmax_cross_entropy_with_logits(logits[3], tf_train_labels[:, 3])) + \\\n",
    "            tf.reduce_mean(tf.nn.sparse_softmax_cross_entropy_with_logits(logits[4], tf_train_labels[:, 4]))\n",
    "    \n",
    "    regularizers = tf.nn.l2_loss(fc1_W) + \\\n",
    "                tf.nn.l2_loss(fc_d1_W) + \\\n",
    "                tf.nn.l2_loss(fc_d2_W) + \\\n",
    "                tf.nn.l2_loss(fc_d3_W) + \\\n",
    "                tf.nn.l2_loss(fc_d4_W) + \\\n",
    "                tf.nn.l2_loss(fc_d5_W)\n",
    "                \n",
    "    loss += 1e-2 * regularizers\n",
    "    \n",
    "    batch = tf.Variable(0, dtype=tf.float32)\n",
    "    \n",
    "    learning_rate = tf.constant(0.04)\n",
    "    \n",
    "    #decayed_learning_rate = learning_rate *\n",
    "    #                    decay_rate ^ (global_step / decay_steps)\n",
    "#     learning_rate = tf.train.exponential_decay(\n",
    "#         0.04, # Base learning rate\n",
    "#         batch * BATCH_SIZE, # Current index into the dataset\n",
    "#         train_labels.shape[0], # Decay step\n",
    "#         0.95, # Decay rate,\n",
    "#         staircase=True\n",
    "#     )\n",
    "    \n",
    "    optimizer = tf.train.AdagradOptimizer(learning_rate, 0.9).minimize(loss, global_step=batch)\n",
    "    \n",
    "    train_prediction = predict(logits)\n",
    "    valid_prediction = predict(model(tf_valid_dataset))\n",
    "    \n",
    "    train_accuracy = accuracy(train_prediction, tf_train_labels)\n",
    "    valid_accuracy = accuracy(valid_prediction, tf_valid_labels)"
   ]
  },
  {
   "cell_type": "code",
   "execution_count": 18,
   "metadata": {
    "collapsed": false
   },
   "outputs": [],
   "source": [
    "def shuffle_in_unison_inplace(a, b):\n",
    "    # 随机打乱数据，同时保证数据和标签仍然相互对应\n",
    "    assert len(a) == len(b)\n",
    "    p = np.random.permutation(len(a))\n",
    "    return a[p], b[p]"
   ]
  },
  {
   "cell_type": "code",
   "execution_count": 19,
   "metadata": {
    "collapsed": false,
    "scrolled": false
   },
   "outputs": [
    {
     "name": "stdout",
     "output_type": "stream",
     "text": [
      "Initialized\n",
      "Random shuffle\n",
      "Step 400, \tMinibatch loss 14.0714, Learning rate 0.0400, Minibatch accuracy 10.94%, Validation accuracy 26.46% *\n",
      "Step 800, \tMinibatch loss 9.6776, Learning rate 0.0400, Minibatch accuracy 40.62%, Validation accuracy 45.77% *\n",
      "Step 1200, \tMinibatch loss 7.9149, Learning rate 0.0400, Minibatch accuracy 48.44%, Validation accuracy 57.51% *\n",
      "Step 1600, \tMinibatch loss 5.8784, Learning rate 0.0400, Minibatch accuracy 48.44%, Validation accuracy 63.27% *\n",
      "Step 2000, \tMinibatch loss 4.7590, Learning rate 0.0400, Minibatch accuracy 60.94%, Validation accuracy 67.70% *\n",
      "Step 2400, \tMinibatch loss 3.7672, Learning rate 0.0400, Minibatch accuracy 65.62%, Validation accuracy 70.33% *\n",
      "Step 2800, \tMinibatch loss 2.9944, Learning rate 0.0400, Minibatch accuracy 70.31%, Validation accuracy 73.01% *\n",
      "Step 3200, \tMinibatch loss 3.1685, Learning rate 0.0400, Minibatch accuracy 75.00%, Validation accuracy 74.20% *\n",
      "Random shuffle\n",
      "Step 3600, \tMinibatch loss 2.3480, Learning rate 0.0400, Minibatch accuracy 73.44%, Validation accuracy 75.77% *\n",
      "Step 4000, \tMinibatch loss 2.3143, Learning rate 0.0400, Minibatch accuracy 75.00%, Validation accuracy 75.99% *\n",
      "Step 4400, \tMinibatch loss 2.1891, Learning rate 0.0400, Minibatch accuracy 75.00%, Validation accuracy 77.46% *\n",
      "Step 4800, \tMinibatch loss 1.8358, Learning rate 0.0400, Minibatch accuracy 73.44%, Validation accuracy 78.16% *\n",
      "Step 5200, \tMinibatch loss 2.4019, Learning rate 0.0400, Minibatch accuracy 65.62%, Validation accuracy 78.70% *\n",
      "Step 5600, \tMinibatch loss 1.4818, Learning rate 0.0400, Minibatch accuracy 79.69%, Validation accuracy 80.59% *\n",
      "Step 6000, \tMinibatch loss 1.2059, Learning rate 0.0400, Minibatch accuracy 85.94%, Validation accuracy 79.67% \n",
      "Step 6400, \tMinibatch loss 1.7639, Learning rate 0.0400, Minibatch accuracy 82.81%, Validation accuracy 81.37% *\n",
      "Step 6800, \tMinibatch loss 1.3753, Learning rate 0.0400, Minibatch accuracy 79.69%, Validation accuracy 82.08% *\n",
      "Random shuffle\n",
      "Step 7200, \tMinibatch loss 1.1642, Learning rate 0.0400, Minibatch accuracy 82.81%, Validation accuracy 82.17% *\n",
      "Step 7600, \tMinibatch loss 1.4077, Learning rate 0.0400, Minibatch accuracy 76.56%, Validation accuracy 83.00% *\n",
      "Step 8000, \tMinibatch loss 1.0348, Learning rate 0.0400, Minibatch accuracy 84.38%, Validation accuracy 83.17% *\n",
      "Step 8400, \tMinibatch loss 0.9995, Learning rate 0.0400, Minibatch accuracy 89.06%, Validation accuracy 83.51% *\n",
      "Step 8800, \tMinibatch loss 1.1205, Learning rate 0.0400, Minibatch accuracy 90.62%, Validation accuracy 83.08% \n",
      "Step 9200, \tMinibatch loss 1.1834, Learning rate 0.0400, Minibatch accuracy 90.62%, Validation accuracy 83.77% *\n",
      "Step 9600, \tMinibatch loss 0.9597, Learning rate 0.0400, Minibatch accuracy 92.19%, Validation accuracy 84.25% *\n",
      "Step 10000, \tMinibatch loss 1.6636, Learning rate 0.0400, Minibatch accuracy 79.69%, Validation accuracy 84.26% *\n",
      "Step 10400, \tMinibatch loss 0.8655, Learning rate 0.0400, Minibatch accuracy 89.06%, Validation accuracy 84.86% *\n",
      "Random shuffle\n",
      "Step 10800, \tMinibatch loss 1.7591, Learning rate 0.0400, Minibatch accuracy 84.38%, Validation accuracy 84.42% \n",
      "Step 11200, \tMinibatch loss 1.1396, Learning rate 0.0400, Minibatch accuracy 82.81%, Validation accuracy 85.03% *\n",
      "Step 11600, \tMinibatch loss 1.6508, Learning rate 0.0400, Minibatch accuracy 89.06%, Validation accuracy 84.10% \n",
      "Step 12000, \tMinibatch loss 0.8875, Learning rate 0.0400, Minibatch accuracy 92.19%, Validation accuracy 85.35% *\n",
      "Step 12400, \tMinibatch loss 1.4069, Learning rate 0.0400, Minibatch accuracy 84.38%, Validation accuracy 85.49% *\n",
      "Step 12800, \tMinibatch loss 0.8403, Learning rate 0.0400, Minibatch accuracy 90.62%, Validation accuracy 85.62% *\n",
      "Step 13200, \tMinibatch loss 1.2182, Learning rate 0.0400, Minibatch accuracy 89.06%, Validation accuracy 85.93% *\n",
      "Step 13600, \tMinibatch loss 1.2811, Learning rate 0.0400, Minibatch accuracy 85.94%, Validation accuracy 85.28% \n",
      "Random shuffle\n",
      "Step 14000, \tMinibatch loss 0.8374, Learning rate 0.0400, Minibatch accuracy 92.19%, Validation accuracy 86.39% *\n",
      "Step 14400, \tMinibatch loss 0.8346, Learning rate 0.0400, Minibatch accuracy 90.62%, Validation accuracy 86.31% \n",
      "Step 14800, \tMinibatch loss 0.9183, Learning rate 0.0400, Minibatch accuracy 90.62%, Validation accuracy 86.52% *\n",
      "Step 15200, \tMinibatch loss 0.8208, Learning rate 0.0400, Minibatch accuracy 89.06%, Validation accuracy 86.38% \n",
      "Step 15600, \tMinibatch loss 1.2883, Learning rate 0.0400, Minibatch accuracy 82.81%, Validation accuracy 85.93% \n",
      "Step 16000, \tMinibatch loss 0.8069, Learning rate 0.0400, Minibatch accuracy 95.31%, Validation accuracy 86.65% *\n",
      "Step 16400, \tMinibatch loss 1.2546, Learning rate 0.0400, Minibatch accuracy 89.06%, Validation accuracy 86.94% *\n",
      "Step 16800, \tMinibatch loss 0.9606, Learning rate 0.0400, Minibatch accuracy 90.62%, Validation accuracy 86.52% \n",
      "Step 17200, \tMinibatch loss 1.0111, Learning rate 0.0400, Minibatch accuracy 90.62%, Validation accuracy 86.98% *\n",
      "Random shuffle\n",
      "Step 17600, \tMinibatch loss 0.9942, Learning rate 0.0400, Minibatch accuracy 92.19%, Validation accuracy 87.11% *\n",
      "Step 18000, \tMinibatch loss 1.0120, Learning rate 0.0400, Minibatch accuracy 89.06%, Validation accuracy 87.37% *\n",
      "Step 18400, \tMinibatch loss 0.9221, Learning rate 0.0400, Minibatch accuracy 85.94%, Validation accuracy 87.15% \n",
      "Step 18800, \tMinibatch loss 0.9826, Learning rate 0.0400, Minibatch accuracy 90.62%, Validation accuracy 87.05% \n",
      "Step 19200, \tMinibatch loss 1.3172, Learning rate 0.0400, Minibatch accuracy 82.81%, Validation accuracy 87.18% \n",
      "Step 19600, \tMinibatch loss 1.0275, Learning rate 0.0400, Minibatch accuracy 89.06%, Validation accuracy 87.53% *\n",
      "Step 20000, \tMinibatch loss 1.0929, Learning rate 0.0400, Minibatch accuracy 89.06%, Validation accuracy 87.47% \n",
      "Step 20400, \tMinibatch loss 0.8339, Learning rate 0.0400, Minibatch accuracy 90.62%, Validation accuracy 87.44% \n",
      "Step 20800, \tMinibatch loss 1.0286, Learning rate 0.0400, Minibatch accuracy 87.50%, Validation accuracy 87.76% *\n",
      "Random shuffle\n",
      "Step 21200, \tMinibatch loss 0.7292, Learning rate 0.0400, Minibatch accuracy 98.44%, Validation accuracy 87.25% \n",
      "Step 21600, \tMinibatch loss 0.8121, Learning rate 0.0400, Minibatch accuracy 92.19%, Validation accuracy 87.50% \n",
      "Step 22000, \tMinibatch loss 1.0298, Learning rate 0.0400, Minibatch accuracy 85.94%, Validation accuracy 87.85% *\n",
      "Step 22400, \tMinibatch loss 1.0428, Learning rate 0.0400, Minibatch accuracy 85.94%, Validation accuracy 87.77% \n",
      "Step 22800, \tMinibatch loss 0.7875, Learning rate 0.0400, Minibatch accuracy 95.31%, Validation accuracy 88.00% *\n",
      "Step 23200, \tMinibatch loss 1.0272, Learning rate 0.0400, Minibatch accuracy 85.94%, Validation accuracy 88.42% *\n",
      "Step 23600, \tMinibatch loss 1.0500, Learning rate 0.0400, Minibatch accuracy 85.94%, Validation accuracy 88.06% \n",
      "Step 24000, \tMinibatch loss 0.9265, Learning rate 0.0400, Minibatch accuracy 93.75%, Validation accuracy 88.09% \n",
      "Step 24400, \tMinibatch loss 0.8893, Learning rate 0.0400, Minibatch accuracy 92.19%, Validation accuracy 88.27% \n",
      "Random shuffle\n",
      "Step 24800, \tMinibatch loss 0.6146, Learning rate 0.0400, Minibatch accuracy 95.31%, Validation accuracy 88.14% \n",
      "Step 25200, \tMinibatch loss 0.9765, Learning rate 0.0400, Minibatch accuracy 90.62%, Validation accuracy 88.29% \n",
      "Step 25600, \tMinibatch loss 0.9498, Learning rate 0.0400, Minibatch accuracy 89.06%, Validation accuracy 88.17% \n",
      "Step 26000, \tMinibatch loss 0.8039, Learning rate 0.0400, Minibatch accuracy 90.62%, Validation accuracy 87.95% \n",
      "Step 26400, \tMinibatch loss 0.5672, Learning rate 0.0400, Minibatch accuracy 93.75%, Validation accuracy 88.62% *\n",
      "Step 26800, \tMinibatch loss 0.9494, Learning rate 0.0400, Minibatch accuracy 93.75%, Validation accuracy 88.56% \n",
      "Step 27200, \tMinibatch loss 1.7784, Learning rate 0.0400, Minibatch accuracy 84.38%, Validation accuracy 88.53% \n",
      "Step 27600, \tMinibatch loss 0.8879, Learning rate 0.0400, Minibatch accuracy 89.06%, Validation accuracy 88.51% \n",
      "Random shuffle\n",
      "Step 28000, \tMinibatch loss 0.6612, Learning rate 0.0400, Minibatch accuracy 96.88%, Validation accuracy 88.75% *\n",
      "Step 28400, \tMinibatch loss 0.6066, Learning rate 0.0400, Minibatch accuracy 96.88%, Validation accuracy 88.71% \n",
      "Step 28800, \tMinibatch loss 0.7879, Learning rate 0.0400, Minibatch accuracy 93.75%, Validation accuracy 88.61% \n",
      "Step 29200, \tMinibatch loss 0.6014, Learning rate 0.0400, Minibatch accuracy 93.75%, Validation accuracy 88.15% \n",
      "Step 29600, \tMinibatch loss 1.3329, Learning rate 0.0400, Minibatch accuracy 90.62%, Validation accuracy 88.85% *\n",
      "Step 30000, \tMinibatch loss 1.5097, Learning rate 0.0400, Minibatch accuracy 87.50%, Validation accuracy 88.53% \n",
      "Step 30400, \tMinibatch loss 0.5884, Learning rate 0.0400, Minibatch accuracy 89.06%, Validation accuracy 88.79% \n",
      "Step 30800, \tMinibatch loss 0.5204, Learning rate 0.0400, Minibatch accuracy 96.88%, Validation accuracy 88.96% *\n",
      "Step 31200, \tMinibatch loss 0.6424, Learning rate 0.0400, Minibatch accuracy 87.50%, Validation accuracy 88.91% \n",
      "Random shuffle\n",
      "Step 31600, \tMinibatch loss 0.4576, Learning rate 0.0400, Minibatch accuracy 98.44%, Validation accuracy 89.12% *\n",
      "Step 32000, \tMinibatch loss 1.1481, Learning rate 0.0400, Minibatch accuracy 87.50%, Validation accuracy 89.05% \n",
      "Step 32400, \tMinibatch loss 0.6185, Learning rate 0.0400, Minibatch accuracy 98.44%, Validation accuracy 89.11% \n",
      "Step 32800, \tMinibatch loss 0.8435, Learning rate 0.0400, Minibatch accuracy 90.62%, Validation accuracy 88.95% \n",
      "Step 33200, \tMinibatch loss 0.9844, Learning rate 0.0400, Minibatch accuracy 90.62%, Validation accuracy 89.35% *\n",
      "Step 33600, \tMinibatch loss 1.3327, Learning rate 0.0400, Minibatch accuracy 82.81%, Validation accuracy 89.01% \n",
      "Step 34000, \tMinibatch loss 0.5270, Learning rate 0.0400, Minibatch accuracy 93.75%, Validation accuracy 88.90% \n",
      "Step 34400, \tMinibatch loss 0.7064, Learning rate 0.0400, Minibatch accuracy 89.06%, Validation accuracy 89.24% \n",
      "Step 34800, \tMinibatch loss 0.9083, Learning rate 0.0400, Minibatch accuracy 93.75%, Validation accuracy 89.16% \n",
      "Random shuffle\n",
      "Step 35200, \tMinibatch loss 0.8534, Learning rate 0.0400, Minibatch accuracy 95.31%, Validation accuracy 89.13% \n",
      "Step 35600, \tMinibatch loss 0.7094, Learning rate 0.0400, Minibatch accuracy 93.75%, Validation accuracy 89.33% \n",
      "Step 36000, \tMinibatch loss 0.6550, Learning rate 0.0400, Minibatch accuracy 95.31%, Validation accuracy 89.28% \n",
      "Step 36400, \tMinibatch loss 0.5716, Learning rate 0.0400, Minibatch accuracy 95.31%, Validation accuracy 89.17% \n",
      "Step 36800, \tMinibatch loss 0.6619, Learning rate 0.0400, Minibatch accuracy 90.62%, Validation accuracy 89.11% \n",
      "Step 37200, \tMinibatch loss 1.0431, Learning rate 0.0400, Minibatch accuracy 92.19%, Validation accuracy 89.20% \n",
      "Step 37600, \tMinibatch loss 0.5433, Learning rate 0.0400, Minibatch accuracy 92.19%, Validation accuracy 89.44% *\n",
      "Step 38000, \tMinibatch loss 0.6093, Learning rate 0.0400, Minibatch accuracy 96.88%, Validation accuracy 89.46% *\n",
      "Step 38400, \tMinibatch loss 0.7296, Learning rate 0.0400, Minibatch accuracy 95.31%, Validation accuracy 89.42% \n",
      "Random shuffle\n",
      "Step 38800, \tMinibatch loss 0.9126, Learning rate 0.0400, Minibatch accuracy 90.62%, Validation accuracy 89.41% \n",
      "Step 39200, \tMinibatch loss 0.6181, Learning rate 0.0400, Minibatch accuracy 87.50%, Validation accuracy 89.50% *\n",
      "Step 39600, \tMinibatch loss 1.4425, Learning rate 0.0400, Minibatch accuracy 81.25%, Validation accuracy 89.64% *\n",
      "Step 40000, \tMinibatch loss 0.6405, Learning rate 0.0400, Minibatch accuracy 95.31%, Validation accuracy 89.47% \n",
      "Step 40400, \tMinibatch loss 1.0061, Learning rate 0.0400, Minibatch accuracy 92.19%, Validation accuracy 89.48% \n",
      "Step 40800, \tMinibatch loss 0.5586, Learning rate 0.0400, Minibatch accuracy 92.19%, Validation accuracy 89.25% \n",
      "Step 41200, \tMinibatch loss 0.8284, Learning rate 0.0400, Minibatch accuracy 95.31%, Validation accuracy 89.69% *\n",
      "Step 41600, \tMinibatch loss 0.5229, Learning rate 0.0400, Minibatch accuracy 96.88%, Validation accuracy 89.46% \n",
      "Random shuffle\n",
      "Step 42000, \tMinibatch loss 0.5608, Learning rate 0.0400, Minibatch accuracy 100.00%, Validation accuracy 89.54% \n",
      "Step 42400, \tMinibatch loss 0.7562, Learning rate 0.0400, Minibatch accuracy 93.75%, Validation accuracy 89.53% \n",
      "Step 42800, \tMinibatch loss 0.7247, Learning rate 0.0400, Minibatch accuracy 92.19%, Validation accuracy 89.70% *\n",
      "Step 43200, \tMinibatch loss 0.5778, Learning rate 0.0400, Minibatch accuracy 89.06%, Validation accuracy 89.76% *\n",
      "Step 43600, \tMinibatch loss 0.6604, Learning rate 0.0400, Minibatch accuracy 93.75%, Validation accuracy 89.73% \n",
      "Step 44000, \tMinibatch loss 0.7485, Learning rate 0.0400, Minibatch accuracy 95.31%, Validation accuracy 89.50% \n",
      "Step 44400, \tMinibatch loss 1.0337, Learning rate 0.0400, Minibatch accuracy 90.62%, Validation accuracy 89.50% \n",
      "Step 44800, \tMinibatch loss 0.7692, Learning rate 0.0400, Minibatch accuracy 93.75%, Validation accuracy 89.62% \n",
      "Step 45200, \tMinibatch loss 1.2071, Learning rate 0.0400, Minibatch accuracy 93.75%, Validation accuracy 89.65% \n",
      "Random shuffle\n",
      "Step 45600, \tMinibatch loss 0.4607, Learning rate 0.0400, Minibatch accuracy 98.44%, Validation accuracy 89.72% \n",
      "Step 46000, \tMinibatch loss 0.5277, Learning rate 0.0400, Minibatch accuracy 100.00%, Validation accuracy 89.79% *\n",
      "Step 46400, \tMinibatch loss 0.6191, Learning rate 0.0400, Minibatch accuracy 93.75%, Validation accuracy 89.91% *\n",
      "Step 46800, \tMinibatch loss 0.5823, Learning rate 0.0400, Minibatch accuracy 90.62%, Validation accuracy 89.77% \n",
      "Step 47200, \tMinibatch loss 0.8571, Learning rate 0.0400, Minibatch accuracy 96.88%, Validation accuracy 89.57% \n",
      "Step 47600, \tMinibatch loss 0.5691, Learning rate 0.0400, Minibatch accuracy 92.19%, Validation accuracy 89.80% \n",
      "Step 48000, \tMinibatch loss 0.5592, Learning rate 0.0400, Minibatch accuracy 95.31%, Validation accuracy 90.12% *\n",
      "Step 48400, \tMinibatch loss 0.7506, Learning rate 0.0400, Minibatch accuracy 92.19%, Validation accuracy 90.13% *\n",
      "Step 48800, \tMinibatch loss 0.8578, Learning rate 0.0400, Minibatch accuracy 89.06%, Validation accuracy 90.05% \n",
      "Random shuffle\n",
      "Step 49200, \tMinibatch loss 0.6915, Learning rate 0.0400, Minibatch accuracy 87.50%, Validation accuracy 90.18% *\n",
      "Step 49600, \tMinibatch loss 0.6250, Learning rate 0.0400, Minibatch accuracy 100.00%, Validation accuracy 90.14% \n",
      "Step 50000, \tMinibatch loss 0.3969, Learning rate 0.0400, Minibatch accuracy 96.88%, Validation accuracy 89.99% \n",
      "Step 50400, \tMinibatch loss 0.5182, Learning rate 0.0400, Minibatch accuracy 95.31%, Validation accuracy 90.09% \n",
      "Step 50800, \tMinibatch loss 0.6987, Learning rate 0.0400, Minibatch accuracy 93.75%, Validation accuracy 90.19% *\n",
      "Step 51200, \tMinibatch loss 0.5310, Learning rate 0.0400, Minibatch accuracy 95.31%, Validation accuracy 90.30% *\n",
      "Step 51600, \tMinibatch loss 0.6447, Learning rate 0.0400, Minibatch accuracy 98.44%, Validation accuracy 89.97% \n",
      "Step 52000, \tMinibatch loss 0.8421, Learning rate 0.0400, Minibatch accuracy 90.62%, Validation accuracy 90.13% \n",
      "Step 52400, \tMinibatch loss 0.4947, Learning rate 0.0400, Minibatch accuracy 96.88%, Validation accuracy 90.19% \n",
      "Random shuffle\n",
      "Step 52800, \tMinibatch loss 0.6288, Learning rate 0.0400, Minibatch accuracy 95.31%, Validation accuracy 89.97% \n",
      "Step 53200, \tMinibatch loss 0.5716, Learning rate 0.0400, Minibatch accuracy 95.31%, Validation accuracy 90.18% \n",
      "Step 53600, \tMinibatch loss 0.7435, Learning rate 0.0400, Minibatch accuracy 90.62%, Validation accuracy 90.24% \n",
      "Step 54000, \tMinibatch loss 0.6474, Learning rate 0.0400, Minibatch accuracy 96.88%, Validation accuracy 90.06% \n",
      "Step 54400, \tMinibatch loss 0.8168, Learning rate 0.0400, Minibatch accuracy 85.94%, Validation accuracy 90.06% \n",
      "Step 54800, \tMinibatch loss 0.6798, Learning rate 0.0400, Minibatch accuracy 92.19%, Validation accuracy 90.18% \n",
      "Step 55200, \tMinibatch loss 0.5991, Learning rate 0.0400, Minibatch accuracy 93.75%, Validation accuracy 90.28% \n",
      "Step 55600, \tMinibatch loss 0.8319, Learning rate 0.0400, Minibatch accuracy 90.62%, Validation accuracy 90.41% *\n",
      "Random shuffle\n",
      "Step 56000, \tMinibatch loss 0.4923, Learning rate 0.0400, Minibatch accuracy 95.31%, Validation accuracy 90.10% \n",
      "Step 56400, \tMinibatch loss 1.1032, Learning rate 0.0400, Minibatch accuracy 90.62%, Validation accuracy 90.24% \n",
      "Step 56800, \tMinibatch loss 0.6936, Learning rate 0.0400, Minibatch accuracy 95.31%, Validation accuracy 90.16% \n",
      "Step 57200, \tMinibatch loss 0.7157, Learning rate 0.0400, Minibatch accuracy 95.31%, Validation accuracy 90.29% \n",
      "Step 57600, \tMinibatch loss 0.7790, Learning rate 0.0400, Minibatch accuracy 95.31%, Validation accuracy 90.25% \n",
      "Step 58000, \tMinibatch loss 0.6580, Learning rate 0.0400, Minibatch accuracy 93.75%, Validation accuracy 90.20% \n",
      "Step 58400, \tMinibatch loss 0.4579, Learning rate 0.0400, Minibatch accuracy 96.88%, Validation accuracy 90.38% \n",
      "Step 58800, \tMinibatch loss 1.4341, Learning rate 0.0400, Minibatch accuracy 96.88%, Validation accuracy 90.30% \n",
      "Step 59200, \tMinibatch loss 0.7013, Learning rate 0.0400, Minibatch accuracy 93.75%, Validation accuracy 90.36% \n",
      "Random shuffle\n",
      "Step 59600, \tMinibatch loss 0.7081, Learning rate 0.0400, Minibatch accuracy 96.88%, Validation accuracy 90.35% \n",
      "Step 60000, \tMinibatch loss 0.5407, Learning rate 0.0400, Minibatch accuracy 93.75%, Validation accuracy 90.32% \n",
      "Valid accuracy makes no progress in 4000 steps\n"
     ]
    }
   ],
   "source": [
    "SHOW_STATE_AFTER = 400\n",
    "\n",
    "train_accuracies = []\n",
    "valid_accuracies = []\n",
    "\n",
    "best_valid_accuracy = 0\n",
    "best_accuracy_step = 0\n",
    "stop_after_step_no_progress = 5200\n",
    "\n",
    "\n",
    "with tf.Session(graph=graph) as session:\n",
    "    tf.initialize_all_variables().run()\n",
    "    print('Initialized')\n",
    "    offset = 0\n",
    "    \n",
    "    step = 0\n",
    "    while True:\n",
    "        step += 1\n",
    "        # 扫描一遍训练数据后，随机打乱训练数据的顺序\n",
    "        if(offset == 0):\n",
    "            train_dataset, train_labels = shuffle_in_unison_inplace(train_dataset, train_labels)\n",
    "            print('Random shuffle')\n",
    "        feed_dict = {\n",
    "            tf_train_dataset : train_dataset[offset:(offset + BATCH_SIZE)], \n",
    "            tf_train_labels : train_labels[offset:(offset + BATCH_SIZE)]\n",
    "        }\n",
    "        offset += BATCH_SIZE\n",
    "        if offset+BATCH_SIZE > train_labels.shape[0]:\n",
    "            offset = 0\n",
    "        _, l, lr = session.run([optimizer, loss, learning_rate], feed_dict=feed_dict)\n",
    "        \n",
    "        \n",
    "        if (step % SHOW_STATE_AFTER == 0):\n",
    "            # 训练集准确率和交叉验证集准确率只需要在打印输出的时候计算\n",
    "            train_acc, valid_acc = session.run([train_accuracy, valid_accuracy], feed_dict=feed_dict)\n",
    "            \n",
    "            # 星号表示交叉验证集上的准确率有提升\n",
    "            improved_str = ''\n",
    "            if valid_acc > best_valid_accuracy:\n",
    "                saver.save(session, 'multi22.ckpt', write_meta_graph=False)\n",
    "                best_valid_accuracy = valid_acc\n",
    "                best_accuracy_step = step\n",
    "                improved_str = '*'\n",
    "            \n",
    "            train_accuracies.append(train_acc)\n",
    "            valid_accuracies.append(valid_acc)\n",
    "            print('Step %d, \\tMinibatch loss %.4f, Learning rate %.4f, Minibatch accuracy %.2f%%, \\\n",
    "                    Validation accuracy %.2f%% %s' % (step, l, lr, train_acc, valid_acc, improved_str))\n",
    "            \n",
    "            # stop_after_step_no_progress步内，交叉验证集准确率没有提升，终止训练\n",
    "            if step - best_accuracy_step > stop_after_step_no_progress:\n",
    "                print(\"Valid accuracy makes no progress in {} steps\".format(stop_after_step_no_progress))\n",
    "                break\n",
    "#             if step >= 10000:\n",
    "#                 saver.save(session, 'multi22.ckpt', write_meta_graph=False)\n",
    "#                 break"
   ]
  },
  {
   "cell_type": "markdown",
   "metadata": {},
   "source": [
    "### 学习曲线\n",
    "\n",
    "在训练过程中，准确率在训练集和交叉验证集上的变化情况。"
   ]
  },
  {
   "cell_type": "code",
   "execution_count": 20,
   "metadata": {
    "collapsed": false
   },
   "outputs": [
    {
     "data": {
      "text/plain": [
       "<matplotlib.legend.Legend at 0x7fc2d896fdd8>"
      ]
     },
     "execution_count": 20,
     "metadata": {},
     "output_type": "execute_result"
    },
    {
     "data": {
      "image/png": "[encoded data removed]",
      "text/plain": [
       "<matplotlib.figure.Figure at 0x7fc2dbd45d30>"
      ]
     },
     "metadata": {},
     "output_type": "display_data"
    }
   ],
   "source": [
    "plt.plot(range(0, step, SHOW_STATE_AFTER), train_accuracies)\n",
    "plt.plot(range(0, step, SHOW_STATE_AFTER), valid_accuracies)\n",
    "plt.title('Learning curve')\n",
    "plt.xlabel('Number of steps')\n",
    "plt.ylabel('Accuracy(%)')\n",
    "plt.legend(['Train accuracy', 'Valid accuracy'], loc='best')"
   ]
  },
  {
   "cell_type": "code",
   "execution_count": null,
   "metadata": {
    "collapsed": true
   },
   "outputs": [],
   "source": []
  }
 ],
 "metadata": {
  "anaconda-cloud": {},
  "kernelspec": {
   "display_name": "Python [conda root]",
   "language": "python",
   "name": "conda-root-py"
  },
  "language_info": {
   "codemirror_mode": {
    "name": "ipython",
    "version": 3
   },
   "file_extension": ".py",
   "mimetype": "text/x-python",
   "name": "python",
   "nbconvert_exporter": "python",
   "pygments_lexer": "ipython3",
   "version": "3.5.2"
  }
 },
 "nbformat": 4,
 "nbformat_minor": 0
}
