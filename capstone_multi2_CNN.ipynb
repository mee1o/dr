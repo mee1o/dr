{
 "cells": [
  {
   "cell_type": "markdown",
   "metadata": {},
   "source": [
    "## 2 识别数字序列的卷积神经网络"
   ]
  },
  {
   "cell_type": "code",
   "execution_count": 1,
   "metadata": {
    "collapsed": false
   },
   "outputs": [],
   "source": [
    "from __future__ import print_function\n",
    "from six.moves import cPickle as pickle"
   ]
  },
  {
   "cell_type": "code",
   "execution_count": 2,
   "metadata": {
    "collapsed": false
   },
   "outputs": [],
   "source": [
    "% matplotlib inline\n",
    "import seaborn\n",
    "\n",
    "import numpy as np\n",
    "import tensorflow as tf\n",
    "import matplotlib.pyplot as plt"
   ]
  },
  {
   "cell_type": "markdown",
   "metadata": {},
   "source": [
    "### 加载经过预处理的数据"
   ]
  },
  {
   "cell_type": "code",
   "execution_count": 19,
   "metadata": {
    "collapsed": true
   },
   "outputs": [],
   "source": [
    "IMAGE_SIZE = 32"
   ]
  },
  {
   "cell_type": "code",
   "execution_count": 9,
   "metadata": {
    "collapsed": true
   },
   "outputs": [],
   "source": [
    "image_size_40px = ''\n",
    "# image_size_40px = '_40'"
   ]
  },
  {
   "cell_type": "code",
   "execution_count": 10,
   "metadata": {
    "collapsed": false
   },
   "outputs": [
    {
     "name": "stdout",
     "output_type": "stream",
     "text": [
      "dataset shape:  (33402, 40, 40)\n",
      "labels shape:  (33402, 5)\n"
     ]
    }
   ],
   "source": [
    "pickle_file = 'svhn_multi_train%s.pickle' % image_size_40px\n",
    "\n",
    "with open(pickle_file, 'rb') as f:\n",
    "    dataset = pickle.load(f)\n",
    "    images = dataset['dataset']\n",
    "    labels = dataset['labels'][:, 1:6]\n",
    "    \n",
    "print('dataset shape: ', images.shape)\n",
    "print('labels shape: ', labels.shape)"
   ]
  },
  {
   "cell_type": "raw",
   "metadata": {
    "collapsed": false
   },
   "source": [
    "pickle_file = 'svhn_multi_extra%s.pickle' % image_size_40px\n",
    "\n",
    "with open(pickle_file, 'rb') as f:\n",
    "    dataset = pickle.load(f)\n",
    "    images = np.vstack((images, dataset['dataset']))\n",
    "    labels = np.vstack((labels, dataset['labels'][:, 1:6]))\n",
    "\n",
    "print('dataset shape: ', images.shape)\n",
    "print('labels shape: ', labels.shape)"
   ]
  },
  {
   "cell_type": "code",
   "execution_count": 11,
   "metadata": {
    "collapsed": false
   },
   "outputs": [
    {
     "data": {
      "text/plain": [
       "array([[ 1,  9, 10, 10, 10],\n",
       "       [ 2,  3, 10, 10, 10],\n",
       "       [ 2,  5, 10, 10, 10],\n",
       "       [ 9,  3, 10, 10, 10],\n",
       "       [ 3,  1, 10, 10, 10],\n",
       "       [ 3,  3, 10, 10, 10],\n",
       "       [ 2,  8, 10, 10, 10],\n",
       "       [ 7,  4,  4, 10, 10],\n",
       "       [ 1,  2,  8, 10, 10],\n",
       "       [ 1,  6, 10, 10, 10]], dtype=int8)"
      ]
     },
     "execution_count": 11,
     "metadata": {},
     "output_type": "execute_result"
    }
   ],
   "source": [
    "labels[:10]"
   ]
  },
  {
   "cell_type": "markdown",
   "metadata": {},
   "source": [
    "### 构建交叉验证集\n",
    "\n",
    "从训练数据中选择5%作为交叉验证集。"
   ]
  },
  {
   "cell_type": "code",
   "execution_count": 12,
   "metadata": {
    "collapsed": true
   },
   "outputs": [],
   "source": [
    "from sklearn.cross_validation import train_test_split"
   ]
  },
  {
   "cell_type": "code",
   "execution_count": 13,
   "metadata": {
    "collapsed": false
   },
   "outputs": [
    {
     "name": "stdout",
     "output_type": "stream",
     "text": [
      "Training dataset shape:  (31731, 40, 40)\n",
      "Training labels shape:  (31731, 5)\n",
      "Validing dataset shape:  (1671, 40, 40)\n",
      "Validing labels shape:  (1671, 5)\n"
     ]
    }
   ],
   "source": [
    "train_dataset, valid_dataset , train_labels, valid_labels = train_test_split(images, labels, test_size=0.05, random_state=42)\n",
    "\n",
    "print('Training dataset shape: ', train_dataset.shape)\n",
    "print('Training labels shape: ', train_labels.shape)\n",
    "print('Validing dataset shape: ', valid_dataset.shape)\n",
    "print('Validing labels shape: ', valid_labels.shape)"
   ]
  },
  {
   "cell_type": "code",
   "execution_count": 20,
   "metadata": {
    "collapsed": true
   },
   "outputs": [],
   "source": [
    "NUM_DIGITS = 5\n",
    "NUM_LABELS = 11 # 0-9 + 10==doesn't exist\n",
    "NUM_CHANNELS = 1 # grayscale"
   ]
  },
  {
   "cell_type": "code",
   "execution_count": 21,
   "metadata": {
    "collapsed": true
   },
   "outputs": [],
   "source": [
    "def reformat(dataset, labels):\n",
    "    dataset = dataset.reshape((-1, IMAGE_SIZE, IMAGE_SIZE, NUM_CHANNELS)).astype(np.float32)\n",
    "\n",
    "    return dataset, labels"
   ]
  },
  {
   "cell_type": "code",
   "execution_count": 22,
   "metadata": {
    "collapsed": false
   },
   "outputs": [
    {
     "name": "stdout",
     "output_type": "stream",
     "text": [
      "Training dataset shape:  (31731, 40, 40, 1)\n",
      "Validing dataset shape:  (1671, 40, 40, 1)\n"
     ]
    }
   ],
   "source": [
    "train_dataset, train_labels = reformat(train_dataset, train_labels)\n",
    "valid_dataset, valid_labels = reformat(valid_dataset, valid_labels)\n",
    "\n",
    "print('Training dataset shape: ', train_dataset.shape)\n",
    "print('Validing dataset shape: ', valid_dataset.shape)"
   ]
  },
  {
   "cell_type": "markdown",
   "metadata": {},
   "source": [
    "### 构建计算图\n",
    "\n",
    "识别数字序列的卷积神经网络结构包含3层卷积层，1层全连接层和一层输出层。所有的连接均为前向，从一层到相邻的下一层。3层卷积层分别包含[24, 48, 80]张特征图。全连接层包含256个单元。每一层卷积层的输出通过最大值池化，池化窗的大小为2x2，步长为2。训练时，全连接层的输出以0.6的概率随机将值赋为0。所有卷积核的大小为5x5。\n",
    "\n",
    "训练的过程中，避免过拟合的方法：  \n",
    "\n",
    "- 参数使用二范数正则化\n",
    "- 早期停止\n",
    "- 随机抛弃"
   ]
  },
  {
   "cell_type": "code",
   "execution_count": 23,
   "metadata": {
    "collapsed": true
   },
   "outputs": [],
   "source": [
    "def createWeight(shape, name):\n",
    "    return tf.Variable(tf.truncated_normal(shape, stddev=0.1), name=name)"
   ]
  },
  {
   "cell_type": "code",
   "execution_count": 24,
   "metadata": {
    "collapsed": true
   },
   "outputs": [],
   "source": [
    "def createBiase(shape, name):\n",
    "    return tf.Variable(tf.zeros(shape), name=name)"
   ]
  },
  {
   "cell_type": "code",
   "execution_count": 25,
   "metadata": {
    "collapsed": false
   },
   "outputs": [],
   "source": [
    "BATCH_SIZE = 64\n",
    "PATCH_SIZE = 5\n",
    "DEPTH_1 = 24\n",
    "DEPTH_2 = 48\n",
    "DEPTH_3 = 80\n",
    "NUM_HIDDEN = 256\n",
    "SEED = 42"
   ]
  },
  {
   "cell_type": "code",
   "execution_count": 27,
   "metadata": {
    "collapsed": true
   },
   "outputs": [],
   "source": [
    "graph = tf.Graph()\n",
    "with graph.as_default():\n",
    "    # 输入数据\n",
    "    tf_train_dataset = tf.placeholder(tf.float32, shape=(None, IMAGE_SIZE, IMAGE_SIZE, NUM_CHANNELS))\n",
    "    tf_train_labels = tf.placeholder(tf.int64, shape=(None, NUM_DIGITS))\n",
    "    tf_valid_dataset = tf.constant(valid_dataset)\n",
    "    tf_valid_labels = tf.constant(valid_labels, dtype=tf.int64)\n",
    "    \n",
    "    # 模型参数-卷积层\n",
    "    conv1_W = createWeight([PATCH_SIZE, PATCH_SIZE, NUM_CHANNELS, DEPTH_1], 'conv1_weights')\n",
    "    conv1_B = createBiase([DEPTH_1], 'conv1_biases')\n",
    "    conv2_W = createWeight([PATCH_SIZE, PATCH_SIZE, DEPTH_1, DEPTH_2], 'conv2_weights')\n",
    "    conv2_B = createBiase([DEPTH_2], 'conv2_biases')\n",
    "    conv3_W = createWeight([PATCH_SIZE, PATCH_SIZE, DEPTH_2, DEPTH_3], 'conv3_weights')\n",
    "    conv3_B = createBiase([DEPTH_3], 'conv3_biases')\n",
    "    fc1_W = createWeight([IMAGE_SIZE//8 * IMAGE_SIZE//8 * DEPTH_3, NUM_HIDDEN], 'fc1_weights')\n",
    "    fc1_B = createBiase([NUM_HIDDEN], 'fc1_biases')\n",
    "    \n",
    "    # 模型参数-全连接层\n",
    "    fc_d1_W = createWeight([NUM_HIDDEN, NUM_LABELS], 'fc_digit1_weights')\n",
    "    fc_d1_B = createBiase([NUM_LABELS], 'fc_digit1_biases')\n",
    "    fc_d2_W = createWeight([NUM_HIDDEN, NUM_LABELS], 'fc_digit2_weights')\n",
    "    fc_d2_B = createBiase([NUM_LABELS], 'fc_digit2_biases')\n",
    "    fc_d3_W = createWeight([NUM_HIDDEN, NUM_LABELS], 'fc_digit3_weights')\n",
    "    fc_d3_B = createBiase([NUM_LABELS], 'fc_digit3_biases')\n",
    "    fc_d4_W = createWeight([NUM_HIDDEN, NUM_LABELS], 'fc_digit4_weights')\n",
    "    fc_d4_B = createBiase([NUM_LABELS], 'fc_digit4_biases')\n",
    "    fc_d5_W = createWeight([NUM_HIDDEN, NUM_LABELS], 'fc_digit5_weights')\n",
    "    fc_d5_B = createBiase([NUM_LABELS], 'fc_digit5_biases')\n",
    "\n",
    "    saver = tf.train.Saver(tf.trainable_variables()) # defaults to saving all variables\n",
    "    \n",
    "    # 数据通过神经网络前向传播\n",
    "    def model(data, train=False):\n",
    "        conv = tf.nn.conv2d(data, conv1_W, strides=[1, 1, 1, 1], padding='SAME')\n",
    "        relu = tf.nn.relu(tf.nn.bias_add(conv, conv1_B))\n",
    "#         relu = tf.nn.local_response_normalization(relu)\n",
    "        pool = tf.nn.max_pool(relu, ksize=[1, 2, 2, 1], strides=[1, 2, 2, 1], padding='SAME')\n",
    "        conv = tf.nn.conv2d(pool, conv2_W, strides=[1, 1, 1, 1], padding='SAME')\n",
    "        relu = tf.nn.relu(tf.nn.bias_add(conv, conv2_B))\n",
    "#         relu = tf.nn.local_response_normalization(relu)\n",
    "        pool = tf.nn.max_pool(relu, ksize=[1, 2, 2, 1], strides=[1, 2, 2, 1], padding='SAME')\n",
    "        conv = tf.nn.conv2d(pool, conv3_W, strides=[1, 1, 1, 1], padding='SAME')\n",
    "        relu = tf.nn.relu(tf.nn.bias_add(conv, conv3_B))\n",
    "#         relu = tf.nn.local_response_normalization(relu)\n",
    "        pool = tf.nn.max_pool(relu, ksize=[1, 2, 2, 1], strides=[1, 2, 2, 1], padding='SAME')\n",
    "        shape = pool.get_shape().as_list()\n",
    "        reshape = tf.reshape(pool, [-1, shape[1]*shape[2]*shape[3]])\n",
    "        hidden = tf.nn.relu(tf.matmul(reshape, fc1_W) + fc1_B)\n",
    "        \n",
    "        if train:\n",
    "            hidden = tf.nn.dropout(hidden, 0.6, seed=SEED)\n",
    "            \n",
    "        logit_d1 = tf.matmul(hidden, fc_d1_W) + fc_d1_B\n",
    "        logit_d2 = tf.matmul(hidden, fc_d2_W) + fc_d2_B\n",
    "        logit_d3 = tf.matmul(hidden, fc_d3_W) + fc_d3_B\n",
    "        logit_d4 = tf.matmul(hidden, fc_d4_W) + fc_d4_B\n",
    "        logit_d5 = tf.matmul(hidden, fc_d5_W) + fc_d5_B\n",
    "        \n",
    "        return logit_d1, logit_d2, logit_d3, logit_d4, logit_d5\n",
    "    \n",
    "    # 由logit计算出标签\n",
    "    def predict(logits):\n",
    "        return tf.transpose(tf.pack([tf.argmax(logits[0], 1), tf.argmax(logits[1], 1), tf.argmax(logits[2], 1), \\\n",
    "                        tf.argmax(logits[3], 1), tf.argmax(logits[4], 1)]))\n",
    "    \n",
    "    def accuracy(predictions, labels):\n",
    "        return tf.reduce_mean(tf.cast(tf.reduce_all(\n",
    "                    tf.equal(predictions, labels), reduction_indices=1\n",
    "                ), tf.float32)) * 100\n",
    "    \n",
    "    logits = model(tf_train_dataset, True)\n",
    "    loss = tf.reduce_mean(tf.nn.sparse_softmax_cross_entropy_with_logits(logits[0], tf_train_labels[:, 0])) + \\\n",
    "            tf.reduce_mean(tf.nn.sparse_softmax_cross_entropy_with_logits(logits[1], tf_train_labels[:, 1])) + \\\n",
    "            tf.reduce_mean(tf.nn.sparse_softmax_cross_entropy_with_logits(logits[2], tf_train_labels[:, 2])) + \\\n",
    "            tf.reduce_mean(tf.nn.sparse_softmax_cross_entropy_with_logits(logits[3], tf_train_labels[:, 3])) + \\\n",
    "            tf.reduce_mean(tf.nn.sparse_softmax_cross_entropy_with_logits(logits[4], tf_train_labels[:, 4]))\n",
    "    \n",
    "    regularizers = tf.nn.l2_loss(fc1_W) + \\\n",
    "                tf.nn.l2_loss(fc_d1_W) + \\\n",
    "                tf.nn.l2_loss(fc_d2_W) + \\\n",
    "                tf.nn.l2_loss(fc_d3_W) + \\\n",
    "                tf.nn.l2_loss(fc_d4_W) + \\\n",
    "                tf.nn.l2_loss(fc_d5_W)\n",
    "                \n",
    "    loss += 1e-2 * regularizers\n",
    "    \n",
    "    batch = tf.Variable(0, dtype=tf.float32)\n",
    "    \n",
    "    learning_rate = tf.constant(0.04)\n",
    "    \n",
    "    #decayed_learning_rate = learning_rate *\n",
    "    #                    decay_rate ^ (global_step / decay_steps)\n",
    "#     learning_rate = tf.train.exponential_decay(\n",
    "#         0.04, # Base learning rate\n",
    "#         batch * BATCH_SIZE, # Current index into the dataset\n",
    "#         train_labels.shape[0], # Decay step\n",
    "#         0.95, # Decay rate,\n",
    "#         staircase=True\n",
    "#     )\n",
    "    \n",
    "    optimizer = tf.train.AdagradOptimizer(learning_rate, 0.9).minimize(loss, global_step=batch)\n",
    "    \n",
    "    train_prediction = predict(logits)\n",
    "    valid_prediction = predict(model(tf_valid_dataset))\n",
    "    \n",
    "    train_accuracy = accuracy(train_prediction, tf_train_labels)\n",
    "    valid_accuracy = accuracy(valid_prediction, tf_valid_labels)"
   ]
  },
  {
   "cell_type": "code",
   "execution_count": 28,
   "metadata": {
    "collapsed": false
   },
   "outputs": [],
   "source": [
    "def shuffle_in_unison_inplace(a, b):\n",
    "    # 随机打乱数据，同时保证数据和标签仍然相互对应\n",
    "    assert len(a) == len(b)\n",
    "    p = np.random.permutation(len(a))\n",
    "    return a[p], b[p]"
   ]
  },
  {
   "cell_type": "code",
   "execution_count": 29,
   "metadata": {
    "collapsed": false,
    "scrolled": false
   },
   "outputs": [
    {
     "name": "stdout",
     "output_type": "stream",
     "text": [
      "Initialized\n",
      "Random shuffle\n",
      "Step 400, \tMinibatch loss 19.0825, Learning rate 0.0400, Minibatch accuracy 29.69%, Validation accuracy 30.70% \n",
      "Random shuffle\n",
      "Step 800, \tMinibatch loss 14.2333, Learning rate 0.0400, Minibatch accuracy 31.25%, Validation accuracy 45.60% \n",
      "Random shuffle\n",
      "Step 1200, \tMinibatch loss 9.9948, Learning rate 0.0400, Minibatch accuracy 62.50%, Validation accuracy 55.18% \n",
      "Random shuffle\n",
      "Step 1600, \tMinibatch loss 7.9433, Learning rate 0.0400, Minibatch accuracy 65.62%, Validation accuracy 60.38% \n",
      "Random shuffle\n",
      "Step 2000, \tMinibatch loss 6.0067, Learning rate 0.0400, Minibatch accuracy 67.19%, Validation accuracy 63.85% \n",
      "Step 2400, \tMinibatch loss 4.8136, Learning rate 0.0400, Minibatch accuracy 71.88%, Validation accuracy 63.49% \n",
      "Random shuffle\n",
      "Step 2800, \tMinibatch loss 4.2582, Learning rate 0.0400, Minibatch accuracy 73.44%, Validation accuracy 66.61% \n",
      "Random shuffle\n",
      "Step 3200, \tMinibatch loss 3.2431, Learning rate 0.0400, Minibatch accuracy 78.12%, Validation accuracy 70.32% \n",
      "Random shuffle\n",
      "Step 3600, \tMinibatch loss 3.1759, Learning rate 0.0400, Minibatch accuracy 68.75%, Validation accuracy 69.84% \n",
      "Random shuffle\n",
      "Step 4000, \tMinibatch loss 2.7947, Learning rate 0.0400, Minibatch accuracy 73.44%, Validation accuracy 71.99% \n",
      "Step 4400, \tMinibatch loss 2.6937, Learning rate 0.0400, Minibatch accuracy 75.00%, Validation accuracy 72.11% \n",
      "Random shuffle\n",
      "Step 4800, \tMinibatch loss 1.9199, Learning rate 0.0400, Minibatch accuracy 85.94%, Validation accuracy 72.83% \n",
      "Random shuffle\n",
      "Step 5200, \tMinibatch loss 2.0668, Learning rate 0.0400, Minibatch accuracy 76.56%, Validation accuracy 72.77% \n",
      "Random shuffle\n",
      "Step 5600, \tMinibatch loss 1.9112, Learning rate 0.0400, Minibatch accuracy 79.69%, Validation accuracy 73.55% \n",
      "Random shuffle\n",
      "Step 6000, \tMinibatch loss 1.5042, Learning rate 0.0400, Minibatch accuracy 90.62%, Validation accuracy 74.87% \n",
      "Step 6400, \tMinibatch loss 1.8986, Learning rate 0.0400, Minibatch accuracy 76.56%, Validation accuracy 74.03% \n",
      "Random shuffle\n",
      "Step 6800, \tMinibatch loss 1.2337, Learning rate 0.0400, Minibatch accuracy 92.19%, Validation accuracy 75.58% \n",
      "Random shuffle\n",
      "Step 7200, \tMinibatch loss 1.2141, Learning rate 0.0400, Minibatch accuracy 87.50%, Validation accuracy 75.28% \n",
      "Random shuffle\n",
      "Step 7600, \tMinibatch loss 1.2389, Learning rate 0.0400, Minibatch accuracy 85.94%, Validation accuracy 76.66% \n",
      "Random shuffle\n",
      "Step 8000, \tMinibatch loss 1.3510, Learning rate 0.0400, Minibatch accuracy 93.75%, Validation accuracy 76.24% \n",
      "Step 8400, \tMinibatch loss 1.7317, Learning rate 0.0400, Minibatch accuracy 81.25%, Validation accuracy 76.72% \n",
      "Random shuffle\n",
      "Step 8800, \tMinibatch loss 1.5642, Learning rate 0.0400, Minibatch accuracy 85.94%, Validation accuracy 76.60% \n",
      "Random shuffle\n",
      "Step 9200, \tMinibatch loss 1.4071, Learning rate 0.0400, Minibatch accuracy 93.75%, Validation accuracy 76.18% \n",
      "Random shuffle\n",
      "Step 9600, \tMinibatch loss 0.9907, Learning rate 0.0400, Minibatch accuracy 96.88%, Validation accuracy 76.66% \n",
      "Random shuffle\n",
      "Step 10000, \tMinibatch loss 1.0777, Learning rate 0.0400, Minibatch accuracy 87.50%, Validation accuracy 75.58% \n"
     ]
    }
   ],
   "source": [
    "SHOW_STATE_AFTER = 400\n",
    "\n",
    "train_accuracies = []\n",
    "valid_accuracies = []\n",
    "\n",
    "best_valid_accuracy = 0\n",
    "best_accuracy_step = 0\n",
    "stop_after_step_no_progress = 5200\n",
    "\n",
    "\n",
    "with tf.Session(graph=graph) as session:\n",
    "    tf.initialize_all_variables().run()\n",
    "    print('Initialized')\n",
    "    offset = 0\n",
    "    \n",
    "    step = 0\n",
    "    while True:\n",
    "        step += 1\n",
    "        # 扫描一遍训练数据后，随机打乱训练数据的顺序\n",
    "        if(offset == 0):\n",
    "            train_dataset, train_labels = shuffle_in_unison_inplace(train_dataset, train_labels)\n",
    "            print('Random shuffle')\n",
    "        feed_dict = {\n",
    "            tf_train_dataset : train_dataset[offset:(offset + BATCH_SIZE)], \n",
    "            tf_train_labels : train_labels[offset:(offset + BATCH_SIZE)]\n",
    "        }\n",
    "        offset += BATCH_SIZE\n",
    "        if offset+BATCH_SIZE > train_labels.shape[0]:\n",
    "            offset = 0\n",
    "        _, l, lr = session.run([optimizer, loss, learning_rate], feed_dict=feed_dict)\n",
    "        \n",
    "        \n",
    "        if (step % SHOW_STATE_AFTER == 0):\n",
    "            # 训练集准确率和交叉验证集准确率只需要在打印输出的时候计算\n",
    "            train_acc, valid_acc = session.run([train_accuracy, valid_accuracy], feed_dict=feed_dict)\n",
    "            \n",
    "            # 星号表示交叉验证集上的准确率有提升\n",
    "            improved_str = ''\n",
    "#             if valid_acc > best_valid_accuracy:\n",
    "#                 saver.save(session, 'multi22.ckpt', write_meta_graph=False)\n",
    "#                 best_valid_accuracy = valid_acc\n",
    "#                 best_accuracy_step = step\n",
    "#                 improved_str = '*'\n",
    "            \n",
    "            train_accuracies.append(train_acc)\n",
    "            valid_accuracies.append(valid_acc)\n",
    "            print('Step %d, \\tMinibatch loss %.4f, Learning rate %.4f, Minibatch accuracy %.2f%%, Validation accuracy %.2f%% %s'\\\n",
    "                  % (step, l, lr, train_acc, valid_acc, improved_str))\n",
    "            \n",
    "            # stop_after_step_no_progress步内，交叉验证集准确率没有提升，终止训练\n",
    "#             if step - best_accuracy_step > stop_after_step_no_progress:\n",
    "#                 print(\"Valid accuracy makes no progress in {} steps\".format(stop_after_step_no_progress))\n",
    "#                 break\n",
    "            if step >= 10000:\n",
    "                saver.save(session, 'multi22.ckpt', write_meta_graph=False)\n",
    "                break"
   ]
  },
  {
   "cell_type": "markdown",
   "metadata": {},
   "source": [
    "### 学习曲线\n",
    "\n",
    "在训练过程中，准确率在训练集和交叉验证集上的变化情况。"
   ]
  },
  {
   "cell_type": "code",
   "execution_count": 19,
   "metadata": {
    "collapsed": false
   },
   "outputs": [
    {
     "data": {
      "text/plain": [
       "<matplotlib.legend.Legend at 0x7f089c0dca58>"
      ]
     },
     "execution_count": 19,
     "metadata": {},
     "output_type": "execute_result"
    },
    {
     "data": {
      "image/png": "[encoded data removed]",
      "text/plain": [
       "<matplotlib.figure.Figure at 0x7f08b759dd30>"
      ]
     },
     "metadata": {},
     "output_type": "display_data"
    }
   ],
   "source": [
    "plt.plot(range(0, step, SHOW_STATE_AFTER), train_accuracies)\n",
    "plt.plot(range(0, step, SHOW_STATE_AFTER), valid_accuracies)\n",
    "plt.title('Learning curve')\n",
    "plt.xlabel('Number of steps')\n",
    "plt.ylabel('Accuracy(%)')\n",
    "plt.legend(['Train accuracy', 'Valid accuracy'], loc='best')"
   ]
  },
  {
   "cell_type": "code",
   "execution_count": null,
   "metadata": {
    "collapsed": true
   },
   "outputs": [],
   "source": []
  }
 ],
 "metadata": {
  "anaconda-cloud": {},
  "kernelspec": {
   "display_name": "Python [Root]",
   "language": "python",
   "name": "Python [Root]"
  },
  "language_info": {
   "codemirror_mode": {
    "name": "ipython",
    "version": 3
   },
   "file_extension": ".py",
   "mimetype": "text/x-python",
   "name": "python",
   "nbconvert_exporter": "python",
   "pygments_lexer": "ipython3",
   "version": "3.5.2"
  }
 },
 "nbformat": 4,
 "nbformat_minor": 0
}
